{
 "cells": [
  {
   "cell_type": "markdown",
   "metadata": {},
   "source": [
    "TEXT"
   ]
  },
  {
   "cell_type": "code",
   "execution_count": 1,
   "metadata": {},
   "outputs": [],
   "source": [
    "# IMPORTS\n",
    "import random\n",
    "import numpy as np\n",
    "import pandas as pd\n",
    "\n",
    "from deap import algorithms\n",
    "from deap import base\n",
    "from deap import creator\n",
    "from deap import tools\n",
    "\n",
    "from ProblemScripts import load_problem_KP"
   ]
  },
  {
   "cell_type": "code",
   "execution_count": 2,
   "metadata": {},
   "outputs": [],
   "source": [
    "# Set random seed to ensure reproducibility\n",
    "random.seed(37)"
   ]
  },
  {
   "cell_type": "code",
   "execution_count": 3,
   "metadata": {},
   "outputs": [
    {
     "name": "stdout",
     "output_type": "stream",
     "text": [
      "number of items: 10\n",
      "max weight: 269\n",
      "values: [55 10 47  5  4 50  8 61 85 87]\n",
      "weights: [95  4 60 32 23 72 80 62 65 46]\n",
      "optimal solution: 295\n"
     ]
    }
   ],
   "source": [
    "n_items, capacity, optimal, values, weights, items_dict = load_problem_KP('f1_l-d_kp_10_269')\n",
    "# load_problem_KP('knapPI_1_100_1000_1')"
   ]
  },
  {
   "cell_type": "code",
   "execution_count": 15,
   "metadata": {},
   "outputs": [],
   "source": [
    "def knapsack_fitness(solution, values, weights, capacity):\n",
    "    total_weight = np.dot(solution, weights)\n",
    "    total_value = np.dot(solution, values)\n",
    "    if total_weight > capacity:\n",
    "        return 0  # Invalid solution\n",
    "    return total_value"
   ]
  },
  {
   "cell_type": "code",
   "execution_count": 16,
   "metadata": {},
   "outputs": [],
   "source": [
    "def generate_random_solution(length):\n",
    "    return np.random.randint(2, size=length)"
   ]
  },
  {
   "cell_type": "code",
   "execution_count": 17,
   "metadata": {},
   "outputs": [
    {
     "name": "stdout",
     "output_type": "stream",
     "text": [
      "[1 0 1 1 0 0 1 0 1 0 1 1 1 0 1 0 1 1 1 0]\n",
      "724\n"
     ]
    }
   ],
   "source": [
    "test_sol = generate_random_solution(n_items)\n",
    "test_sol_fitness = knapsack_fitness(test_sol, values, weights, capacity)\n",
    "print(test_sol)\n",
    "print(test_sol_fitness)"
   ]
  },
  {
   "cell_type": "code",
   "execution_count": 4,
   "metadata": {},
   "outputs": [],
   "source": [
    "def evalIndividual(individual):\n",
    "    weight = 0\n",
    "    value = 0\n",
    "    for i in range(n_items):\n",
    "        value += items_dict[i][0] * individual[i]\n",
    "        weight += items_dict[i][1] * individual[i]\n",
    "    if weight > capacity:\n",
    "        return (0,)\n",
    "    return (value,)\n",
    "\n",
    "def BasicEA(pop_size, n_generations):\n",
    "    # Create fitness class\n",
    "    creator.create(\"FitnessMax\", base.Fitness, weights=(1.0,))\n",
    "    # weights is positive to signify maximisation of fitness, use negative to minimise\n",
    "    # weights must be a tuple to allow to single and multi objective problems\n",
    "    # to be treated in the same way\n",
    "\n",
    "    # create individual class\n",
    "    creator.create(\"Individual\", list, fitness=creator.FitnessMax)\n",
    "\n",
    "    toolbox = base.Toolbox() # Initialise DEAP toolbox\n",
    "    toolbox.register(\"attr_int\", random.randint, 0, 1) # generate atributes of 0 or 1\n",
    "    toolbox.register(\"individual\", tools.initRepeat, creator.Individual, toolbox.attr_int, n=n_items)\n",
    "    toolbox.register(\"population\", tools.initRepeat, list, toolbox.individual)\n",
    "\n",
    "    toolbox.register(\"mate\", tools.cxTwoPoint)\n",
    "    toolbox.register(\"mutate\", tools.mutFlipBit, indpb=0.05)\n",
    "    # toolbox.register(\"select\", tools.selBest)\n",
    "    toolbox.register(\"select\", tools.selTournament, tournsize=3)\n",
    "    toolbox.register(\"evaluate\", evalIndividual)\n",
    "\n",
    "    gen = 0\n",
    "    # initialise population\n",
    "    population = toolbox.population(pop_size)\n",
    "    # print(population)\n",
    "\n",
    "    ngen, cxpb, mutpb = n_generations, 0.5, 0.2  # Number of generations, crossover probability, mutation probability\n",
    "\n",
    "    hof = tools.HallOfFame(1)\n",
    "    stats = tools.Statistics(lambda ind: ind.fitness.values)\n",
    "    stats.register(\"avg\", lambda x: sum(f[0] for f in x) / len(x))\n",
    "    stats.register(\"max\", lambda x: max(f[0] for f in x))\n",
    "\n",
    "    algorithms.eaSimple(population, toolbox, cxpb, mutpb, ngen, stats=stats, halloffame=hof, verbose=True)\n",
    "\n",
    "    best_ind = hof[0]\n",
    "    print(f\"Best individual: {best_ind}, Value: {evalIndividual(best_ind)[0]}\")\n"
   ]
  },
  {
   "cell_type": "code",
   "execution_count": 14,
   "metadata": {},
   "outputs": [
    {
     "name": "stdout",
     "output_type": "stream",
     "text": [
      "gen\tnevals\tavg  \tmax\n",
      "0  \t500   \t77.86\t290\n",
      "1  \t293   \t133.738\t295\n",
      "2  \t290   \t179.12 \t295\n",
      "3  \t281   \t194.408\t295\n",
      "4  \t307   \t208.03 \t295\n",
      "5  \t302   \t231.542\t295\n",
      "6  \t287   \t241.518\t295\n",
      "7  \t294   \t259.364\t295\n",
      "8  \t280   \t276.422\t295\n",
      "9  \t306   \t281.462\t295\n",
      "10 \t320   \t285.534\t295\n",
      "Best individual: [0, 1, 1, 1, 0, 0, 0, 1, 1, 1], Value: 295\n"
     ]
    }
   ],
   "source": [
    "BasicEA(500, 10)"
   ]
  },
  {
   "cell_type": "code",
   "execution_count": null,
   "metadata": {},
   "outputs": [],
   "source": [
    "def BasicEA_TT(pop_size, n_generations):\n",
    "    # Create fitness class\n",
    "    creator.create(\"FitnessMax\", base.Fitness, weights=(1.0,))\n",
    "    # weights is positive to signify maximisation of fitness, use negative to minimise\n",
    "    # weights must be a tuple to allow to single and multi objective problems\n",
    "    # to be treated in the same way\n",
    "\n",
    "    # create individual class\n",
    "    creator.create(\"Individual\", list, fitness=creator.FitnessMax)\n",
    "\n",
    "    toolbox = base.Toolbox() # Initialise DEAP toolbox\n",
    "    toolbox.register(\"attr_int\", random.randint, 0, 1) # generate atributes of 0 or 1\n",
    "    toolbox.register(\"individual\", tools.initRepeat, creator.Individual, toolbox.attr_int, n=n_items)\n",
    "    toolbox.register(\"population\", tools.initRepeat, list, toolbox.individual)\n",
    "\n",
    "    toolbox.register(\"mate\", tools.cxTwoPoint)\n",
    "    toolbox.register(\"mutate\", tools.mutFlipBit, indpb=0.05)\n",
    "    # toolbox.register(\"select\", tools.selBest)\n",
    "    toolbox.register(\"select\", tools.selTournament, tournsize=3)\n",
    "    toolbox.register(\"evaluate\", evalIndividual)\n",
    "\n",
    "    gen = 0\n",
    "    # initialise population\n",
    "    population = toolbox.population(pop_size)\n",
    "    # print(population)\n",
    "\n",
    "    ngen, cxpb, mutpb = n_generations, 0.5, 0.2  # Number of generations, crossover probability, mutation probability\n",
    "\n",
    "    hof = tools.HallOfFame(1)\n",
    "    stats = tools.Statistics(lambda ind: ind.fitness.values)\n",
    "    stats.register(\"avg\", lambda x: sum(f[0] for f in x) / len(x))\n",
    "    stats.register(\"max\", lambda x: max(f[0] for f in x))\n",
    "\n",
    "    algorithms.eaSimple(population, toolbox, cxpb, mutpb, ngen, stats=stats, halloffame=hof, verbose=True)\n",
    "\n",
    "    best_ind = hof[0]\n",
    "    print(f\"Best individual: {best_ind}, Value: {evalIndividual(best_ind)[0]}\")\n"
   ]
  }
 ],
 "metadata": {
  "kernelspec": {
   "display_name": "EA",
   "language": "python",
   "name": "python3"
  },
  "language_info": {
   "codemirror_mode": {
    "name": "ipython",
    "version": 3
   },
   "file_extension": ".py",
   "mimetype": "text/x-python",
   "name": "python",
   "nbconvert_exporter": "python",
   "pygments_lexer": "ipython3",
   "version": "3.11.10"
  }
 },
 "nbformat": 4,
 "nbformat_minor": 2
}
