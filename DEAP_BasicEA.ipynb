{
 "cells": [
  {
   "cell_type": "markdown",
   "metadata": {},
   "source": [
    "TEXT"
   ]
  },
  {
   "cell_type": "code",
   "execution_count": 12,
   "metadata": {},
   "outputs": [],
   "source": [
    "# IMPORTS\n",
    "import random\n",
    "import numpy as np\n",
    "import pandas as pd\n",
    "\n",
    "from deap import algorithms\n",
    "from deap import base\n",
    "from deap import creator\n",
    "from deap import tools"
   ]
  },
  {
   "cell_type": "code",
   "execution_count": 13,
   "metadata": {},
   "outputs": [],
   "source": [
    "# Set random seed to ensure reproducibility\n",
    "random.seed(37)"
   ]
  },
  {
   "cell_type": "code",
   "execution_count": 14,
   "metadata": {},
   "outputs": [
    {
     "name": "stdout",
     "output_type": "stream",
     "text": [
      "number of items: 20\n",
      "max weight: 878\n",
      "values: [44 46 90 72 91 40 75 35  8 54 78 40 77 15 61 17 75 29 75 63]\n",
      "weights: [92  4 43 83 84 68 92 82  6 44 32 18 56 83 25 96 70 48 14 58]\n"
     ]
    }
   ],
   "source": [
    "# file_path = 'instances_01_KP/low-dimensional/f1_l-d_kp_10_269'\n",
    "file_path = 'instances_01_KP/low-dimensional/f2_l-d_kp_20_878'\n",
    "# file_path = 'instances_01_KP/large_scale/knapPI_1_100_1000_1'\n",
    "\n",
    "data = np.loadtxt(file_path, dtype=int, usecols=(0, 1))\n",
    "col_1 = data[:, 0]\n",
    "col_2 = data[:, 1]\n",
    "\n",
    "n_items = col_1[0]\n",
    "capacity = col_2[0]\n",
    "\n",
    "values = data[1:, 0]\n",
    "weights = data[1:, 1]\n",
    "\n",
    "# print(\"First Column:\", col_1)\n",
    "# print(\"Second Column:\", col_2)\n",
    "print(\"number of items:\", n_items)\n",
    "print(\"max weight:\", capacity)\n",
    "print(\"values:\", values)\n",
    "print(\"weights:\", weights)"
   ]
  },
  {
   "cell_type": "code",
   "execution_count": 15,
   "metadata": {},
   "outputs": [],
   "source": [
    "def knapsack_fitness(solution, values, weights, capacity):\n",
    "    total_weight = np.dot(solution, weights)\n",
    "    total_value = np.dot(solution, values)\n",
    "    if total_weight > capacity:\n",
    "        return 0  # Invalid solution\n",
    "    return total_value"
   ]
  },
  {
   "cell_type": "code",
   "execution_count": 16,
   "metadata": {},
   "outputs": [],
   "source": [
    "def generate_random_solution(length):\n",
    "    return np.random.randint(2, size=length)"
   ]
  },
  {
   "cell_type": "code",
   "execution_count": 17,
   "metadata": {},
   "outputs": [
    {
     "name": "stdout",
     "output_type": "stream",
     "text": [
      "[1 0 1 1 0 0 1 0 1 0 1 1 1 0 1 0 1 1 1 0]\n",
      "724\n"
     ]
    }
   ],
   "source": [
    "test_sol = generate_random_solution(n_items)\n",
    "test_sol_fitness = knapsack_fitness(test_sol, values, weights, capacity)\n",
    "print(test_sol)\n",
    "print(test_sol_fitness)"
   ]
  },
  {
   "cell_type": "code",
   "execution_count": 18,
   "metadata": {},
   "outputs": [
    {
     "name": "stdout",
     "output_type": "stream",
     "text": [
      "{0: (44, 92), 1: (46, 4), 2: (90, 43), 3: (72, 83), 4: (91, 84), 5: (40, 68), 6: (75, 92), 7: (35, 82), 8: (8, 6), 9: (54, 44), 10: (78, 32), 11: (40, 18), 12: (77, 56), 13: (15, 83), 14: (61, 25), 15: (17, 96), 16: (75, 70), 17: (29, 48), 18: (75, 14), 19: (63, 58)}\n",
      "20\n",
      "83\n"
     ]
    }
   ],
   "source": [
    "# Store problem items in dictionary\n",
    "\n",
    "items = {}\n",
    "for i in range(n_items):\n",
    "    items[i] = (values[i], weights[i])\n",
    "\n",
    "print(items)\n",
    "print(len(items))\n",
    "print(items[3][1])"
   ]
  },
  {
   "cell_type": "code",
   "execution_count": 19,
   "metadata": {},
   "outputs": [
    {
     "name": "stderr",
     "output_type": "stream",
     "text": [
      "c:\\Users\\Admin\\anaconda3\\envs\\EA\\Lib\\site-packages\\deap\\creator.py:185: RuntimeWarning: A class named 'FitnessMax' has already been created and it will be overwritten. Consider deleting previous creation of that class or rename it.\n",
      "  warnings.warn(\"A class named '{0}' has already been created and it \"\n",
      "c:\\Users\\Admin\\anaconda3\\envs\\EA\\Lib\\site-packages\\deap\\creator.py:185: RuntimeWarning: A class named 'Individual' has already been created and it will be overwritten. Consider deleting previous creation of that class or rename it.\n",
      "  warnings.warn(\"A class named '{0}' has already been created and it \"\n"
     ]
    }
   ],
   "source": [
    "# Create fitness class\n",
    "creator.create(\"FitnessMax\", base.Fitness, weights=(1.0,))\n",
    "# weights is positive to signify maximisation of fitness, use negative to minimise\n",
    "# weights must be a tuple to allow to single and multi objective problems\n",
    "# to be treated in the same way\n",
    "\n",
    "# create individual class\n",
    "creator.create(\"Individual\", list, fitness=creator.FitnessMax)\n",
    "\n",
    "IND_SIZE = len(items) # number of genes in individual\n",
    "\n",
    "def evalIndividual(individual):\n",
    "    weight = 0\n",
    "    value = 0\n",
    "    # print(individual)\n",
    "    for i in range(IND_SIZE):\n",
    "        value += items[i][0] * individual[i]\n",
    "        weight += items[i][1] * individual[i]\n",
    "    if weight > capacity:\n",
    "        return (0,)\n",
    "    # print(value)\n",
    "    return (value,)\n",
    "\n",
    "toolbox = base.Toolbox() # Initialise DEAP toolbox\n",
    "toolbox.register(\"attr_int\", random.randint, 0, 1) # generate atributes of 0 or 1\n",
    "toolbox.register(\"individual\", tools.initRepeat, creator.Individual, toolbox.attr_int, n=IND_SIZE)\n",
    "toolbox.register(\"population\", tools.initRepeat, list, toolbox.individual)\n",
    "\n",
    "toolbox.register(\"mate\", tools.cxTwoPoint)\n",
    "toolbox.register(\"mutate\", tools.mutFlipBit, indpb=0.05)\n",
    "# toolbox.register(\"select\", tools.selBest)\n",
    "toolbox.register(\"select\", tools.selTournament, tournsize=3)\n",
    "toolbox.register(\"evaluate\", evalIndividual)\n",
    "\n",
    "\n",
    "\n",
    "def BasicEA(pop_size, n_generations):\n",
    "    gen = 0\n",
    "    # initialise population\n",
    "    population = toolbox.population(pop_size)\n",
    "    # print(population)\n",
    "\n",
    "    ngen, cxpb, mutpb = n_generations, 0.5, 0.2  # Number of generations, crossover probability, mutation probability\n",
    "\n",
    "    hof = tools.HallOfFame(1)\n",
    "    stats = tools.Statistics(lambda ind: ind.fitness.values)\n",
    "    stats.register(\"avg\", lambda x: sum(f[0] for f in x) / len(x))\n",
    "    stats.register(\"max\", lambda x: max(f[0] for f in x))\n",
    "\n",
    "    algorithms.eaSimple(population, toolbox, cxpb, mutpb, ngen, stats=stats, halloffame=hof, verbose=True)\n",
    "\n",
    "    best_ind = hof[0]\n",
    "    print(f\"Best individual: {best_ind}, Value: {evalIndividual(best_ind)[0]}\")\n"
   ]
  },
  {
   "cell_type": "code",
   "execution_count": 20,
   "metadata": {},
   "outputs": [
    {
     "name": "stdout",
     "output_type": "stream",
     "text": [
      "gen\tnevals\tavg    \tmax\n",
      "0  \t500   \t537.038\t905\n",
      "1  \t290   \t644.612\t956\n",
      "2  \t277   \t711.168\t956\n",
      "3  \t287   \t751.506\t997\n",
      "4  \t297   \t765.644\t1018\n",
      "5  \t335   \t780.054\t1018\n",
      "6  \t265   \t840.33 \t1018\n",
      "7  \t309   \t861.438\t1018\n",
      "8  \t313   \t882.284\t1024\n",
      "9  \t330   \t901.392\t1024\n",
      "10 \t311   \t937.474\t1024\n",
      "Best individual: [1, 1, 1, 1, 1, 1, 1, 1, 1, 1, 1, 1, 1, 0, 1, 0, 1, 0, 1, 1], Value: 1024\n"
     ]
    }
   ],
   "source": [
    "BasicEA(500, 10)"
   ]
  }
 ],
 "metadata": {
  "kernelspec": {
   "display_name": "EA",
   "language": "python",
   "name": "python3"
  },
  "language_info": {
   "codemirror_mode": {
    "name": "ipython",
    "version": 3
   },
   "file_extension": ".py",
   "mimetype": "text/x-python",
   "name": "python",
   "nbconvert_exporter": "python",
   "pygments_lexer": "ipython3",
   "version": "3.11.10"
  }
 },
 "nbformat": 4,
 "nbformat_minor": 2
}
