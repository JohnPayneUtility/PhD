{
 "cells": [
  {
   "cell_type": "markdown",
   "metadata": {},
   "source": [
    "TEXT"
   ]
  },
  {
   "cell_type": "code",
   "execution_count": 14,
   "metadata": {},
   "outputs": [],
   "source": [
    "# IMPORTS\n",
    "import random\n",
    "import numpy as np\n",
    "import pandas as pd\n",
    "\n",
    "from deap import algorithms\n",
    "from deap import base\n",
    "from deap import creator\n",
    "from deap import tools"
   ]
  },
  {
   "cell_type": "code",
   "execution_count": 15,
   "metadata": {},
   "outputs": [],
   "source": [
    "# Set random seed to ensure reproducibility\n",
    "random.seed(37)"
   ]
  },
  {
   "cell_type": "code",
   "execution_count": 16,
   "metadata": {},
   "outputs": [
    {
     "name": "stdout",
     "output_type": "stream",
     "text": [
      "number of items: 23\n",
      "max weight: 10000\n",
      "values: [981 980 979 978 977 976 487 974 970 485 485 970 970 484 484 976 974 482\n",
      " 962 961 959 958 857]\n",
      "weights: [983 982 981 980 979 978 488 976 972 486 486 972 972 485 485 969 966 483\n",
      " 964 963 961 958 959]\n"
     ]
    }
   ],
   "source": [
    "# file_path = 'instances_01_KP/low-dimensional/f1_l-d_kp_10_269'\n",
    "# file_path = 'instances_01_KP/low-dimensional/f2_l-d_kp_20_878'\n",
    "file_path = 'instances_01_KP/low-dimensional/f8_l-d_kp_23_10000'\n",
    "\n",
    "# file_path = 'instances_01_KP/large_scale/knapPI_1_100_1000_1'\n",
    "\n",
    "data = np.loadtxt(file_path, dtype=int, usecols=(0, 1))\n",
    "col_1 = data[:, 0]\n",
    "col_2 = data[:, 1]\n",
    "\n",
    "n_items = col_1[0]\n",
    "capacity = col_2[0]\n",
    "\n",
    "values = data[1:, 0]\n",
    "weights = data[1:, 1]\n",
    "\n",
    "# print(\"First Column:\", col_1)\n",
    "# print(\"Second Column:\", col_2)\n",
    "print(\"number of items:\", n_items)\n",
    "print(\"max weight:\", capacity)\n",
    "print(\"values:\", values)\n",
    "print(\"weights:\", weights)"
   ]
  },
  {
   "cell_type": "code",
   "execution_count": 17,
   "metadata": {},
   "outputs": [],
   "source": [
    "def knapsack_fitness(solution, values, weights, capacity):\n",
    "    total_weight = np.dot(solution, weights)\n",
    "    total_value = np.dot(solution, values)\n",
    "    if total_weight > capacity:\n",
    "        return 0  # Invalid solution\n",
    "    return total_value"
   ]
  },
  {
   "cell_type": "code",
   "execution_count": 18,
   "metadata": {},
   "outputs": [],
   "source": [
    "def generate_random_solution(length):\n",
    "    return np.random.randint(2, size=length)"
   ]
  },
  {
   "cell_type": "code",
   "execution_count": 19,
   "metadata": {},
   "outputs": [
    {
     "name": "stdout",
     "output_type": "stream",
     "text": [
      "{0: (981, 983), 1: (980, 982), 2: (979, 981), 3: (978, 980), 4: (977, 979), 5: (976, 978), 6: (487, 488), 7: (974, 976), 8: (970, 972), 9: (485, 486), 10: (485, 486), 11: (970, 972), 12: (970, 972), 13: (484, 485), 14: (484, 485), 15: (976, 969), 16: (974, 966), 17: (482, 483), 18: (962, 964), 19: (961, 963), 20: (959, 961), 21: (958, 958), 22: (857, 959)}\n",
      "23\n",
      "980\n"
     ]
    }
   ],
   "source": [
    "# Store problem items in dictionary\n",
    "\n",
    "items = {}\n",
    "for i in range(n_items):\n",
    "    items[i] = (values[i], weights[i])\n",
    "\n",
    "print(items)\n",
    "print(len(items))\n",
    "print(items[3][1])"
   ]
  },
  {
   "cell_type": "code",
   "execution_count": 20,
   "metadata": {},
   "outputs": [],
   "source": [
    "# Fitness function\n",
    "\n",
    "def evalIndividual(individual):\n",
    "    weight = 0\n",
    "    value = 0\n",
    "    # print(individual)\n",
    "    for i in range(n_items):\n",
    "        value += items[i][0] * individual[i]\n",
    "        weight += items[i][1] * individual[i]\n",
    "    if weight > capacity:\n",
    "        return (0,)\n",
    "    # print(value)\n",
    "    return (value,)"
   ]
  },
  {
   "cell_type": "code",
   "execution_count": 21,
   "metadata": {},
   "outputs": [],
   "source": [
    "def umda_update_full(population, pop_size, select_size, replace_size, toolbox):\n",
    "    # select from population\n",
    "    selected_population = tools.selBest(population, select_size)\n",
    "\n",
    "    # Calculate marginal propabilities\n",
    "    probabilities = np.mean(selected_population, axis=0)\n",
    "\n",
    "    new_solutions = []\n",
    "    for _ in range(pop_size):\n",
    "        new_solution = np.random.rand(n_items) < probabilities\n",
    "        new_solution = creator.Individual(new_solution.astype(int).tolist())  # Create as DEAP Individual\n",
    "        new_solutions.append(new_solution)\n",
    "    \n",
    "    return population\n",
    "\n",
    "def umda_update_partial(population, pop_size, select_size, replace_size, toolbox):\n",
    "    # select from population\n",
    "    selected_population = tools.selBest(population, select_size)\n",
    "\n",
    "    # Calculate marginal propabilities\n",
    "    probabilities = np.mean(selected_population, axis=0)\n",
    "\n",
    "    new_solutions = []\n",
    "    for _ in range(replace_size):\n",
    "        new_solution = np.random.rand(n_items) < probabilities\n",
    "        new_solution = creator.Individual(new_solution.astype(int).tolist())  # Create as DEAP Individual\n",
    "        new_solutions.append(new_solution)\n",
    "    \n",
    "    weakest_individuals = tools.selWorst(population, replace_size)\n",
    "    \n",
    "    for i in range(replace_size):\n",
    "        population[population.index(weakest_individuals[i])] = new_solutions[i]\n",
    "    \n",
    "    return population"
   ]
  },
  {
   "cell_type": "code",
   "execution_count": 22,
   "metadata": {},
   "outputs": [
    {
     "name": "stderr",
     "output_type": "stream",
     "text": [
      "c:\\Users\\Admin\\anaconda3\\envs\\EA\\Lib\\site-packages\\deap\\creator.py:185: RuntimeWarning: A class named 'FitnessMax' has already been created and it will be overwritten. Consider deleting previous creation of that class or rename it.\n",
      "  warnings.warn(\"A class named '{0}' has already been created and it \"\n",
      "c:\\Users\\Admin\\anaconda3\\envs\\EA\\Lib\\site-packages\\deap\\creator.py:185: RuntimeWarning: A class named 'Individual' has already been created and it will be overwritten. Consider deleting previous creation of that class or rename it.\n",
      "  warnings.warn(\"A class named '{0}' has already been created and it \"\n"
     ]
    }
   ],
   "source": [
    "# Create fitness class\n",
    "creator.create(\"FitnessMax\", base.Fitness, weights=(1.0,))\n",
    "# weights is positive to signify maximisation of fitness, use negative to minimise\n",
    "# weights must be a tuple to allow to single and multi objective problems\n",
    "# to be treated in the same way\n",
    "\n",
    "# create individual class\n",
    "creator.create(\"Individual\", list, fitness=creator.FitnessMax)\n",
    "\n",
    "toolbox = base.Toolbox() # Initialise DEAP toolbox\n",
    "toolbox.register(\"attr_int\", random.randint, 0, 1) # generate atributes of 0 or 1\n",
    "toolbox.register(\"individual\", tools.initRepeat, creator.Individual, toolbox.attr_int, n=n_items)\n",
    "toolbox.register(\"population\", tools.initRepeat, list, toolbox.individual)\n",
    "toolbox.register(\"select\", tools.selBest)\n",
    "toolbox.register(\"evaluate\", evalIndividual)\n",
    "\n",
    "def umda(pop_size, n_generations, select_size, replace_size):\n",
    "    # initialise population\n",
    "    population = toolbox.population(pop_size)\n",
    "    # print(population)\n",
    "\n",
    "    # determine fitness of initial population\n",
    "    fitnesses = list(map(toolbox.evaluate, population))\n",
    "    for ind, fit in zip(population, fitnesses):\n",
    "        ind.fitness.values = fit\n",
    "\n",
    "    for gen in range(n_generations):\n",
    "        # generate new population\n",
    "        population = umda_update_full(population, pop_size, select_size, replace_size, toolbox)\n",
    "\n",
    "        # determine fitness of new population\n",
    "        fitnesses = list(map(toolbox.evaluate, population))\n",
    "        for ind, fit in zip(population, fitnesses):\n",
    "            ind.fitness.values = fit\n",
    "        \n",
    "        best_ind = tools.selBest(population, 1)[0]\n",
    "\n",
    "        # print(f'Gen: {gen}, best sol: {best_ind}, best sol fitness: {best_ind.fitness.values[0]}')\n",
    "        print(f'Gen: {gen}, best sol fitness: {best_ind.fitness.values[0]}')\n",
    "    \n",
    "    print('End of Generations')\n",
    "    \n"
   ]
  },
  {
   "cell_type": "code",
   "execution_count": 24,
   "metadata": {},
   "outputs": [
    {
     "name": "stdout",
     "output_type": "stream",
     "text": [
      "Gen: 0, best sol fitness: 9728.0\n",
      "Gen: 1, best sol fitness: 9728.0\n",
      "Gen: 2, best sol fitness: 9728.0\n",
      "Gen: 3, best sol fitness: 9728.0\n",
      "Gen: 4, best sol fitness: 9728.0\n",
      "Gen: 5, best sol fitness: 9728.0\n",
      "Gen: 6, best sol fitness: 9728.0\n",
      "Gen: 7, best sol fitness: 9728.0\n",
      "Gen: 8, best sol fitness: 9728.0\n",
      "Gen: 9, best sol fitness: 9728.0\n",
      "Gen: 10, best sol fitness: 9728.0\n",
      "Gen: 11, best sol fitness: 9728.0\n",
      "Gen: 12, best sol fitness: 9728.0\n",
      "Gen: 13, best sol fitness: 9728.0\n",
      "Gen: 14, best sol fitness: 9728.0\n",
      "Gen: 15, best sol fitness: 9728.0\n",
      "Gen: 16, best sol fitness: 9728.0\n",
      "Gen: 17, best sol fitness: 9728.0\n",
      "Gen: 18, best sol fitness: 9728.0\n",
      "Gen: 19, best sol fitness: 9728.0\n",
      "Gen: 20, best sol fitness: 9728.0\n",
      "Gen: 21, best sol fitness: 9728.0\n",
      "Gen: 22, best sol fitness: 9728.0\n",
      "Gen: 23, best sol fitness: 9728.0\n",
      "Gen: 24, best sol fitness: 9728.0\n",
      "Gen: 25, best sol fitness: 9728.0\n",
      "Gen: 26, best sol fitness: 9728.0\n",
      "Gen: 27, best sol fitness: 9728.0\n",
      "Gen: 28, best sol fitness: 9728.0\n",
      "Gen: 29, best sol fitness: 9728.0\n",
      "Gen: 30, best sol fitness: 9728.0\n",
      "Gen: 31, best sol fitness: 9728.0\n",
      "Gen: 32, best sol fitness: 9728.0\n",
      "Gen: 33, best sol fitness: 9728.0\n",
      "Gen: 34, best sol fitness: 9728.0\n",
      "Gen: 35, best sol fitness: 9728.0\n",
      "Gen: 36, best sol fitness: 9728.0\n",
      "Gen: 37, best sol fitness: 9728.0\n",
      "Gen: 38, best sol fitness: 9728.0\n",
      "Gen: 39, best sol fitness: 9728.0\n",
      "Gen: 40, best sol fitness: 9728.0\n",
      "Gen: 41, best sol fitness: 9728.0\n",
      "Gen: 42, best sol fitness: 9728.0\n",
      "Gen: 43, best sol fitness: 9728.0\n",
      "Gen: 44, best sol fitness: 9728.0\n",
      "Gen: 45, best sol fitness: 9728.0\n",
      "Gen: 46, best sol fitness: 9728.0\n",
      "Gen: 47, best sol fitness: 9728.0\n",
      "Gen: 48, best sol fitness: 9728.0\n",
      "Gen: 49, best sol fitness: 9728.0\n",
      "End of Generations\n"
     ]
    }
   ],
   "source": [
    "umda(100, 50, 50, 0)"
   ]
  }
 ],
 "metadata": {
  "kernelspec": {
   "display_name": "EA",
   "language": "python",
   "name": "python3"
  },
  "language_info": {
   "codemirror_mode": {
    "name": "ipython",
    "version": 3
   },
   "file_extension": ".py",
   "mimetype": "text/x-python",
   "name": "python",
   "nbconvert_exporter": "python",
   "pygments_lexer": "ipython3",
   "version": "3.11.10"
  }
 },
 "nbformat": 4,
 "nbformat_minor": 2
}
