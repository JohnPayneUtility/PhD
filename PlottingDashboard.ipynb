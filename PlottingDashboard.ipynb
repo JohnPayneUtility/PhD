{
 "cells": [
  {
   "cell_type": "code",
   "execution_count": 1,
   "metadata": {},
   "outputs": [],
   "source": [
    "# %matplotlib widget"
   ]
  },
  {
   "cell_type": "code",
   "execution_count": 2,
   "metadata": {},
   "outputs": [],
   "source": [
    "# IMPORTS\n",
    "import random\n",
    "import numpy as np\n",
    "import pandas as pd\n",
    "\n",
    "import networkx as nx\n",
    "import matplotlib.pyplot as plt\n",
    "from mpl_toolkits.mplot3d import Axes3D\n",
    "from scipy.spatial.distance import pdist, squareform\n",
    "from sklearn.manifold import MDS\n",
    "\n",
    "from deap import algorithms\n",
    "from deap import base\n",
    "from deap import creator\n",
    "from deap import tools\n",
    "\n",
    "from functools import partial\n",
    "from ProblemScripts import load_problem_KP"
   ]
  },
  {
   "cell_type": "code",
   "execution_count": 3,
   "metadata": {},
   "outputs": [],
   "source": [
    "n_items = 30"
   ]
  },
  {
   "cell_type": "code",
   "execution_count": 4,
   "metadata": {},
   "outputs": [],
   "source": [
    "def OneMax_fitness(sol):\n",
    "    fit = sum(sol)\n",
    "    return fit\n",
    "\n",
    "def generate_zero_solution(length):\n",
    "    return np.zeros(length, dtype=int)"
   ]
  },
  {
   "cell_type": "code",
   "execution_count": 5,
   "metadata": {},
   "outputs": [],
   "source": [
    "def MutationOnlyEA(NGEN, popsize, tournsize, MUTPB, indpb, starting_solution=None):\n",
    "    if not hasattr(creator, \"OneMax_fitness\"):\n",
    "        creator.create(\"OneMax_fitness\", base.Fitness, weights=(1.0,))\n",
    "    if not hasattr(creator, \"Individual\"):\n",
    "        creator.create(\"Individual\", list, fitness=creator.OneMax_fitness)\n",
    "\n",
    "    # Define the toolbox\n",
    "    toolbox = base.Toolbox()\n",
    "    toolbox.register(\"attr_bool\", random.randint, 0, 1)\n",
    "    toolbox.register(\"individual\", tools.initRepeat, creator.Individual, toolbox.attr_bool, n=10)\n",
    "    toolbox.register(\"population\", tools.initRepeat, list, toolbox.individual)\n",
    "    toolbox.register(\"evaluate\", lambda ind: (sum(ind),))\n",
    "    toolbox.register(\"mutate\", tools.mutFlipBit, indpb=indpb)\n",
    "    toolbox.register(\"select\", tools.selTournament, tournsize=tournsize)\n",
    "\n",
    "    # Create an initial population\n",
    "    population = toolbox.population(n=popsize)\n",
    "\n",
    "    # Set starting solution if provided\n",
    "    if starting_solution is not None:\n",
    "        for ind in population:\n",
    "            ind[:] = starting_solution[:]\n",
    "\n",
    "    # Recording every generation's population\n",
    "    all_generations = []\n",
    "    best_solutions = []\n",
    "    best_fitnesses = []\n",
    "\n",
    "    # Evaluate the initial population\n",
    "    fitnesses = list(map(toolbox.evaluate, population))\n",
    "    for ind, fit in zip(population, fitnesses):\n",
    "        ind.fitness.values = fit\n",
    "\n",
    "    # Record initial population and best solution\n",
    "    all_generations.append([ind[:] for ind in population])\n",
    "    best_individual = max(population, key=lambda ind: ind.fitness.values)\n",
    "    best_solutions.append(toolbox.clone(best_individual))\n",
    "    best_fitnesses.append(best_individual.fitness.values[0])\n",
    "\n",
    "    # Evolutionary loop\n",
    "    for gen in range(NGEN):\n",
    "        # Select the offspring using tournament selection\n",
    "        offspring = [toolbox.clone(toolbox.select(population, 1)[0]) for _ in range(len(population))]\n",
    "\n",
    "        # Apply mutation on the offspring\n",
    "        for mutant in offspring:\n",
    "            if random.random() < MUTPB:\n",
    "                toolbox.mutate(mutant)\n",
    "                del mutant.fitness.values\n",
    "\n",
    "        # Evaluate the individuals with an invalid fitness\n",
    "        invalid_ind = [ind for ind in offspring if not ind.fitness.valid]\n",
    "        fitnesses = map(toolbox.evaluate, invalid_ind)\n",
    "        for ind, fit in zip(invalid_ind, fitnesses):\n",
    "            ind.fitness.values = fit\n",
    "\n",
    "        # Replace the weakest individuals in the population with the offspring regardless of fitness value\n",
    "        for mutant in offspring:\n",
    "            weakest_idx = min(range(len(population)), key=lambda idx: population[idx].fitness.values)\n",
    "            population[weakest_idx] = mutant\n",
    "\n",
    "        # Record current population and best solution\n",
    "        all_generations.append([ind[:] for ind in population])\n",
    "        best_individual = max(population, key=lambda ind: ind.fitness.values)\n",
    "        best_solutions.append(toolbox.clone(best_individual))\n",
    "        best_fitnesses.append(best_individual.fitness.values[0])\n",
    "\n",
    "    return all_generations, best_solutions, best_fitnesses\n"
   ]
  },
  {
   "cell_type": "code",
   "execution_count": 6,
   "metadata": {},
   "outputs": [],
   "source": [
    "def extract_trajectory_data(best_solutions, best_fitnesses):\n",
    "    # Extract unique solutions and their corresponding fitness values\n",
    "    unique_solutions = []\n",
    "    unique_fitnesses = []\n",
    "    solution_iterations = []\n",
    "    seen_solutions = {}\n",
    "\n",
    "    for solution, fitness in zip(best_solutions, best_fitnesses):\n",
    "        # Convert solution to a tuple to make it hashable\n",
    "        solution_tuple = tuple(solution)\n",
    "        if solution_tuple not in seen_solutions:\n",
    "            seen_solutions[solution_tuple] = 1\n",
    "            unique_solutions.append(solution)\n",
    "            unique_fitnesses.append(fitness)\n",
    "        else:\n",
    "            seen_solutions[solution_tuple] += 1\n",
    "\n",
    "    # Create a list of iteration counts for each unique solution\n",
    "    for solution in unique_solutions:\n",
    "        solution_tuple = tuple(solution)\n",
    "        solution_iterations.append(seen_solutions[solution_tuple])\n",
    "\n",
    "    return unique_solutions, unique_fitnesses, solution_iterations"
   ]
  },
  {
   "cell_type": "code",
   "execution_count": 7,
   "metadata": {},
   "outputs": [],
   "source": [
    "def extract_transitions(unique_solutions):\n",
    "    # Extract transitions between solutions over generations\n",
    "    transitions = []\n",
    "\n",
    "    for i in range(1, len(unique_solutions)):\n",
    "        prev_solution = tuple(unique_solutions[i - 1])\n",
    "        current_solution = tuple(unique_solutions[i])\n",
    "        transitions.append((prev_solution, current_solution))\n",
    "\n",
    "    return transitions"
   ]
  },
  {
   "cell_type": "code",
   "execution_count": 8,
   "metadata": {},
   "outputs": [],
   "source": [
    "def run_multiple_ea_runs(num_runs, NGEN, popsize, tournsize, MUTPB, indpb, starting_solution=None):\n",
    "    all_run_trajectories = []\n",
    "    for run in range(num_runs):\n",
    "        _, best_solutions, best_fitnesses = MutationOnlyEA(NGEN, popsize, tournsize, MUTPB, indpb, starting_solution)\n",
    "        unique_solutions, unique_fitnesses, solution_iterations = extract_trajectory_data(best_solutions, best_fitnesses)\n",
    "        transitions = extract_transitions(unique_solutions)\n",
    "        all_run_trajectories.append((unique_solutions, unique_fitnesses, solution_iterations, transitions))\n",
    "    return all_run_trajectories"
   ]
  },
  {
   "cell_type": "code",
   "execution_count": 9,
   "metadata": {},
   "outputs": [],
   "source": [
    "def umda_update_full(population, pop_size, select_size, replace_size, toolbox):\n",
    "    # select from population\n",
    "    selected_population = tools.selBest(population, select_size)\n",
    "\n",
    "    # Calculate marginal propabilities\n",
    "    probabilities = np.mean(selected_population, axis=0)\n",
    "\n",
    "    new_solutions = []\n",
    "    for _ in range(pop_size):\n",
    "        new_solution = np.random.rand(n_items) < probabilities\n",
    "        new_solution = creator.Individual(new_solution.astype(int).tolist())  # Create as DEAP Individual\n",
    "        new_solutions.append(new_solution)\n",
    "    \n",
    "    return new_solutions\n",
    "\n",
    "def UMDA(probsize, NGEN, popsize, selectsize, starting_solution=None):\n",
    "    if not hasattr(creator, \"OneMax_fitness\"):\n",
    "        creator.create(\"OneMax_fitness\", base.Fitness, weights=(1.0,))\n",
    "    if not hasattr(creator, \"Individual\"):\n",
    "        creator.create(\"Individual\", list, fitness=creator.OneMax_fitness)\n",
    "\n",
    "    # Define the toolbox\n",
    "    toolbox = base.Toolbox()\n",
    "    toolbox.register(\"attr_bool\", random.randint, 0, 1)\n",
    "    toolbox.register(\"individual\", tools.initRepeat, creator.Individual, toolbox.attr_bool, n=probsize)\n",
    "    toolbox.register(\"population\", tools.initRepeat, list, toolbox.individual)\n",
    "    toolbox.register(\"evaluate\", lambda ind: (sum(ind),))\n",
    "\n",
    "    # Create an initial population\n",
    "    population = toolbox.population(n=popsize)\n",
    "\n",
    "    # Set starting solution if provided\n",
    "    if starting_solution is not None:\n",
    "        for ind in population:\n",
    "            ind[:] = starting_solution[:]\n",
    "\n",
    "    # Recording every generation's population\n",
    "    all_generations = []\n",
    "    best_solutions = []\n",
    "    best_fitnesses = []\n",
    "\n",
    "    # Evaluate the initial population\n",
    "    fitnesses = list(map(toolbox.evaluate, population))\n",
    "    for ind, fit in zip(population, fitnesses):\n",
    "        ind.fitness.values = fit\n",
    "\n",
    "    # Record initial population and best solution\n",
    "    all_generations.append([ind[:] for ind in population])\n",
    "    best_individual = max(population, key=lambda ind: ind.fitness.values)\n",
    "    best_solutions.append(toolbox.clone(best_individual))\n",
    "    best_fitnesses.append(best_individual.fitness.values[0])\n",
    "\n",
    "    # Evolutionary loop\n",
    "    for gen in range(NGEN):\n",
    "        population = umda_update_full(population, popsize, selectsize, 0, toolbox)\n",
    "\n",
    "        fitnesses = list(map(toolbox.evaluate, population))\n",
    "        for ind, fit in zip(population, fitnesses):\n",
    "            ind.fitness.values = fit\n",
    "\n",
    "        # Record current population and best solution\n",
    "        all_generations.append([ind[:] for ind in population])\n",
    "        best_individual = max(population, key=lambda ind: ind.fitness.values)\n",
    "        best_solutions.append(toolbox.clone(best_individual))\n",
    "        best_fitnesses.append(best_individual.fitness.values[0])\n",
    "\n",
    "    return all_generations, best_solutions, best_fitnesses\n",
    "\n",
    "def run_multiple_UMDA_runs(num_runs, probsize, NGEN, popsize, selectsize, starting_solution=None):\n",
    "    all_run_trajectories = []\n",
    "    for run in range(num_runs):\n",
    "        _, best_solutions, best_fitnesses = UMDA(probsize, NGEN, popsize, selectsize, starting_solution)\n",
    "        unique_solutions, unique_fitnesses, solution_iterations = extract_trajectory_data(best_solutions, best_fitnesses)\n",
    "        transitions = extract_transitions(unique_solutions)\n",
    "        all_run_trajectories.append((unique_solutions, unique_fitnesses, solution_iterations, transitions))\n",
    "    return all_run_trajectories"
   ]
  },
  {
   "cell_type": "code",
   "execution_count": null,
   "metadata": {},
   "outputs": [],
   "source": [
    "ss = generate_zero_solution(n_items)\n",
    "all_run_trajectories1 = run_multiple_ea_runs(num_runs=5, NGEN=1000, popsize=100, tournsize=30, MUTPB=1, indpb=0.2, starting_solution=ss)\n",
    "all_run_trajectories2 = run_multiple_UMDA_runs(num_runs=5, probsize=n_items, NGEN=1000, popsize=100, selectsize=50, starting_solution=None)"
   ]
  },
  {
   "cell_type": "code",
   "execution_count": 20,
   "metadata": {},
   "outputs": [],
   "source": [
    "all_trajectories_list = [all_run_trajectories1, all_run_trajectories2]"
   ]
  },
  {
   "cell_type": "code",
   "execution_count": 24,
   "metadata": {},
   "outputs": [],
   "source": [
    "import pickle\n",
    "with open('data.pkl', 'wb') as f:\n",
    "    pickle.dump(all_trajectories_list, f)"
   ]
  },
  {
   "cell_type": "code",
   "execution_count": 22,
   "metadata": {},
   "outputs": [
    {
     "data": {
      "application/vnd.jupyter.widget-view+json": {
       "model_id": "bd2aa699624d43fea4090cc63798c2ed",
       "version_major": 2,
       "version_minor": 0
      },
      "text/plain": [
       "Checkbox(value=False, description='Show Labels')"
      ]
     },
     "metadata": {},
     "output_type": "display_data"
    },
    {
     "data": {
      "application/vnd.jupyter.widget-view+json": {
       "model_id": "972217ddde6a4fdb8936572cf9f998ce",
       "version_major": 2,
       "version_minor": 0
      },
      "text/plain": [
       "Checkbox(value=False, description='Hide Nodes')"
      ]
     },
     "metadata": {},
     "output_type": "display_data"
    },
    {
     "data": {
      "application/vnd.jupyter.widget-view+json": {
       "model_id": "ef2451af1c5a4d2bb6dc9642e89de06c",
       "version_major": 2,
       "version_minor": 0
      },
      "text/plain": [
       "Checkbox(value=False, description='3D Plot')"
      ]
     },
     "metadata": {},
     "output_type": "display_data"
    },
    {
     "data": {
      "application/vnd.jupyter.widget-view+json": {
       "model_id": "84764be1a2084b86871b6950895f45c8",
       "version_major": 2,
       "version_minor": 0
      },
      "text/plain": [
       "Checkbox(value=False, description='Node Size by Iterations')"
      ]
     },
     "metadata": {},
     "output_type": "display_data"
    },
    {
     "data": {
      "application/vnd.jupyter.widget-view+json": {
       "model_id": "c1ce8496d1e34cf38d7c6bc9a2f4129a",
       "version_major": 2,
       "version_minor": 0
      },
      "text/plain": [
       "Checkbox(value=False, description='Use MDS Layout')"
      ]
     },
     "metadata": {},
     "output_type": "display_data"
    },
    {
     "data": {
      "application/vnd.jupyter.widget-view+json": {
       "model_id": "16a6606093774d5a828e835011dfca9e",
       "version_major": 2,
       "version_minor": 0
      },
      "text/plain": [
       "Output()"
      ]
     },
     "metadata": {},
     "output_type": "display_data"
    },
    {
     "data": {
      "application/vnd.plotly.v1+json": {
       "config": {
        "plotlyServerURL": "https://plot.ly"
       },
       "data": [
        {
         "marker": {
          "color": [
           "yellow",
           "skyblue",
           "skyblue",
           "skyblue",
           "skyblue",
           "skyblue",
           "skyblue",
           "skyblue",
           "skyblue",
           "skyblue",
           "skyblue",
           "skyblue",
           "red",
           "skyblue",
           "skyblue",
           "skyblue",
           "skyblue",
           "skyblue",
           "skyblue",
           "skyblue",
           "green",
           "skyblue",
           "skyblue",
           "skyblue",
           "skyblue",
           "skyblue",
           "skyblue",
           "skyblue",
           "skyblue",
           "skyblue",
           "skyblue",
           "skyblue",
           "skyblue",
           "skyblue",
           "skyblue",
           "green",
           "green",
           "skyblue",
           "skyblue",
           "skyblue",
           "skyblue",
           "skyblue",
           "skyblue",
           "skyblue",
           "skyblue",
           "green",
           "skyblue",
           "skyblue",
           "skyblue",
           "skyblue",
           "skyblue",
           "skyblue",
           "skyblue",
           "skyblue",
           "skyblue",
           "yellow",
           "skyblue",
           "skyblue",
           "skyblue",
           "skyblue",
           "yellow",
           "skyblue",
           "skyblue",
           "skyblue",
           "skyblue",
           "skyblue",
           "yellow",
           "skyblue",
           "skyblue",
           "skyblue",
           "skyblue",
           "green",
           "yellow",
           "skyblue",
           "skyblue",
           "skyblue",
           "skyblue",
           "yellow",
           "skyblue",
           "skyblue",
           "skyblue",
           "skyblue"
          ],
          "opacity": 0.8,
          "size": [
           0,
           0,
           0,
           0,
           0,
           0,
           0,
           0,
           0,
           0,
           0,
           0,
           0,
           0,
           0,
           0,
           0,
           0,
           0,
           0,
           0,
           0,
           0,
           0,
           0,
           0,
           0,
           0,
           0,
           0,
           0,
           0,
           0,
           0,
           0,
           0,
           0,
           0,
           0,
           0,
           0,
           0,
           0,
           0,
           0,
           0,
           0,
           0,
           0,
           0,
           0,
           0,
           0,
           0,
           0,
           0,
           0,
           0,
           0,
           0,
           0,
           0,
           0,
           0,
           0,
           0,
           0,
           0,
           0,
           0,
           0,
           0,
           0,
           0,
           0,
           0,
           0,
           0,
           0,
           0,
           0,
           0
          ]
         },
         "mode": "markers",
         "text": [
          "",
          "",
          "",
          "",
          "",
          "",
          "",
          "",
          "",
          "",
          "",
          "",
          "",
          "",
          "",
          "",
          "",
          "",
          "",
          "",
          "",
          "",
          "",
          "",
          "",
          "",
          "",
          "",
          "",
          "",
          "",
          "",
          "",
          "",
          "",
          "",
          "",
          "",
          "",
          "",
          "",
          "",
          "",
          "",
          "",
          "",
          "",
          "",
          "",
          "",
          "",
          "",
          "",
          "",
          "",
          "",
          "",
          "",
          "",
          "",
          "",
          "",
          "",
          "",
          "",
          "",
          "",
          "",
          "",
          "",
          "",
          "",
          "",
          "",
          "",
          "",
          "",
          "",
          "",
          "",
          "",
          ""
         ],
         "type": "scatter",
         "x": [
          0.3201232353978535,
          0.2026329199649303,
          0.11560675697654285,
          0.04946664449050683,
          -0.00009491638054343071,
          -0.03694021334734324,
          -0.060135225272779584,
          -0.0719255547695596,
          -0.07093811543305796,
          -0.05535699249469435,
          -0.022335018767874776,
          0.03507452589989192,
          0.13466849269617573,
          0.2934905251680759,
          0.26896484893853945,
          0.2445119079233476,
          0.22020436484813796,
          0.19532161491227024,
          0.1702968884819858,
          0.14373397908079646,
          0.11063656992385791,
          0.13557275305401295,
          0.24418924686870136,
          0.11142450748357044,
          -0.015181066931557153,
          -0.12153836500344883,
          -0.20529867158688206,
          -0.2675892653553959,
          -0.3085499764977679,
          -0.32993460949088815,
          -0.3322310375906456,
          -0.3148121256013641,
          -0.2772871025012563,
          -0.2179324819990885,
          -0.13116404193043227,
          -0.011069207851985457,
          0.032309998488272526,
          0.2640276145908662,
          0.2125849561741043,
          0.16395322817480013,
          0.11834282666159371,
          0.07788615715672455,
          0.04283710757570138,
          0.01446138652808126,
          -0.0042020082248838105,
          0.09184360406877826,
          0.19392607625117056,
          0.09749267181743448,
          0.029572313793422265,
          -0.016265134610518855,
          -0.04345688132197489,
          -0.05394699014289733,
          -0.04798629628619448,
          -0.02348510785738488,
          0.02749777582165338,
          -0.4515491731438558,
          -0.33187761216530176,
          -0.21297205098947936,
          -0.09491052417990316,
          0.021960371691930953,
          -0.34577307697268855,
          -0.2603940590890894,
          -0.17776086785285072,
          -0.10055092004397803,
          -0.01847902452938919,
          0.06037265651754625,
          -0.2369363224014579,
          -0.18304935649464113,
          -0.1326404013448174,
          -0.07697474700439244,
          -0.024975548367760416,
          0.027920123971238314,
          0.71133689145538,
          0.592362148347557,
          0.4758909527117129,
          0.36135243189791644,
          0.24674740934948589,
          -0.3966040825560876,
          -0.31740890393751425,
          -0.2380671193090312,
          -0.15396339507100296,
          -0.06605489245090751
         ],
         "y": [
          0.810754071508508,
          0.7694118644833826,
          0.6800669236498412,
          0.5750458474119062,
          0.46163491540526114,
          0.34367551859583706,
          0.22236139539942543,
          0.09944356401816395,
          -0.024137812945694188,
          -0.14690167749473793,
          -0.26650054779539456,
          -0.3771338659371828,
          -0.45162015941697053,
          0.6713308154987475,
          0.543758968857056,
          0.4186004621765987,
          0.29439534606723,
          0.17068255900029297,
          0.04700306770543761,
          -0.07684339414470485,
          -0.20096953977068943,
          -0.3235132634354975,
          0.9335171647321518,
          0.9568993999326655,
          0.9175190138609725,
          0.8407865532061991,
          0.7412223116601273,
          0.62784232222236,
          0.5057082785622573,
          0.37910081128634265,
          0.2509778149954264,
          0.12421205527947539,
          0.001992634287020363,
          -0.1112112745531912,
          -0.20518397591672272,
          -0.25639114551178865,
          -0.3784432761214815,
          0.6973107777639899,
          0.5846303785931661,
          0.4711272816094237,
          0.356387055764101,
          0.23954106643341114,
          0.12056006569323198,
          -0.0009344738219391758,
          -0.1257453729912364,
          -0.332550594725525,
          0.8029442453573913,
          0.7204717512352813,
          0.6146261001215384,
          0.4982371137288633,
          0.37656855442777587,
          0.2526072081189029,
          0.12849457198171046,
          0.006751760470583555,
          -0.10648482284733705,
          -0.6071655164821529,
          -0.5858463363069617,
          -0.5605411012745458,
          -0.531421328277681,
          -0.49762884232034416,
          -1,
          -0.9134013163526568,
          -0.8241564788705207,
          -0.7301714900977381,
          -0.6404308903657304,
          -0.5478786302223739,
          0.16899958511270713,
          0.059948223649178255,
          -0.05081955939652747,
          -0.15916089350713716,
          -0.26964602426634143,
          -0.5058946801726342,
          -0.6409428011152944,
          -0.6155823751210245,
          -0.5805192207603276,
          -0.5396459491868674,
          -0.4989504388203618,
          -0.9418360101198231,
          -0.8495554740394269,
          -0.7573065105072473,
          -0.6692664449115666,
          -0.5848159099385597
         ]
        },
        {
         "line": {
          "color": "blue",
          "width": 2
         },
         "mode": "lines",
         "opacity": 0.5,
         "type": "scatter",
         "x": [
          0.3201232353978535,
          0.2026329199649303,
          null
         ],
         "y": [
          0.810754071508508,
          0.7694118644833826,
          null
         ]
        },
        {
         "line": {
          "color": "blue",
          "width": 2
         },
         "mode": "lines",
         "opacity": 0.5,
         "type": "scatter",
         "x": [
          0.3201232353978535,
          0.2934905251680759,
          null
         ],
         "y": [
          0.810754071508508,
          0.6713308154987475,
          null
         ]
        },
        {
         "line": {
          "color": "blue",
          "width": 2
         },
         "mode": "lines",
         "opacity": 0.5,
         "type": "scatter",
         "x": [
          0.3201232353978535,
          0.24418924686870136,
          null
         ],
         "y": [
          0.810754071508508,
          0.9335171647321518,
          null
         ]
        },
        {
         "line": {
          "color": "blue",
          "width": 2
         },
         "mode": "lines",
         "opacity": 0.5,
         "type": "scatter",
         "x": [
          0.3201232353978535,
          0.2640276145908662,
          null
         ],
         "y": [
          0.810754071508508,
          0.6973107777639899,
          null
         ]
        },
        {
         "line": {
          "color": "blue",
          "width": 2
         },
         "mode": "lines",
         "opacity": 0.5,
         "type": "scatter",
         "x": [
          0.3201232353978535,
          0.19392607625117056,
          null
         ],
         "y": [
          0.810754071508508,
          0.8029442453573913,
          null
         ]
        },
        {
         "line": {
          "color": "blue",
          "width": 2
         },
         "mode": "lines",
         "opacity": 0.5,
         "type": "scatter",
         "x": [
          0.2026329199649303,
          0.11560675697654285,
          null
         ],
         "y": [
          0.7694118644833826,
          0.6800669236498412,
          null
         ]
        },
        {
         "line": {
          "color": "blue",
          "width": 2
         },
         "mode": "lines",
         "opacity": 0.5,
         "type": "scatter",
         "x": [
          0.11560675697654285,
          0.04946664449050683,
          null
         ],
         "y": [
          0.6800669236498412,
          0.5750458474119062,
          null
         ]
        },
        {
         "line": {
          "color": "blue",
          "width": 2
         },
         "mode": "lines",
         "opacity": 0.5,
         "type": "scatter",
         "x": [
          0.04946664449050683,
          -0.00009491638054343071,
          null
         ],
         "y": [
          0.5750458474119062,
          0.46163491540526114,
          null
         ]
        },
        {
         "line": {
          "color": "blue",
          "width": 2
         },
         "mode": "lines",
         "opacity": 0.5,
         "type": "scatter",
         "x": [
          -0.00009491638054343071,
          -0.03694021334734324,
          null
         ],
         "y": [
          0.46163491540526114,
          0.34367551859583706,
          null
         ]
        },
        {
         "line": {
          "color": "blue",
          "width": 2
         },
         "mode": "lines",
         "opacity": 0.5,
         "type": "scatter",
         "x": [
          -0.03694021334734324,
          -0.060135225272779584,
          null
         ],
         "y": [
          0.34367551859583706,
          0.22236139539942543,
          null
         ]
        },
        {
         "line": {
          "color": "blue",
          "width": 2
         },
         "mode": "lines",
         "opacity": 0.5,
         "type": "scatter",
         "x": [
          -0.060135225272779584,
          -0.0719255547695596,
          null
         ],
         "y": [
          0.22236139539942543,
          0.09944356401816395,
          null
         ]
        },
        {
         "line": {
          "color": "blue",
          "width": 2
         },
         "mode": "lines",
         "opacity": 0.5,
         "type": "scatter",
         "x": [
          -0.0719255547695596,
          -0.07093811543305796,
          null
         ],
         "y": [
          0.09944356401816395,
          -0.024137812945694188,
          null
         ]
        },
        {
         "line": {
          "color": "blue",
          "width": 2
         },
         "mode": "lines",
         "opacity": 0.5,
         "type": "scatter",
         "x": [
          -0.07093811543305796,
          -0.05535699249469435,
          null
         ],
         "y": [
          -0.024137812945694188,
          -0.14690167749473793,
          null
         ]
        },
        {
         "line": {
          "color": "blue",
          "width": 2
         },
         "mode": "lines",
         "opacity": 0.5,
         "type": "scatter",
         "x": [
          -0.05535699249469435,
          -0.022335018767874776,
          null
         ],
         "y": [
          -0.14690167749473793,
          -0.26650054779539456,
          null
         ]
        },
        {
         "line": {
          "color": "blue",
          "width": 2
         },
         "mode": "lines",
         "opacity": 0.5,
         "type": "scatter",
         "x": [
          -0.022335018767874776,
          0.03507452589989192,
          null
         ],
         "y": [
          -0.26650054779539456,
          -0.3771338659371828,
          null
         ]
        },
        {
         "line": {
          "color": "blue",
          "width": 2
         },
         "mode": "lines",
         "opacity": 0.5,
         "type": "scatter",
         "x": [
          0.03507452589989192,
          0.13466849269617573,
          null
         ],
         "y": [
          -0.3771338659371828,
          -0.45162015941697053,
          null
         ]
        },
        {
         "line": {
          "color": "blue",
          "width": 2
         },
         "mode": "lines",
         "opacity": 0.5,
         "type": "scatter",
         "x": [
          0.2934905251680759,
          0.26896484893853945,
          null
         ],
         "y": [
          0.6713308154987475,
          0.543758968857056,
          null
         ]
        },
        {
         "line": {
          "color": "blue",
          "width": 2
         },
         "mode": "lines",
         "opacity": 0.5,
         "type": "scatter",
         "x": [
          0.26896484893853945,
          0.2445119079233476,
          null
         ],
         "y": [
          0.543758968857056,
          0.4186004621765987,
          null
         ]
        },
        {
         "line": {
          "color": "blue",
          "width": 2
         },
         "mode": "lines",
         "opacity": 0.5,
         "type": "scatter",
         "x": [
          0.2445119079233476,
          0.22020436484813796,
          null
         ],
         "y": [
          0.4186004621765987,
          0.29439534606723,
          null
         ]
        },
        {
         "line": {
          "color": "blue",
          "width": 2
         },
         "mode": "lines",
         "opacity": 0.5,
         "type": "scatter",
         "x": [
          0.22020436484813796,
          0.19532161491227024,
          null
         ],
         "y": [
          0.29439534606723,
          0.17068255900029297,
          null
         ]
        },
        {
         "line": {
          "color": "blue",
          "width": 2
         },
         "mode": "lines",
         "opacity": 0.5,
         "type": "scatter",
         "x": [
          0.19532161491227024,
          0.1702968884819858,
          null
         ],
         "y": [
          0.17068255900029297,
          0.04700306770543761,
          null
         ]
        },
        {
         "line": {
          "color": "blue",
          "width": 2
         },
         "mode": "lines",
         "opacity": 0.5,
         "type": "scatter",
         "x": [
          0.1702968884819858,
          0.14373397908079646,
          null
         ],
         "y": [
          0.04700306770543761,
          -0.07684339414470485,
          null
         ]
        },
        {
         "line": {
          "color": "blue",
          "width": 2
         },
         "mode": "lines",
         "opacity": 0.5,
         "type": "scatter",
         "x": [
          0.14373397908079646,
          0.11063656992385791,
          null
         ],
         "y": [
          -0.07684339414470485,
          -0.20096953977068943,
          null
         ]
        },
        {
         "line": {
          "color": "blue",
          "width": 2
         },
         "mode": "lines",
         "opacity": 0.5,
         "type": "scatter",
         "x": [
          0.11063656992385791,
          0.13557275305401295,
          null
         ],
         "y": [
          -0.20096953977068943,
          -0.3235132634354975,
          null
         ]
        },
        {
         "line": {
          "color": "blue",
          "width": 2
         },
         "mode": "lines",
         "opacity": 0.5,
         "type": "scatter",
         "x": [
          0.11063656992385791,
          0.09184360406877826,
          null
         ],
         "y": [
          -0.20096953977068943,
          -0.332550594725525,
          null
         ]
        },
        {
         "line": {
          "color": "blue",
          "width": 2
         },
         "mode": "lines",
         "opacity": 0.5,
         "type": "scatter",
         "x": [
          0.13557275305401295,
          0.13466849269617573,
          null
         ],
         "y": [
          -0.3235132634354975,
          -0.45162015941697053,
          null
         ]
        },
        {
         "line": {
          "color": "blue",
          "width": 2
         },
         "mode": "lines",
         "opacity": 0.5,
         "type": "scatter",
         "x": [
          0.24418924686870136,
          0.11142450748357044,
          null
         ],
         "y": [
          0.9335171647321518,
          0.9568993999326655,
          null
         ]
        },
        {
         "line": {
          "color": "blue",
          "width": 2
         },
         "mode": "lines",
         "opacity": 0.5,
         "type": "scatter",
         "x": [
          0.11142450748357044,
          -0.015181066931557153,
          null
         ],
         "y": [
          0.9568993999326655,
          0.9175190138609725,
          null
         ]
        },
        {
         "line": {
          "color": "blue",
          "width": 2
         },
         "mode": "lines",
         "opacity": 0.5,
         "type": "scatter",
         "x": [
          -0.015181066931557153,
          -0.12153836500344883,
          null
         ],
         "y": [
          0.9175190138609725,
          0.8407865532061991,
          null
         ]
        },
        {
         "line": {
          "color": "blue",
          "width": 2
         },
         "mode": "lines",
         "opacity": 0.5,
         "type": "scatter",
         "x": [
          -0.12153836500344883,
          -0.20529867158688206,
          null
         ],
         "y": [
          0.8407865532061991,
          0.7412223116601273,
          null
         ]
        },
        {
         "line": {
          "color": "blue",
          "width": 2
         },
         "mode": "lines",
         "opacity": 0.5,
         "type": "scatter",
         "x": [
          -0.20529867158688206,
          -0.2675892653553959,
          null
         ],
         "y": [
          0.7412223116601273,
          0.62784232222236,
          null
         ]
        },
        {
         "line": {
          "color": "blue",
          "width": 2
         },
         "mode": "lines",
         "opacity": 0.5,
         "type": "scatter",
         "x": [
          -0.2675892653553959,
          -0.3085499764977679,
          null
         ],
         "y": [
          0.62784232222236,
          0.5057082785622573,
          null
         ]
        },
        {
         "line": {
          "color": "blue",
          "width": 2
         },
         "mode": "lines",
         "opacity": 0.5,
         "type": "scatter",
         "x": [
          -0.3085499764977679,
          -0.32993460949088815,
          null
         ],
         "y": [
          0.5057082785622573,
          0.37910081128634265,
          null
         ]
        },
        {
         "line": {
          "color": "blue",
          "width": 2
         },
         "mode": "lines",
         "opacity": 0.5,
         "type": "scatter",
         "x": [
          -0.32993460949088815,
          -0.3322310375906456,
          null
         ],
         "y": [
          0.37910081128634265,
          0.2509778149954264,
          null
         ]
        },
        {
         "line": {
          "color": "blue",
          "width": 2
         },
         "mode": "lines",
         "opacity": 0.5,
         "type": "scatter",
         "x": [
          -0.3322310375906456,
          -0.3148121256013641,
          null
         ],
         "y": [
          0.2509778149954264,
          0.12421205527947539,
          null
         ]
        },
        {
         "line": {
          "color": "blue",
          "width": 2
         },
         "mode": "lines",
         "opacity": 0.5,
         "type": "scatter",
         "x": [
          -0.3148121256013641,
          -0.2772871025012563,
          null
         ],
         "y": [
          0.12421205527947539,
          0.001992634287020363,
          null
         ]
        },
        {
         "line": {
          "color": "blue",
          "width": 2
         },
         "mode": "lines",
         "opacity": 0.5,
         "type": "scatter",
         "x": [
          -0.2772871025012563,
          -0.2179324819990885,
          null
         ],
         "y": [
          0.001992634287020363,
          -0.1112112745531912,
          null
         ]
        },
        {
         "line": {
          "color": "blue",
          "width": 2
         },
         "mode": "lines",
         "opacity": 0.5,
         "type": "scatter",
         "x": [
          -0.2179324819990885,
          -0.13116404193043227,
          null
         ],
         "y": [
          -0.1112112745531912,
          -0.20518397591672272,
          null
         ]
        },
        {
         "line": {
          "color": "blue",
          "width": 2
         },
         "mode": "lines",
         "opacity": 0.5,
         "type": "scatter",
         "x": [
          -0.13116404193043227,
          -0.011069207851985457,
          null
         ],
         "y": [
          -0.20518397591672272,
          -0.25639114551178865,
          null
         ]
        },
        {
         "line": {
          "color": "blue",
          "width": 2
         },
         "mode": "lines",
         "opacity": 0.5,
         "type": "scatter",
         "x": [
          -0.011069207851985457,
          0.032309998488272526,
          null
         ],
         "y": [
          -0.25639114551178865,
          -0.3784432761214815,
          null
         ]
        },
        {
         "line": {
          "color": "blue",
          "width": 2
         },
         "mode": "lines",
         "opacity": 0.5,
         "type": "scatter",
         "x": [
          -0.011069207851985457,
          0.09184360406877826,
          null
         ],
         "y": [
          -0.25639114551178865,
          -0.332550594725525,
          null
         ]
        },
        {
         "line": {
          "color": "blue",
          "width": 2
         },
         "mode": "lines",
         "opacity": 0.5,
         "type": "scatter",
         "x": [
          0.032309998488272526,
          0.13466849269617573,
          null
         ],
         "y": [
          -0.3784432761214815,
          -0.45162015941697053,
          null
         ]
        },
        {
         "line": {
          "color": "orange",
          "width": 2
         },
         "mode": "lines",
         "opacity": 0.5,
         "type": "scatter",
         "x": [
          0.032309998488272526,
          0.027920123971238314,
          null
         ],
         "y": [
          -0.3784432761214815,
          -0.5058946801726342,
          null
         ]
        },
        {
         "line": {
          "color": "blue",
          "width": 2
         },
         "mode": "lines",
         "opacity": 0.5,
         "type": "scatter",
         "x": [
          0.2640276145908662,
          0.2125849561741043,
          null
         ],
         "y": [
          0.6973107777639899,
          0.5846303785931661,
          null
         ]
        },
        {
         "line": {
          "color": "blue",
          "width": 2
         },
         "mode": "lines",
         "opacity": 0.5,
         "type": "scatter",
         "x": [
          0.2125849561741043,
          0.16395322817480013,
          null
         ],
         "y": [
          0.5846303785931661,
          0.4711272816094237,
          null
         ]
        },
        {
         "line": {
          "color": "blue",
          "width": 2
         },
         "mode": "lines",
         "opacity": 0.5,
         "type": "scatter",
         "x": [
          0.16395322817480013,
          0.11834282666159371,
          null
         ],
         "y": [
          0.4711272816094237,
          0.356387055764101,
          null
         ]
        },
        {
         "line": {
          "color": "blue",
          "width": 2
         },
         "mode": "lines",
         "opacity": 0.5,
         "type": "scatter",
         "x": [
          0.11834282666159371,
          0.07788615715672455,
          null
         ],
         "y": [
          0.356387055764101,
          0.23954106643341114,
          null
         ]
        },
        {
         "line": {
          "color": "blue",
          "width": 2
         },
         "mode": "lines",
         "opacity": 0.5,
         "type": "scatter",
         "x": [
          0.07788615715672455,
          0.04283710757570138,
          null
         ],
         "y": [
          0.23954106643341114,
          0.12056006569323198,
          null
         ]
        },
        {
         "line": {
          "color": "blue",
          "width": 2
         },
         "mode": "lines",
         "opacity": 0.5,
         "type": "scatter",
         "x": [
          0.04283710757570138,
          0.01446138652808126,
          null
         ],
         "y": [
          0.12056006569323198,
          -0.0009344738219391758,
          null
         ]
        },
        {
         "line": {
          "color": "blue",
          "width": 2
         },
         "mode": "lines",
         "opacity": 0.5,
         "type": "scatter",
         "x": [
          0.01446138652808126,
          -0.0042020082248838105,
          null
         ],
         "y": [
          -0.0009344738219391758,
          -0.1257453729912364,
          null
         ]
        },
        {
         "line": {
          "color": "blue",
          "width": 2
         },
         "mode": "lines",
         "opacity": 0.5,
         "type": "scatter",
         "x": [
          -0.0042020082248838105,
          -0.011069207851985457,
          null
         ],
         "y": [
          -0.1257453729912364,
          -0.25639114551178865,
          null
         ]
        },
        {
         "line": {
          "color": "blue",
          "width": 2
         },
         "mode": "lines",
         "opacity": 0.5,
         "type": "scatter",
         "x": [
          0.09184360406877826,
          0.13466849269617573,
          null
         ],
         "y": [
          -0.332550594725525,
          -0.45162015941697053,
          null
         ]
        },
        {
         "line": {
          "color": "blue",
          "width": 2
         },
         "mode": "lines",
         "opacity": 0.5,
         "type": "scatter",
         "x": [
          0.19392607625117056,
          0.09749267181743448,
          null
         ],
         "y": [
          0.8029442453573913,
          0.7204717512352813,
          null
         ]
        },
        {
         "line": {
          "color": "blue",
          "width": 2
         },
         "mode": "lines",
         "opacity": 0.5,
         "type": "scatter",
         "x": [
          0.09749267181743448,
          0.029572313793422265,
          null
         ],
         "y": [
          0.7204717512352813,
          0.6146261001215384,
          null
         ]
        },
        {
         "line": {
          "color": "blue",
          "width": 2
         },
         "mode": "lines",
         "opacity": 0.5,
         "type": "scatter",
         "x": [
          0.029572313793422265,
          -0.016265134610518855,
          null
         ],
         "y": [
          0.6146261001215384,
          0.4982371137288633,
          null
         ]
        },
        {
         "line": {
          "color": "blue",
          "width": 2
         },
         "mode": "lines",
         "opacity": 0.5,
         "type": "scatter",
         "x": [
          -0.016265134610518855,
          -0.04345688132197489,
          null
         ],
         "y": [
          0.4982371137288633,
          0.37656855442777587,
          null
         ]
        },
        {
         "line": {
          "color": "blue",
          "width": 2
         },
         "mode": "lines",
         "opacity": 0.5,
         "type": "scatter",
         "x": [
          -0.04345688132197489,
          -0.05394699014289733,
          null
         ],
         "y": [
          0.37656855442777587,
          0.2526072081189029,
          null
         ]
        },
        {
         "line": {
          "color": "blue",
          "width": 2
         },
         "mode": "lines",
         "opacity": 0.5,
         "type": "scatter",
         "x": [
          -0.05394699014289733,
          -0.04798629628619448,
          null
         ],
         "y": [
          0.2526072081189029,
          0.12849457198171046,
          null
         ]
        },
        {
         "line": {
          "color": "blue",
          "width": 2
         },
         "mode": "lines",
         "opacity": 0.5,
         "type": "scatter",
         "x": [
          -0.04798629628619448,
          -0.02348510785738488,
          null
         ],
         "y": [
          0.12849457198171046,
          0.006751760470583555,
          null
         ]
        },
        {
         "line": {
          "color": "blue",
          "width": 2
         },
         "mode": "lines",
         "opacity": 0.5,
         "type": "scatter",
         "x": [
          -0.02348510785738488,
          0.02749777582165338,
          null
         ],
         "y": [
          0.006751760470583555,
          -0.10648482284733705,
          null
         ]
        },
        {
         "line": {
          "color": "blue",
          "width": 2
         },
         "mode": "lines",
         "opacity": 0.5,
         "type": "scatter",
         "x": [
          0.02749777582165338,
          0.11063656992385791,
          null
         ],
         "y": [
          -0.10648482284733705,
          -0.20096953977068943,
          null
         ]
        },
        {
         "line": {
          "color": "orange",
          "width": 2
         },
         "mode": "lines",
         "opacity": 0.5,
         "type": "scatter",
         "x": [
          -0.4515491731438558,
          -0.33187761216530176,
          null
         ],
         "y": [
          -0.6071655164821529,
          -0.5858463363069617,
          null
         ]
        },
        {
         "line": {
          "color": "orange",
          "width": 2
         },
         "mode": "lines",
         "opacity": 0.5,
         "type": "scatter",
         "x": [
          -0.33187761216530176,
          -0.21297205098947936,
          null
         ],
         "y": [
          -0.5858463363069617,
          -0.5605411012745458,
          null
         ]
        },
        {
         "line": {
          "color": "orange",
          "width": 2
         },
         "mode": "lines",
         "opacity": 0.5,
         "type": "scatter",
         "x": [
          -0.21297205098947936,
          -0.09491052417990316,
          null
         ],
         "y": [
          -0.5605411012745458,
          -0.531421328277681,
          null
         ]
        },
        {
         "line": {
          "color": "orange",
          "width": 2
         },
         "mode": "lines",
         "opacity": 0.5,
         "type": "scatter",
         "x": [
          -0.09491052417990316,
          0.021960371691930953,
          null
         ],
         "y": [
          -0.531421328277681,
          -0.49762884232034416,
          null
         ]
        },
        {
         "line": {
          "color": "orange",
          "width": 2
         },
         "mode": "lines",
         "opacity": 0.5,
         "type": "scatter",
         "x": [
          0.021960371691930953,
          0.13466849269617573,
          null
         ],
         "y": [
          -0.49762884232034416,
          -0.45162015941697053,
          null
         ]
        },
        {
         "line": {
          "color": "orange",
          "width": 2
         },
         "mode": "lines",
         "opacity": 0.5,
         "type": "scatter",
         "x": [
          -0.34577307697268855,
          -0.2603940590890894,
          null
         ],
         "y": [
          -1,
          -0.9134013163526568,
          null
         ]
        },
        {
         "line": {
          "color": "orange",
          "width": 2
         },
         "mode": "lines",
         "opacity": 0.5,
         "type": "scatter",
         "x": [
          -0.2603940590890894,
          -0.17776086785285072,
          null
         ],
         "y": [
          -0.9134013163526568,
          -0.8241564788705207,
          null
         ]
        },
        {
         "line": {
          "color": "orange",
          "width": 2
         },
         "mode": "lines",
         "opacity": 0.5,
         "type": "scatter",
         "x": [
          -0.17776086785285072,
          -0.10055092004397803,
          null
         ],
         "y": [
          -0.8241564788705207,
          -0.7301714900977381,
          null
         ]
        },
        {
         "line": {
          "color": "orange",
          "width": 2
         },
         "mode": "lines",
         "opacity": 0.5,
         "type": "scatter",
         "x": [
          -0.10055092004397803,
          -0.01847902452938919,
          null
         ],
         "y": [
          -0.7301714900977381,
          -0.6404308903657304,
          null
         ]
        },
        {
         "line": {
          "color": "orange",
          "width": 2
         },
         "mode": "lines",
         "opacity": 0.5,
         "type": "scatter",
         "x": [
          -0.01847902452938919,
          0.06037265651754625,
          null
         ],
         "y": [
          -0.6404308903657304,
          -0.5478786302223739,
          null
         ]
        },
        {
         "line": {
          "color": "orange",
          "width": 2
         },
         "mode": "lines",
         "opacity": 0.5,
         "type": "scatter",
         "x": [
          0.06037265651754625,
          0.13466849269617573,
          null
         ],
         "y": [
          -0.5478786302223739,
          -0.45162015941697053,
          null
         ]
        },
        {
         "line": {
          "color": "orange",
          "width": 2
         },
         "mode": "lines",
         "opacity": 0.5,
         "type": "scatter",
         "x": [
          -0.2369363224014579,
          -0.18304935649464113,
          null
         ],
         "y": [
          0.16899958511270713,
          0.059948223649178255,
          null
         ]
        },
        {
         "line": {
          "color": "orange",
          "width": 2
         },
         "mode": "lines",
         "opacity": 0.5,
         "type": "scatter",
         "x": [
          -0.18304935649464113,
          -0.1326404013448174,
          null
         ],
         "y": [
          0.059948223649178255,
          -0.05081955939652747,
          null
         ]
        },
        {
         "line": {
          "color": "orange",
          "width": 2
         },
         "mode": "lines",
         "opacity": 0.5,
         "type": "scatter",
         "x": [
          -0.1326404013448174,
          -0.07697474700439244,
          null
         ],
         "y": [
          -0.05081955939652747,
          -0.15916089350713716,
          null
         ]
        },
        {
         "line": {
          "color": "orange",
          "width": 2
         },
         "mode": "lines",
         "opacity": 0.5,
         "type": "scatter",
         "x": [
          -0.07697474700439244,
          -0.024975548367760416,
          null
         ],
         "y": [
          -0.15916089350713716,
          -0.26964602426634143,
          null
         ]
        },
        {
         "line": {
          "color": "orange",
          "width": 2
         },
         "mode": "lines",
         "opacity": 0.5,
         "type": "scatter",
         "x": [
          -0.024975548367760416,
          0.032309998488272526,
          null
         ],
         "y": [
          -0.26964602426634143,
          -0.3784432761214815,
          null
         ]
        },
        {
         "line": {
          "color": "orange",
          "width": 2
         },
         "mode": "lines",
         "opacity": 0.5,
         "type": "scatter",
         "x": [
          0.027920123971238314,
          0.13466849269617573,
          null
         ],
         "y": [
          -0.5058946801726342,
          -0.45162015941697053,
          null
         ]
        },
        {
         "line": {
          "color": "orange",
          "width": 2
         },
         "mode": "lines",
         "opacity": 0.5,
         "type": "scatter",
         "x": [
          0.71133689145538,
          0.592362148347557,
          null
         ],
         "y": [
          -0.6409428011152944,
          -0.6155823751210245,
          null
         ]
        },
        {
         "line": {
          "color": "orange",
          "width": 2
         },
         "mode": "lines",
         "opacity": 0.5,
         "type": "scatter",
         "x": [
          0.592362148347557,
          0.4758909527117129,
          null
         ],
         "y": [
          -0.6155823751210245,
          -0.5805192207603276,
          null
         ]
        },
        {
         "line": {
          "color": "orange",
          "width": 2
         },
         "mode": "lines",
         "opacity": 0.5,
         "type": "scatter",
         "x": [
          0.4758909527117129,
          0.36135243189791644,
          null
         ],
         "y": [
          -0.5805192207603276,
          -0.5396459491868674,
          null
         ]
        },
        {
         "line": {
          "color": "orange",
          "width": 2
         },
         "mode": "lines",
         "opacity": 0.5,
         "type": "scatter",
         "x": [
          0.36135243189791644,
          0.24674740934948589,
          null
         ],
         "y": [
          -0.5396459491868674,
          -0.4989504388203618,
          null
         ]
        },
        {
         "line": {
          "color": "orange",
          "width": 2
         },
         "mode": "lines",
         "opacity": 0.5,
         "type": "scatter",
         "x": [
          0.24674740934948589,
          0.13466849269617573,
          null
         ],
         "y": [
          -0.4989504388203618,
          -0.45162015941697053,
          null
         ]
        },
        {
         "line": {
          "color": "orange",
          "width": 2
         },
         "mode": "lines",
         "opacity": 0.5,
         "type": "scatter",
         "x": [
          -0.3966040825560876,
          -0.31740890393751425,
          null
         ],
         "y": [
          -0.9418360101198231,
          -0.8495554740394269,
          null
         ]
        },
        {
         "line": {
          "color": "orange",
          "width": 2
         },
         "mode": "lines",
         "opacity": 0.5,
         "type": "scatter",
         "x": [
          -0.31740890393751425,
          -0.2380671193090312,
          null
         ],
         "y": [
          -0.8495554740394269,
          -0.7573065105072473,
          null
         ]
        },
        {
         "line": {
          "color": "orange",
          "width": 2
         },
         "mode": "lines",
         "opacity": 0.5,
         "type": "scatter",
         "x": [
          -0.2380671193090312,
          -0.15396339507100296,
          null
         ],
         "y": [
          -0.7573065105072473,
          -0.6692664449115666,
          null
         ]
        },
        {
         "line": {
          "color": "orange",
          "width": 2
         },
         "mode": "lines",
         "opacity": 0.5,
         "type": "scatter",
         "x": [
          -0.15396339507100296,
          -0.06605489245090751,
          null
         ],
         "y": [
          -0.6692664449115666,
          -0.5848159099385597,
          null
         ]
        },
        {
         "line": {
          "color": "orange",
          "width": 2
         },
         "mode": "lines",
         "opacity": 0.5,
         "type": "scatter",
         "x": [
          -0.06605489245090751,
          0.027920123971238314,
          null
         ],
         "y": [
          -0.5848159099385597,
          -0.5058946801726342,
          null
         ]
        }
       ],
       "layout": {
        "template": {
         "data": {
          "bar": [
           {
            "error_x": {
             "color": "#2a3f5f"
            },
            "error_y": {
             "color": "#2a3f5f"
            },
            "marker": {
             "line": {
              "color": "#E5ECF6",
              "width": 0.5
             },
             "pattern": {
              "fillmode": "overlay",
              "size": 10,
              "solidity": 0.2
             }
            },
            "type": "bar"
           }
          ],
          "barpolar": [
           {
            "marker": {
             "line": {
              "color": "#E5ECF6",
              "width": 0.5
             },
             "pattern": {
              "fillmode": "overlay",
              "size": 10,
              "solidity": 0.2
             }
            },
            "type": "barpolar"
           }
          ],
          "carpet": [
           {
            "aaxis": {
             "endlinecolor": "#2a3f5f",
             "gridcolor": "white",
             "linecolor": "white",
             "minorgridcolor": "white",
             "startlinecolor": "#2a3f5f"
            },
            "baxis": {
             "endlinecolor": "#2a3f5f",
             "gridcolor": "white",
             "linecolor": "white",
             "minorgridcolor": "white",
             "startlinecolor": "#2a3f5f"
            },
            "type": "carpet"
           }
          ],
          "choropleth": [
           {
            "colorbar": {
             "outlinewidth": 0,
             "ticks": ""
            },
            "type": "choropleth"
           }
          ],
          "contour": [
           {
            "colorbar": {
             "outlinewidth": 0,
             "ticks": ""
            },
            "colorscale": [
             [
              0,
              "#0d0887"
             ],
             [
              0.1111111111111111,
              "#46039f"
             ],
             [
              0.2222222222222222,
              "#7201a8"
             ],
             [
              0.3333333333333333,
              "#9c179e"
             ],
             [
              0.4444444444444444,
              "#bd3786"
             ],
             [
              0.5555555555555556,
              "#d8576b"
             ],
             [
              0.6666666666666666,
              "#ed7953"
             ],
             [
              0.7777777777777778,
              "#fb9f3a"
             ],
             [
              0.8888888888888888,
              "#fdca26"
             ],
             [
              1,
              "#f0f921"
             ]
            ],
            "type": "contour"
           }
          ],
          "contourcarpet": [
           {
            "colorbar": {
             "outlinewidth": 0,
             "ticks": ""
            },
            "type": "contourcarpet"
           }
          ],
          "heatmap": [
           {
            "colorbar": {
             "outlinewidth": 0,
             "ticks": ""
            },
            "colorscale": [
             [
              0,
              "#0d0887"
             ],
             [
              0.1111111111111111,
              "#46039f"
             ],
             [
              0.2222222222222222,
              "#7201a8"
             ],
             [
              0.3333333333333333,
              "#9c179e"
             ],
             [
              0.4444444444444444,
              "#bd3786"
             ],
             [
              0.5555555555555556,
              "#d8576b"
             ],
             [
              0.6666666666666666,
              "#ed7953"
             ],
             [
              0.7777777777777778,
              "#fb9f3a"
             ],
             [
              0.8888888888888888,
              "#fdca26"
             ],
             [
              1,
              "#f0f921"
             ]
            ],
            "type": "heatmap"
           }
          ],
          "heatmapgl": [
           {
            "colorbar": {
             "outlinewidth": 0,
             "ticks": ""
            },
            "colorscale": [
             [
              0,
              "#0d0887"
             ],
             [
              0.1111111111111111,
              "#46039f"
             ],
             [
              0.2222222222222222,
              "#7201a8"
             ],
             [
              0.3333333333333333,
              "#9c179e"
             ],
             [
              0.4444444444444444,
              "#bd3786"
             ],
             [
              0.5555555555555556,
              "#d8576b"
             ],
             [
              0.6666666666666666,
              "#ed7953"
             ],
             [
              0.7777777777777778,
              "#fb9f3a"
             ],
             [
              0.8888888888888888,
              "#fdca26"
             ],
             [
              1,
              "#f0f921"
             ]
            ],
            "type": "heatmapgl"
           }
          ],
          "histogram": [
           {
            "marker": {
             "pattern": {
              "fillmode": "overlay",
              "size": 10,
              "solidity": 0.2
             }
            },
            "type": "histogram"
           }
          ],
          "histogram2d": [
           {
            "colorbar": {
             "outlinewidth": 0,
             "ticks": ""
            },
            "colorscale": [
             [
              0,
              "#0d0887"
             ],
             [
              0.1111111111111111,
              "#46039f"
             ],
             [
              0.2222222222222222,
              "#7201a8"
             ],
             [
              0.3333333333333333,
              "#9c179e"
             ],
             [
              0.4444444444444444,
              "#bd3786"
             ],
             [
              0.5555555555555556,
              "#d8576b"
             ],
             [
              0.6666666666666666,
              "#ed7953"
             ],
             [
              0.7777777777777778,
              "#fb9f3a"
             ],
             [
              0.8888888888888888,
              "#fdca26"
             ],
             [
              1,
              "#f0f921"
             ]
            ],
            "type": "histogram2d"
           }
          ],
          "histogram2dcontour": [
           {
            "colorbar": {
             "outlinewidth": 0,
             "ticks": ""
            },
            "colorscale": [
             [
              0,
              "#0d0887"
             ],
             [
              0.1111111111111111,
              "#46039f"
             ],
             [
              0.2222222222222222,
              "#7201a8"
             ],
             [
              0.3333333333333333,
              "#9c179e"
             ],
             [
              0.4444444444444444,
              "#bd3786"
             ],
             [
              0.5555555555555556,
              "#d8576b"
             ],
             [
              0.6666666666666666,
              "#ed7953"
             ],
             [
              0.7777777777777778,
              "#fb9f3a"
             ],
             [
              0.8888888888888888,
              "#fdca26"
             ],
             [
              1,
              "#f0f921"
             ]
            ],
            "type": "histogram2dcontour"
           }
          ],
          "mesh3d": [
           {
            "colorbar": {
             "outlinewidth": 0,
             "ticks": ""
            },
            "type": "mesh3d"
           }
          ],
          "parcoords": [
           {
            "line": {
             "colorbar": {
              "outlinewidth": 0,
              "ticks": ""
             }
            },
            "type": "parcoords"
           }
          ],
          "pie": [
           {
            "automargin": true,
            "type": "pie"
           }
          ],
          "scatter": [
           {
            "fillpattern": {
             "fillmode": "overlay",
             "size": 10,
             "solidity": 0.2
            },
            "type": "scatter"
           }
          ],
          "scatter3d": [
           {
            "line": {
             "colorbar": {
              "outlinewidth": 0,
              "ticks": ""
             }
            },
            "marker": {
             "colorbar": {
              "outlinewidth": 0,
              "ticks": ""
             }
            },
            "type": "scatter3d"
           }
          ],
          "scattercarpet": [
           {
            "marker": {
             "colorbar": {
              "outlinewidth": 0,
              "ticks": ""
             }
            },
            "type": "scattercarpet"
           }
          ],
          "scattergeo": [
           {
            "marker": {
             "colorbar": {
              "outlinewidth": 0,
              "ticks": ""
             }
            },
            "type": "scattergeo"
           }
          ],
          "scattergl": [
           {
            "marker": {
             "colorbar": {
              "outlinewidth": 0,
              "ticks": ""
             }
            },
            "type": "scattergl"
           }
          ],
          "scattermapbox": [
           {
            "marker": {
             "colorbar": {
              "outlinewidth": 0,
              "ticks": ""
             }
            },
            "type": "scattermapbox"
           }
          ],
          "scatterpolar": [
           {
            "marker": {
             "colorbar": {
              "outlinewidth": 0,
              "ticks": ""
             }
            },
            "type": "scatterpolar"
           }
          ],
          "scatterpolargl": [
           {
            "marker": {
             "colorbar": {
              "outlinewidth": 0,
              "ticks": ""
             }
            },
            "type": "scatterpolargl"
           }
          ],
          "scatterternary": [
           {
            "marker": {
             "colorbar": {
              "outlinewidth": 0,
              "ticks": ""
             }
            },
            "type": "scatterternary"
           }
          ],
          "surface": [
           {
            "colorbar": {
             "outlinewidth": 0,
             "ticks": ""
            },
            "colorscale": [
             [
              0,
              "#0d0887"
             ],
             [
              0.1111111111111111,
              "#46039f"
             ],
             [
              0.2222222222222222,
              "#7201a8"
             ],
             [
              0.3333333333333333,
              "#9c179e"
             ],
             [
              0.4444444444444444,
              "#bd3786"
             ],
             [
              0.5555555555555556,
              "#d8576b"
             ],
             [
              0.6666666666666666,
              "#ed7953"
             ],
             [
              0.7777777777777778,
              "#fb9f3a"
             ],
             [
              0.8888888888888888,
              "#fdca26"
             ],
             [
              1,
              "#f0f921"
             ]
            ],
            "type": "surface"
           }
          ],
          "table": [
           {
            "cells": {
             "fill": {
              "color": "#EBF0F8"
             },
             "line": {
              "color": "white"
             }
            },
            "header": {
             "fill": {
              "color": "#C8D4E3"
             },
             "line": {
              "color": "white"
             }
            },
            "type": "table"
           }
          ]
         },
         "layout": {
          "annotationdefaults": {
           "arrowcolor": "#2a3f5f",
           "arrowhead": 0,
           "arrowwidth": 1
          },
          "autotypenumbers": "strict",
          "coloraxis": {
           "colorbar": {
            "outlinewidth": 0,
            "ticks": ""
           }
          },
          "colorscale": {
           "diverging": [
            [
             0,
             "#8e0152"
            ],
            [
             0.1,
             "#c51b7d"
            ],
            [
             0.2,
             "#de77ae"
            ],
            [
             0.3,
             "#f1b6da"
            ],
            [
             0.4,
             "#fde0ef"
            ],
            [
             0.5,
             "#f7f7f7"
            ],
            [
             0.6,
             "#e6f5d0"
            ],
            [
             0.7,
             "#b8e186"
            ],
            [
             0.8,
             "#7fbc41"
            ],
            [
             0.9,
             "#4d9221"
            ],
            [
             1,
             "#276419"
            ]
           ],
           "sequential": [
            [
             0,
             "#0d0887"
            ],
            [
             0.1111111111111111,
             "#46039f"
            ],
            [
             0.2222222222222222,
             "#7201a8"
            ],
            [
             0.3333333333333333,
             "#9c179e"
            ],
            [
             0.4444444444444444,
             "#bd3786"
            ],
            [
             0.5555555555555556,
             "#d8576b"
            ],
            [
             0.6666666666666666,
             "#ed7953"
            ],
            [
             0.7777777777777778,
             "#fb9f3a"
            ],
            [
             0.8888888888888888,
             "#fdca26"
            ],
            [
             1,
             "#f0f921"
            ]
           ],
           "sequentialminus": [
            [
             0,
             "#0d0887"
            ],
            [
             0.1111111111111111,
             "#46039f"
            ],
            [
             0.2222222222222222,
             "#7201a8"
            ],
            [
             0.3333333333333333,
             "#9c179e"
            ],
            [
             0.4444444444444444,
             "#bd3786"
            ],
            [
             0.5555555555555556,
             "#d8576b"
            ],
            [
             0.6666666666666666,
             "#ed7953"
            ],
            [
             0.7777777777777778,
             "#fb9f3a"
            ],
            [
             0.8888888888888888,
             "#fdca26"
            ],
            [
             1,
             "#f0f921"
            ]
           ]
          },
          "colorway": [
           "#636efa",
           "#EF553B",
           "#00cc96",
           "#ab63fa",
           "#FFA15A",
           "#19d3f3",
           "#FF6692",
           "#B6E880",
           "#FF97FF",
           "#FECB52"
          ],
          "font": {
           "color": "#2a3f5f"
          },
          "geo": {
           "bgcolor": "white",
           "lakecolor": "white",
           "landcolor": "#E5ECF6",
           "showlakes": true,
           "showland": true,
           "subunitcolor": "white"
          },
          "hoverlabel": {
           "align": "left"
          },
          "hovermode": "closest",
          "mapbox": {
           "style": "light"
          },
          "paper_bgcolor": "white",
          "plot_bgcolor": "#E5ECF6",
          "polar": {
           "angularaxis": {
            "gridcolor": "white",
            "linecolor": "white",
            "ticks": ""
           },
           "bgcolor": "#E5ECF6",
           "radialaxis": {
            "gridcolor": "white",
            "linecolor": "white",
            "ticks": ""
           }
          },
          "scene": {
           "xaxis": {
            "backgroundcolor": "#E5ECF6",
            "gridcolor": "white",
            "gridwidth": 2,
            "linecolor": "white",
            "showbackground": true,
            "ticks": "",
            "zerolinecolor": "white"
           },
           "yaxis": {
            "backgroundcolor": "#E5ECF6",
            "gridcolor": "white",
            "gridwidth": 2,
            "linecolor": "white",
            "showbackground": true,
            "ticks": "",
            "zerolinecolor": "white"
           },
           "zaxis": {
            "backgroundcolor": "#E5ECF6",
            "gridcolor": "white",
            "gridwidth": 2,
            "linecolor": "white",
            "showbackground": true,
            "ticks": "",
            "zerolinecolor": "white"
           }
          },
          "shapedefaults": {
           "line": {
            "color": "#2a3f5f"
           }
          },
          "ternary": {
           "aaxis": {
            "gridcolor": "white",
            "linecolor": "white",
            "ticks": ""
           },
           "baxis": {
            "gridcolor": "white",
            "linecolor": "white",
            "ticks": ""
           },
           "bgcolor": "#E5ECF6",
           "caxis": {
            "gridcolor": "white",
            "linecolor": "white",
            "ticks": ""
           }
          },
          "title": {
           "x": 0.05
          },
          "xaxis": {
           "automargin": true,
           "gridcolor": "white",
           "linecolor": "white",
           "ticks": "",
           "title": {
            "standoff": 15
           },
           "zerolinecolor": "white",
           "zerolinewidth": 2
          },
          "yaxis": {
           "automargin": true,
           "gridcolor": "white",
           "linecolor": "white",
           "ticks": "",
           "title": {
            "standoff": 15
           },
           "zerolinecolor": "white",
           "zerolinewidth": 2
          }
         }
        },
        "title": {
         "text": "Trajectory Network Plot"
        },
        "xaxis": {
         "title": {
          "text": "X axis"
         }
        },
        "yaxis": {
         "title": {
          "text": "Y axis"
         }
        }
       }
      }
     },
     "metadata": {},
     "output_type": "display_data"
    },
    {
     "data": {
      "application/vnd.plotly.v1+json": {
       "config": {
        "plotlyServerURL": "https://plot.ly"
       },
       "data": [
        {
         "marker": {
          "color": [
           "yellow",
           "skyblue",
           "skyblue",
           "skyblue",
           "skyblue",
           "skyblue",
           "skyblue",
           "skyblue",
           "skyblue",
           "skyblue",
           "skyblue",
           "skyblue",
           "red",
           "skyblue",
           "skyblue",
           "skyblue",
           "skyblue",
           "skyblue",
           "skyblue",
           "skyblue",
           "green",
           "skyblue",
           "skyblue",
           "skyblue",
           "skyblue",
           "skyblue",
           "skyblue",
           "skyblue",
           "skyblue",
           "skyblue",
           "skyblue",
           "skyblue",
           "skyblue",
           "skyblue",
           "skyblue",
           "green",
           "green",
           "skyblue",
           "skyblue",
           "skyblue",
           "skyblue",
           "skyblue",
           "skyblue",
           "skyblue",
           "skyblue",
           "green",
           "skyblue",
           "skyblue",
           "skyblue",
           "skyblue",
           "skyblue",
           "skyblue",
           "skyblue",
           "skyblue",
           "skyblue",
           "yellow",
           "skyblue",
           "skyblue",
           "skyblue",
           "skyblue",
           "yellow",
           "skyblue",
           "skyblue",
           "skyblue",
           "skyblue",
           "skyblue",
           "yellow",
           "skyblue",
           "skyblue",
           "skyblue",
           "skyblue",
           "green",
           "yellow",
           "skyblue",
           "skyblue",
           "skyblue",
           "skyblue",
           "yellow",
           "skyblue",
           "skyblue",
           "skyblue",
           "skyblue"
          ],
          "opacity": 0.8,
          "size": [
           50,
           100,
           100,
           100,
           100,
           100,
           100,
           100,
           100,
           100,
           100,
           100,
           450,
           100,
           100,
           100,
           100,
           100,
           100,
           100,
           150,
           100,
           100,
           100,
           100,
           100,
           100,
           100,
           100,
           100,
           100,
           100,
           100,
           100,
           100,
           150,
           150,
           100,
           100,
           100,
           100,
           100,
           100,
           100,
           100,
           150,
           100,
           100,
           100,
           100,
           100,
           100,
           100,
           100,
           100,
           50,
           100,
           100,
           100,
           100,
           50,
           100,
           100,
           100,
           100,
           100,
           50,
           100,
           100,
           100,
           100,
           150,
           50,
           100,
           100,
           100,
           100,
           50,
           100,
           100,
           100,
           100
          ]
         },
         "mode": "markers",
         "text": [
          "",
          "",
          "",
          "",
          "",
          "",
          "",
          "",
          "",
          "",
          "",
          "",
          "",
          "",
          "",
          "",
          "",
          "",
          "",
          "",
          "",
          "",
          "",
          "",
          "",
          "",
          "",
          "",
          "",
          "",
          "",
          "",
          "",
          "",
          "",
          "",
          "",
          "",
          "",
          "",
          "",
          "",
          "",
          "",
          "",
          "",
          "",
          "",
          "",
          "",
          "",
          "",
          "",
          "",
          "",
          "",
          "",
          "",
          "",
          "",
          "",
          "",
          "",
          "",
          "",
          "",
          "",
          "",
          "",
          "",
          "",
          "",
          "",
          "",
          "",
          "",
          "",
          "",
          "",
          "",
          "",
          ""
         ],
         "type": "scatter",
         "x": [
          0.3201232353978535,
          0.2026329199649303,
          0.11560675697654285,
          0.04946664449050683,
          -0.00009491638054343071,
          -0.03694021334734324,
          -0.060135225272779584,
          -0.0719255547695596,
          -0.07093811543305796,
          -0.05535699249469435,
          -0.022335018767874776,
          0.03507452589989192,
          0.13466849269617573,
          0.2934905251680759,
          0.26896484893853945,
          0.2445119079233476,
          0.22020436484813796,
          0.19532161491227024,
          0.1702968884819858,
          0.14373397908079646,
          0.11063656992385791,
          0.13557275305401295,
          0.24418924686870136,
          0.11142450748357044,
          -0.015181066931557153,
          -0.12153836500344883,
          -0.20529867158688206,
          -0.2675892653553959,
          -0.3085499764977679,
          -0.32993460949088815,
          -0.3322310375906456,
          -0.3148121256013641,
          -0.2772871025012563,
          -0.2179324819990885,
          -0.13116404193043227,
          -0.011069207851985457,
          0.032309998488272526,
          0.2640276145908662,
          0.2125849561741043,
          0.16395322817480013,
          0.11834282666159371,
          0.07788615715672455,
          0.04283710757570138,
          0.01446138652808126,
          -0.0042020082248838105,
          0.09184360406877826,
          0.19392607625117056,
          0.09749267181743448,
          0.029572313793422265,
          -0.016265134610518855,
          -0.04345688132197489,
          -0.05394699014289733,
          -0.04798629628619448,
          -0.02348510785738488,
          0.02749777582165338,
          -0.4515491731438558,
          -0.33187761216530176,
          -0.21297205098947936,
          -0.09491052417990316,
          0.021960371691930953,
          -0.34577307697268855,
          -0.2603940590890894,
          -0.17776086785285072,
          -0.10055092004397803,
          -0.01847902452938919,
          0.06037265651754625,
          -0.2369363224014579,
          -0.18304935649464113,
          -0.1326404013448174,
          -0.07697474700439244,
          -0.024975548367760416,
          0.027920123971238314,
          0.71133689145538,
          0.592362148347557,
          0.4758909527117129,
          0.36135243189791644,
          0.24674740934948589,
          -0.3966040825560876,
          -0.31740890393751425,
          -0.2380671193090312,
          -0.15396339507100296,
          -0.06605489245090751
         ],
         "y": [
          0.810754071508508,
          0.7694118644833826,
          0.6800669236498412,
          0.5750458474119062,
          0.46163491540526114,
          0.34367551859583706,
          0.22236139539942543,
          0.09944356401816395,
          -0.024137812945694188,
          -0.14690167749473793,
          -0.26650054779539456,
          -0.3771338659371828,
          -0.45162015941697053,
          0.6713308154987475,
          0.543758968857056,
          0.4186004621765987,
          0.29439534606723,
          0.17068255900029297,
          0.04700306770543761,
          -0.07684339414470485,
          -0.20096953977068943,
          -0.3235132634354975,
          0.9335171647321518,
          0.9568993999326655,
          0.9175190138609725,
          0.8407865532061991,
          0.7412223116601273,
          0.62784232222236,
          0.5057082785622573,
          0.37910081128634265,
          0.2509778149954264,
          0.12421205527947539,
          0.001992634287020363,
          -0.1112112745531912,
          -0.20518397591672272,
          -0.25639114551178865,
          -0.3784432761214815,
          0.6973107777639899,
          0.5846303785931661,
          0.4711272816094237,
          0.356387055764101,
          0.23954106643341114,
          0.12056006569323198,
          -0.0009344738219391758,
          -0.1257453729912364,
          -0.332550594725525,
          0.8029442453573913,
          0.7204717512352813,
          0.6146261001215384,
          0.4982371137288633,
          0.37656855442777587,
          0.2526072081189029,
          0.12849457198171046,
          0.006751760470583555,
          -0.10648482284733705,
          -0.6071655164821529,
          -0.5858463363069617,
          -0.5605411012745458,
          -0.531421328277681,
          -0.49762884232034416,
          -1,
          -0.9134013163526568,
          -0.8241564788705207,
          -0.7301714900977381,
          -0.6404308903657304,
          -0.5478786302223739,
          0.16899958511270713,
          0.059948223649178255,
          -0.05081955939652747,
          -0.15916089350713716,
          -0.26964602426634143,
          -0.5058946801726342,
          -0.6409428011152944,
          -0.6155823751210245,
          -0.5805192207603276,
          -0.5396459491868674,
          -0.4989504388203618,
          -0.9418360101198231,
          -0.8495554740394269,
          -0.7573065105072473,
          -0.6692664449115666,
          -0.5848159099385597
         ]
        },
        {
         "line": {
          "color": "blue",
          "width": 2
         },
         "mode": "lines",
         "opacity": 0.5,
         "type": "scatter",
         "x": [
          0.3201232353978535,
          0.2026329199649303,
          null
         ],
         "y": [
          0.810754071508508,
          0.7694118644833826,
          null
         ]
        },
        {
         "line": {
          "color": "blue",
          "width": 2
         },
         "mode": "lines",
         "opacity": 0.5,
         "type": "scatter",
         "x": [
          0.3201232353978535,
          0.2934905251680759,
          null
         ],
         "y": [
          0.810754071508508,
          0.6713308154987475,
          null
         ]
        },
        {
         "line": {
          "color": "blue",
          "width": 2
         },
         "mode": "lines",
         "opacity": 0.5,
         "type": "scatter",
         "x": [
          0.3201232353978535,
          0.24418924686870136,
          null
         ],
         "y": [
          0.810754071508508,
          0.9335171647321518,
          null
         ]
        },
        {
         "line": {
          "color": "blue",
          "width": 2
         },
         "mode": "lines",
         "opacity": 0.5,
         "type": "scatter",
         "x": [
          0.3201232353978535,
          0.2640276145908662,
          null
         ],
         "y": [
          0.810754071508508,
          0.6973107777639899,
          null
         ]
        },
        {
         "line": {
          "color": "blue",
          "width": 2
         },
         "mode": "lines",
         "opacity": 0.5,
         "type": "scatter",
         "x": [
          0.3201232353978535,
          0.19392607625117056,
          null
         ],
         "y": [
          0.810754071508508,
          0.8029442453573913,
          null
         ]
        },
        {
         "line": {
          "color": "blue",
          "width": 2
         },
         "mode": "lines",
         "opacity": 0.5,
         "type": "scatter",
         "x": [
          0.2026329199649303,
          0.11560675697654285,
          null
         ],
         "y": [
          0.7694118644833826,
          0.6800669236498412,
          null
         ]
        },
        {
         "line": {
          "color": "blue",
          "width": 2
         },
         "mode": "lines",
         "opacity": 0.5,
         "type": "scatter",
         "x": [
          0.11560675697654285,
          0.04946664449050683,
          null
         ],
         "y": [
          0.6800669236498412,
          0.5750458474119062,
          null
         ]
        },
        {
         "line": {
          "color": "blue",
          "width": 2
         },
         "mode": "lines",
         "opacity": 0.5,
         "type": "scatter",
         "x": [
          0.04946664449050683,
          -0.00009491638054343071,
          null
         ],
         "y": [
          0.5750458474119062,
          0.46163491540526114,
          null
         ]
        },
        {
         "line": {
          "color": "blue",
          "width": 2
         },
         "mode": "lines",
         "opacity": 0.5,
         "type": "scatter",
         "x": [
          -0.00009491638054343071,
          -0.03694021334734324,
          null
         ],
         "y": [
          0.46163491540526114,
          0.34367551859583706,
          null
         ]
        },
        {
         "line": {
          "color": "blue",
          "width": 2
         },
         "mode": "lines",
         "opacity": 0.5,
         "type": "scatter",
         "x": [
          -0.03694021334734324,
          -0.060135225272779584,
          null
         ],
         "y": [
          0.34367551859583706,
          0.22236139539942543,
          null
         ]
        },
        {
         "line": {
          "color": "blue",
          "width": 2
         },
         "mode": "lines",
         "opacity": 0.5,
         "type": "scatter",
         "x": [
          -0.060135225272779584,
          -0.0719255547695596,
          null
         ],
         "y": [
          0.22236139539942543,
          0.09944356401816395,
          null
         ]
        },
        {
         "line": {
          "color": "blue",
          "width": 2
         },
         "mode": "lines",
         "opacity": 0.5,
         "type": "scatter",
         "x": [
          -0.0719255547695596,
          -0.07093811543305796,
          null
         ],
         "y": [
          0.09944356401816395,
          -0.024137812945694188,
          null
         ]
        },
        {
         "line": {
          "color": "blue",
          "width": 2
         },
         "mode": "lines",
         "opacity": 0.5,
         "type": "scatter",
         "x": [
          -0.07093811543305796,
          -0.05535699249469435,
          null
         ],
         "y": [
          -0.024137812945694188,
          -0.14690167749473793,
          null
         ]
        },
        {
         "line": {
          "color": "blue",
          "width": 2
         },
         "mode": "lines",
         "opacity": 0.5,
         "type": "scatter",
         "x": [
          -0.05535699249469435,
          -0.022335018767874776,
          null
         ],
         "y": [
          -0.14690167749473793,
          -0.26650054779539456,
          null
         ]
        },
        {
         "line": {
          "color": "blue",
          "width": 2
         },
         "mode": "lines",
         "opacity": 0.5,
         "type": "scatter",
         "x": [
          -0.022335018767874776,
          0.03507452589989192,
          null
         ],
         "y": [
          -0.26650054779539456,
          -0.3771338659371828,
          null
         ]
        },
        {
         "line": {
          "color": "blue",
          "width": 2
         },
         "mode": "lines",
         "opacity": 0.5,
         "type": "scatter",
         "x": [
          0.03507452589989192,
          0.13466849269617573,
          null
         ],
         "y": [
          -0.3771338659371828,
          -0.45162015941697053,
          null
         ]
        },
        {
         "line": {
          "color": "blue",
          "width": 2
         },
         "mode": "lines",
         "opacity": 0.5,
         "type": "scatter",
         "x": [
          0.2934905251680759,
          0.26896484893853945,
          null
         ],
         "y": [
          0.6713308154987475,
          0.543758968857056,
          null
         ]
        },
        {
         "line": {
          "color": "blue",
          "width": 2
         },
         "mode": "lines",
         "opacity": 0.5,
         "type": "scatter",
         "x": [
          0.26896484893853945,
          0.2445119079233476,
          null
         ],
         "y": [
          0.543758968857056,
          0.4186004621765987,
          null
         ]
        },
        {
         "line": {
          "color": "blue",
          "width": 2
         },
         "mode": "lines",
         "opacity": 0.5,
         "type": "scatter",
         "x": [
          0.2445119079233476,
          0.22020436484813796,
          null
         ],
         "y": [
          0.4186004621765987,
          0.29439534606723,
          null
         ]
        },
        {
         "line": {
          "color": "blue",
          "width": 2
         },
         "mode": "lines",
         "opacity": 0.5,
         "type": "scatter",
         "x": [
          0.22020436484813796,
          0.19532161491227024,
          null
         ],
         "y": [
          0.29439534606723,
          0.17068255900029297,
          null
         ]
        },
        {
         "line": {
          "color": "blue",
          "width": 2
         },
         "mode": "lines",
         "opacity": 0.5,
         "type": "scatter",
         "x": [
          0.19532161491227024,
          0.1702968884819858,
          null
         ],
         "y": [
          0.17068255900029297,
          0.04700306770543761,
          null
         ]
        },
        {
         "line": {
          "color": "blue",
          "width": 2
         },
         "mode": "lines",
         "opacity": 0.5,
         "type": "scatter",
         "x": [
          0.1702968884819858,
          0.14373397908079646,
          null
         ],
         "y": [
          0.04700306770543761,
          -0.07684339414470485,
          null
         ]
        },
        {
         "line": {
          "color": "blue",
          "width": 2
         },
         "mode": "lines",
         "opacity": 0.5,
         "type": "scatter",
         "x": [
          0.14373397908079646,
          0.11063656992385791,
          null
         ],
         "y": [
          -0.07684339414470485,
          -0.20096953977068943,
          null
         ]
        },
        {
         "line": {
          "color": "blue",
          "width": 2
         },
         "mode": "lines",
         "opacity": 0.5,
         "type": "scatter",
         "x": [
          0.11063656992385791,
          0.13557275305401295,
          null
         ],
         "y": [
          -0.20096953977068943,
          -0.3235132634354975,
          null
         ]
        },
        {
         "line": {
          "color": "blue",
          "width": 2
         },
         "mode": "lines",
         "opacity": 0.5,
         "type": "scatter",
         "x": [
          0.11063656992385791,
          0.09184360406877826,
          null
         ],
         "y": [
          -0.20096953977068943,
          -0.332550594725525,
          null
         ]
        },
        {
         "line": {
          "color": "blue",
          "width": 2
         },
         "mode": "lines",
         "opacity": 0.5,
         "type": "scatter",
         "x": [
          0.13557275305401295,
          0.13466849269617573,
          null
         ],
         "y": [
          -0.3235132634354975,
          -0.45162015941697053,
          null
         ]
        },
        {
         "line": {
          "color": "blue",
          "width": 2
         },
         "mode": "lines",
         "opacity": 0.5,
         "type": "scatter",
         "x": [
          0.24418924686870136,
          0.11142450748357044,
          null
         ],
         "y": [
          0.9335171647321518,
          0.9568993999326655,
          null
         ]
        },
        {
         "line": {
          "color": "blue",
          "width": 2
         },
         "mode": "lines",
         "opacity": 0.5,
         "type": "scatter",
         "x": [
          0.11142450748357044,
          -0.015181066931557153,
          null
         ],
         "y": [
          0.9568993999326655,
          0.9175190138609725,
          null
         ]
        },
        {
         "line": {
          "color": "blue",
          "width": 2
         },
         "mode": "lines",
         "opacity": 0.5,
         "type": "scatter",
         "x": [
          -0.015181066931557153,
          -0.12153836500344883,
          null
         ],
         "y": [
          0.9175190138609725,
          0.8407865532061991,
          null
         ]
        },
        {
         "line": {
          "color": "blue",
          "width": 2
         },
         "mode": "lines",
         "opacity": 0.5,
         "type": "scatter",
         "x": [
          -0.12153836500344883,
          -0.20529867158688206,
          null
         ],
         "y": [
          0.8407865532061991,
          0.7412223116601273,
          null
         ]
        },
        {
         "line": {
          "color": "blue",
          "width": 2
         },
         "mode": "lines",
         "opacity": 0.5,
         "type": "scatter",
         "x": [
          -0.20529867158688206,
          -0.2675892653553959,
          null
         ],
         "y": [
          0.7412223116601273,
          0.62784232222236,
          null
         ]
        },
        {
         "line": {
          "color": "blue",
          "width": 2
         },
         "mode": "lines",
         "opacity": 0.5,
         "type": "scatter",
         "x": [
          -0.2675892653553959,
          -0.3085499764977679,
          null
         ],
         "y": [
          0.62784232222236,
          0.5057082785622573,
          null
         ]
        },
        {
         "line": {
          "color": "blue",
          "width": 2
         },
         "mode": "lines",
         "opacity": 0.5,
         "type": "scatter",
         "x": [
          -0.3085499764977679,
          -0.32993460949088815,
          null
         ],
         "y": [
          0.5057082785622573,
          0.37910081128634265,
          null
         ]
        },
        {
         "line": {
          "color": "blue",
          "width": 2
         },
         "mode": "lines",
         "opacity": 0.5,
         "type": "scatter",
         "x": [
          -0.32993460949088815,
          -0.3322310375906456,
          null
         ],
         "y": [
          0.37910081128634265,
          0.2509778149954264,
          null
         ]
        },
        {
         "line": {
          "color": "blue",
          "width": 2
         },
         "mode": "lines",
         "opacity": 0.5,
         "type": "scatter",
         "x": [
          -0.3322310375906456,
          -0.3148121256013641,
          null
         ],
         "y": [
          0.2509778149954264,
          0.12421205527947539,
          null
         ]
        },
        {
         "line": {
          "color": "blue",
          "width": 2
         },
         "mode": "lines",
         "opacity": 0.5,
         "type": "scatter",
         "x": [
          -0.3148121256013641,
          -0.2772871025012563,
          null
         ],
         "y": [
          0.12421205527947539,
          0.001992634287020363,
          null
         ]
        },
        {
         "line": {
          "color": "blue",
          "width": 2
         },
         "mode": "lines",
         "opacity": 0.5,
         "type": "scatter",
         "x": [
          -0.2772871025012563,
          -0.2179324819990885,
          null
         ],
         "y": [
          0.001992634287020363,
          -0.1112112745531912,
          null
         ]
        },
        {
         "line": {
          "color": "blue",
          "width": 2
         },
         "mode": "lines",
         "opacity": 0.5,
         "type": "scatter",
         "x": [
          -0.2179324819990885,
          -0.13116404193043227,
          null
         ],
         "y": [
          -0.1112112745531912,
          -0.20518397591672272,
          null
         ]
        },
        {
         "line": {
          "color": "blue",
          "width": 2
         },
         "mode": "lines",
         "opacity": 0.5,
         "type": "scatter",
         "x": [
          -0.13116404193043227,
          -0.011069207851985457,
          null
         ],
         "y": [
          -0.20518397591672272,
          -0.25639114551178865,
          null
         ]
        },
        {
         "line": {
          "color": "blue",
          "width": 2
         },
         "mode": "lines",
         "opacity": 0.5,
         "type": "scatter",
         "x": [
          -0.011069207851985457,
          0.032309998488272526,
          null
         ],
         "y": [
          -0.25639114551178865,
          -0.3784432761214815,
          null
         ]
        },
        {
         "line": {
          "color": "blue",
          "width": 2
         },
         "mode": "lines",
         "opacity": 0.5,
         "type": "scatter",
         "x": [
          -0.011069207851985457,
          0.09184360406877826,
          null
         ],
         "y": [
          -0.25639114551178865,
          -0.332550594725525,
          null
         ]
        },
        {
         "line": {
          "color": "blue",
          "width": 2
         },
         "mode": "lines",
         "opacity": 0.5,
         "type": "scatter",
         "x": [
          0.032309998488272526,
          0.13466849269617573,
          null
         ],
         "y": [
          -0.3784432761214815,
          -0.45162015941697053,
          null
         ]
        },
        {
         "line": {
          "color": "orange",
          "width": 2
         },
         "mode": "lines",
         "opacity": 0.5,
         "type": "scatter",
         "x": [
          0.032309998488272526,
          0.027920123971238314,
          null
         ],
         "y": [
          -0.3784432761214815,
          -0.5058946801726342,
          null
         ]
        },
        {
         "line": {
          "color": "blue",
          "width": 2
         },
         "mode": "lines",
         "opacity": 0.5,
         "type": "scatter",
         "x": [
          0.2640276145908662,
          0.2125849561741043,
          null
         ],
         "y": [
          0.6973107777639899,
          0.5846303785931661,
          null
         ]
        },
        {
         "line": {
          "color": "blue",
          "width": 2
         },
         "mode": "lines",
         "opacity": 0.5,
         "type": "scatter",
         "x": [
          0.2125849561741043,
          0.16395322817480013,
          null
         ],
         "y": [
          0.5846303785931661,
          0.4711272816094237,
          null
         ]
        },
        {
         "line": {
          "color": "blue",
          "width": 2
         },
         "mode": "lines",
         "opacity": 0.5,
         "type": "scatter",
         "x": [
          0.16395322817480013,
          0.11834282666159371,
          null
         ],
         "y": [
          0.4711272816094237,
          0.356387055764101,
          null
         ]
        },
        {
         "line": {
          "color": "blue",
          "width": 2
         },
         "mode": "lines",
         "opacity": 0.5,
         "type": "scatter",
         "x": [
          0.11834282666159371,
          0.07788615715672455,
          null
         ],
         "y": [
          0.356387055764101,
          0.23954106643341114,
          null
         ]
        },
        {
         "line": {
          "color": "blue",
          "width": 2
         },
         "mode": "lines",
         "opacity": 0.5,
         "type": "scatter",
         "x": [
          0.07788615715672455,
          0.04283710757570138,
          null
         ],
         "y": [
          0.23954106643341114,
          0.12056006569323198,
          null
         ]
        },
        {
         "line": {
          "color": "blue",
          "width": 2
         },
         "mode": "lines",
         "opacity": 0.5,
         "type": "scatter",
         "x": [
          0.04283710757570138,
          0.01446138652808126,
          null
         ],
         "y": [
          0.12056006569323198,
          -0.0009344738219391758,
          null
         ]
        },
        {
         "line": {
          "color": "blue",
          "width": 2
         },
         "mode": "lines",
         "opacity": 0.5,
         "type": "scatter",
         "x": [
          0.01446138652808126,
          -0.0042020082248838105,
          null
         ],
         "y": [
          -0.0009344738219391758,
          -0.1257453729912364,
          null
         ]
        },
        {
         "line": {
          "color": "blue",
          "width": 2
         },
         "mode": "lines",
         "opacity": 0.5,
         "type": "scatter",
         "x": [
          -0.0042020082248838105,
          -0.011069207851985457,
          null
         ],
         "y": [
          -0.1257453729912364,
          -0.25639114551178865,
          null
         ]
        },
        {
         "line": {
          "color": "blue",
          "width": 2
         },
         "mode": "lines",
         "opacity": 0.5,
         "type": "scatter",
         "x": [
          0.09184360406877826,
          0.13466849269617573,
          null
         ],
         "y": [
          -0.332550594725525,
          -0.45162015941697053,
          null
         ]
        },
        {
         "line": {
          "color": "blue",
          "width": 2
         },
         "mode": "lines",
         "opacity": 0.5,
         "type": "scatter",
         "x": [
          0.19392607625117056,
          0.09749267181743448,
          null
         ],
         "y": [
          0.8029442453573913,
          0.7204717512352813,
          null
         ]
        },
        {
         "line": {
          "color": "blue",
          "width": 2
         },
         "mode": "lines",
         "opacity": 0.5,
         "type": "scatter",
         "x": [
          0.09749267181743448,
          0.029572313793422265,
          null
         ],
         "y": [
          0.7204717512352813,
          0.6146261001215384,
          null
         ]
        },
        {
         "line": {
          "color": "blue",
          "width": 2
         },
         "mode": "lines",
         "opacity": 0.5,
         "type": "scatter",
         "x": [
          0.029572313793422265,
          -0.016265134610518855,
          null
         ],
         "y": [
          0.6146261001215384,
          0.4982371137288633,
          null
         ]
        },
        {
         "line": {
          "color": "blue",
          "width": 2
         },
         "mode": "lines",
         "opacity": 0.5,
         "type": "scatter",
         "x": [
          -0.016265134610518855,
          -0.04345688132197489,
          null
         ],
         "y": [
          0.4982371137288633,
          0.37656855442777587,
          null
         ]
        },
        {
         "line": {
          "color": "blue",
          "width": 2
         },
         "mode": "lines",
         "opacity": 0.5,
         "type": "scatter",
         "x": [
          -0.04345688132197489,
          -0.05394699014289733,
          null
         ],
         "y": [
          0.37656855442777587,
          0.2526072081189029,
          null
         ]
        },
        {
         "line": {
          "color": "blue",
          "width": 2
         },
         "mode": "lines",
         "opacity": 0.5,
         "type": "scatter",
         "x": [
          -0.05394699014289733,
          -0.04798629628619448,
          null
         ],
         "y": [
          0.2526072081189029,
          0.12849457198171046,
          null
         ]
        },
        {
         "line": {
          "color": "blue",
          "width": 2
         },
         "mode": "lines",
         "opacity": 0.5,
         "type": "scatter",
         "x": [
          -0.04798629628619448,
          -0.02348510785738488,
          null
         ],
         "y": [
          0.12849457198171046,
          0.006751760470583555,
          null
         ]
        },
        {
         "line": {
          "color": "blue",
          "width": 2
         },
         "mode": "lines",
         "opacity": 0.5,
         "type": "scatter",
         "x": [
          -0.02348510785738488,
          0.02749777582165338,
          null
         ],
         "y": [
          0.006751760470583555,
          -0.10648482284733705,
          null
         ]
        },
        {
         "line": {
          "color": "blue",
          "width": 2
         },
         "mode": "lines",
         "opacity": 0.5,
         "type": "scatter",
         "x": [
          0.02749777582165338,
          0.11063656992385791,
          null
         ],
         "y": [
          -0.10648482284733705,
          -0.20096953977068943,
          null
         ]
        },
        {
         "line": {
          "color": "orange",
          "width": 2
         },
         "mode": "lines",
         "opacity": 0.5,
         "type": "scatter",
         "x": [
          -0.4515491731438558,
          -0.33187761216530176,
          null
         ],
         "y": [
          -0.6071655164821529,
          -0.5858463363069617,
          null
         ]
        },
        {
         "line": {
          "color": "orange",
          "width": 2
         },
         "mode": "lines",
         "opacity": 0.5,
         "type": "scatter",
         "x": [
          -0.33187761216530176,
          -0.21297205098947936,
          null
         ],
         "y": [
          -0.5858463363069617,
          -0.5605411012745458,
          null
         ]
        },
        {
         "line": {
          "color": "orange",
          "width": 2
         },
         "mode": "lines",
         "opacity": 0.5,
         "type": "scatter",
         "x": [
          -0.21297205098947936,
          -0.09491052417990316,
          null
         ],
         "y": [
          -0.5605411012745458,
          -0.531421328277681,
          null
         ]
        },
        {
         "line": {
          "color": "orange",
          "width": 2
         },
         "mode": "lines",
         "opacity": 0.5,
         "type": "scatter",
         "x": [
          -0.09491052417990316,
          0.021960371691930953,
          null
         ],
         "y": [
          -0.531421328277681,
          -0.49762884232034416,
          null
         ]
        },
        {
         "line": {
          "color": "orange",
          "width": 2
         },
         "mode": "lines",
         "opacity": 0.5,
         "type": "scatter",
         "x": [
          0.021960371691930953,
          0.13466849269617573,
          null
         ],
         "y": [
          -0.49762884232034416,
          -0.45162015941697053,
          null
         ]
        },
        {
         "line": {
          "color": "orange",
          "width": 2
         },
         "mode": "lines",
         "opacity": 0.5,
         "type": "scatter",
         "x": [
          -0.34577307697268855,
          -0.2603940590890894,
          null
         ],
         "y": [
          -1,
          -0.9134013163526568,
          null
         ]
        },
        {
         "line": {
          "color": "orange",
          "width": 2
         },
         "mode": "lines",
         "opacity": 0.5,
         "type": "scatter",
         "x": [
          -0.2603940590890894,
          -0.17776086785285072,
          null
         ],
         "y": [
          -0.9134013163526568,
          -0.8241564788705207,
          null
         ]
        },
        {
         "line": {
          "color": "orange",
          "width": 2
         },
         "mode": "lines",
         "opacity": 0.5,
         "type": "scatter",
         "x": [
          -0.17776086785285072,
          -0.10055092004397803,
          null
         ],
         "y": [
          -0.8241564788705207,
          -0.7301714900977381,
          null
         ]
        },
        {
         "line": {
          "color": "orange",
          "width": 2
         },
         "mode": "lines",
         "opacity": 0.5,
         "type": "scatter",
         "x": [
          -0.10055092004397803,
          -0.01847902452938919,
          null
         ],
         "y": [
          -0.7301714900977381,
          -0.6404308903657304,
          null
         ]
        },
        {
         "line": {
          "color": "orange",
          "width": 2
         },
         "mode": "lines",
         "opacity": 0.5,
         "type": "scatter",
         "x": [
          -0.01847902452938919,
          0.06037265651754625,
          null
         ],
         "y": [
          -0.6404308903657304,
          -0.5478786302223739,
          null
         ]
        },
        {
         "line": {
          "color": "orange",
          "width": 2
         },
         "mode": "lines",
         "opacity": 0.5,
         "type": "scatter",
         "x": [
          0.06037265651754625,
          0.13466849269617573,
          null
         ],
         "y": [
          -0.5478786302223739,
          -0.45162015941697053,
          null
         ]
        },
        {
         "line": {
          "color": "orange",
          "width": 2
         },
         "mode": "lines",
         "opacity": 0.5,
         "type": "scatter",
         "x": [
          -0.2369363224014579,
          -0.18304935649464113,
          null
         ],
         "y": [
          0.16899958511270713,
          0.059948223649178255,
          null
         ]
        },
        {
         "line": {
          "color": "orange",
          "width": 2
         },
         "mode": "lines",
         "opacity": 0.5,
         "type": "scatter",
         "x": [
          -0.18304935649464113,
          -0.1326404013448174,
          null
         ],
         "y": [
          0.059948223649178255,
          -0.05081955939652747,
          null
         ]
        },
        {
         "line": {
          "color": "orange",
          "width": 2
         },
         "mode": "lines",
         "opacity": 0.5,
         "type": "scatter",
         "x": [
          -0.1326404013448174,
          -0.07697474700439244,
          null
         ],
         "y": [
          -0.05081955939652747,
          -0.15916089350713716,
          null
         ]
        },
        {
         "line": {
          "color": "orange",
          "width": 2
         },
         "mode": "lines",
         "opacity": 0.5,
         "type": "scatter",
         "x": [
          -0.07697474700439244,
          -0.024975548367760416,
          null
         ],
         "y": [
          -0.15916089350713716,
          -0.26964602426634143,
          null
         ]
        },
        {
         "line": {
          "color": "orange",
          "width": 2
         },
         "mode": "lines",
         "opacity": 0.5,
         "type": "scatter",
         "x": [
          -0.024975548367760416,
          0.032309998488272526,
          null
         ],
         "y": [
          -0.26964602426634143,
          -0.3784432761214815,
          null
         ]
        },
        {
         "line": {
          "color": "orange",
          "width": 2
         },
         "mode": "lines",
         "opacity": 0.5,
         "type": "scatter",
         "x": [
          0.027920123971238314,
          0.13466849269617573,
          null
         ],
         "y": [
          -0.5058946801726342,
          -0.45162015941697053,
          null
         ]
        },
        {
         "line": {
          "color": "orange",
          "width": 2
         },
         "mode": "lines",
         "opacity": 0.5,
         "type": "scatter",
         "x": [
          0.71133689145538,
          0.592362148347557,
          null
         ],
         "y": [
          -0.6409428011152944,
          -0.6155823751210245,
          null
         ]
        },
        {
         "line": {
          "color": "orange",
          "width": 2
         },
         "mode": "lines",
         "opacity": 0.5,
         "type": "scatter",
         "x": [
          0.592362148347557,
          0.4758909527117129,
          null
         ],
         "y": [
          -0.6155823751210245,
          -0.5805192207603276,
          null
         ]
        },
        {
         "line": {
          "color": "orange",
          "width": 2
         },
         "mode": "lines",
         "opacity": 0.5,
         "type": "scatter",
         "x": [
          0.4758909527117129,
          0.36135243189791644,
          null
         ],
         "y": [
          -0.5805192207603276,
          -0.5396459491868674,
          null
         ]
        },
        {
         "line": {
          "color": "orange",
          "width": 2
         },
         "mode": "lines",
         "opacity": 0.5,
         "type": "scatter",
         "x": [
          0.36135243189791644,
          0.24674740934948589,
          null
         ],
         "y": [
          -0.5396459491868674,
          -0.4989504388203618,
          null
         ]
        },
        {
         "line": {
          "color": "orange",
          "width": 2
         },
         "mode": "lines",
         "opacity": 0.5,
         "type": "scatter",
         "x": [
          0.24674740934948589,
          0.13466849269617573,
          null
         ],
         "y": [
          -0.4989504388203618,
          -0.45162015941697053,
          null
         ]
        },
        {
         "line": {
          "color": "orange",
          "width": 2
         },
         "mode": "lines",
         "opacity": 0.5,
         "type": "scatter",
         "x": [
          -0.3966040825560876,
          -0.31740890393751425,
          null
         ],
         "y": [
          -0.9418360101198231,
          -0.8495554740394269,
          null
         ]
        },
        {
         "line": {
          "color": "orange",
          "width": 2
         },
         "mode": "lines",
         "opacity": 0.5,
         "type": "scatter",
         "x": [
          -0.31740890393751425,
          -0.2380671193090312,
          null
         ],
         "y": [
          -0.8495554740394269,
          -0.7573065105072473,
          null
         ]
        },
        {
         "line": {
          "color": "orange",
          "width": 2
         },
         "mode": "lines",
         "opacity": 0.5,
         "type": "scatter",
         "x": [
          -0.2380671193090312,
          -0.15396339507100296,
          null
         ],
         "y": [
          -0.7573065105072473,
          -0.6692664449115666,
          null
         ]
        },
        {
         "line": {
          "color": "orange",
          "width": 2
         },
         "mode": "lines",
         "opacity": 0.5,
         "type": "scatter",
         "x": [
          -0.15396339507100296,
          -0.06605489245090751,
          null
         ],
         "y": [
          -0.6692664449115666,
          -0.5848159099385597,
          null
         ]
        },
        {
         "line": {
          "color": "orange",
          "width": 2
         },
         "mode": "lines",
         "opacity": 0.5,
         "type": "scatter",
         "x": [
          -0.06605489245090751,
          0.027920123971238314,
          null
         ],
         "y": [
          -0.5848159099385597,
          -0.5058946801726342,
          null
         ]
        }
       ],
       "layout": {
        "template": {
         "data": {
          "bar": [
           {
            "error_x": {
             "color": "#2a3f5f"
            },
            "error_y": {
             "color": "#2a3f5f"
            },
            "marker": {
             "line": {
              "color": "#E5ECF6",
              "width": 0.5
             },
             "pattern": {
              "fillmode": "overlay",
              "size": 10,
              "solidity": 0.2
             }
            },
            "type": "bar"
           }
          ],
          "barpolar": [
           {
            "marker": {
             "line": {
              "color": "#E5ECF6",
              "width": 0.5
             },
             "pattern": {
              "fillmode": "overlay",
              "size": 10,
              "solidity": 0.2
             }
            },
            "type": "barpolar"
           }
          ],
          "carpet": [
           {
            "aaxis": {
             "endlinecolor": "#2a3f5f",
             "gridcolor": "white",
             "linecolor": "white",
             "minorgridcolor": "white",
             "startlinecolor": "#2a3f5f"
            },
            "baxis": {
             "endlinecolor": "#2a3f5f",
             "gridcolor": "white",
             "linecolor": "white",
             "minorgridcolor": "white",
             "startlinecolor": "#2a3f5f"
            },
            "type": "carpet"
           }
          ],
          "choropleth": [
           {
            "colorbar": {
             "outlinewidth": 0,
             "ticks": ""
            },
            "type": "choropleth"
           }
          ],
          "contour": [
           {
            "colorbar": {
             "outlinewidth": 0,
             "ticks": ""
            },
            "colorscale": [
             [
              0,
              "#0d0887"
             ],
             [
              0.1111111111111111,
              "#46039f"
             ],
             [
              0.2222222222222222,
              "#7201a8"
             ],
             [
              0.3333333333333333,
              "#9c179e"
             ],
             [
              0.4444444444444444,
              "#bd3786"
             ],
             [
              0.5555555555555556,
              "#d8576b"
             ],
             [
              0.6666666666666666,
              "#ed7953"
             ],
             [
              0.7777777777777778,
              "#fb9f3a"
             ],
             [
              0.8888888888888888,
              "#fdca26"
             ],
             [
              1,
              "#f0f921"
             ]
            ],
            "type": "contour"
           }
          ],
          "contourcarpet": [
           {
            "colorbar": {
             "outlinewidth": 0,
             "ticks": ""
            },
            "type": "contourcarpet"
           }
          ],
          "heatmap": [
           {
            "colorbar": {
             "outlinewidth": 0,
             "ticks": ""
            },
            "colorscale": [
             [
              0,
              "#0d0887"
             ],
             [
              0.1111111111111111,
              "#46039f"
             ],
             [
              0.2222222222222222,
              "#7201a8"
             ],
             [
              0.3333333333333333,
              "#9c179e"
             ],
             [
              0.4444444444444444,
              "#bd3786"
             ],
             [
              0.5555555555555556,
              "#d8576b"
             ],
             [
              0.6666666666666666,
              "#ed7953"
             ],
             [
              0.7777777777777778,
              "#fb9f3a"
             ],
             [
              0.8888888888888888,
              "#fdca26"
             ],
             [
              1,
              "#f0f921"
             ]
            ],
            "type": "heatmap"
           }
          ],
          "heatmapgl": [
           {
            "colorbar": {
             "outlinewidth": 0,
             "ticks": ""
            },
            "colorscale": [
             [
              0,
              "#0d0887"
             ],
             [
              0.1111111111111111,
              "#46039f"
             ],
             [
              0.2222222222222222,
              "#7201a8"
             ],
             [
              0.3333333333333333,
              "#9c179e"
             ],
             [
              0.4444444444444444,
              "#bd3786"
             ],
             [
              0.5555555555555556,
              "#d8576b"
             ],
             [
              0.6666666666666666,
              "#ed7953"
             ],
             [
              0.7777777777777778,
              "#fb9f3a"
             ],
             [
              0.8888888888888888,
              "#fdca26"
             ],
             [
              1,
              "#f0f921"
             ]
            ],
            "type": "heatmapgl"
           }
          ],
          "histogram": [
           {
            "marker": {
             "pattern": {
              "fillmode": "overlay",
              "size": 10,
              "solidity": 0.2
             }
            },
            "type": "histogram"
           }
          ],
          "histogram2d": [
           {
            "colorbar": {
             "outlinewidth": 0,
             "ticks": ""
            },
            "colorscale": [
             [
              0,
              "#0d0887"
             ],
             [
              0.1111111111111111,
              "#46039f"
             ],
             [
              0.2222222222222222,
              "#7201a8"
             ],
             [
              0.3333333333333333,
              "#9c179e"
             ],
             [
              0.4444444444444444,
              "#bd3786"
             ],
             [
              0.5555555555555556,
              "#d8576b"
             ],
             [
              0.6666666666666666,
              "#ed7953"
             ],
             [
              0.7777777777777778,
              "#fb9f3a"
             ],
             [
              0.8888888888888888,
              "#fdca26"
             ],
             [
              1,
              "#f0f921"
             ]
            ],
            "type": "histogram2d"
           }
          ],
          "histogram2dcontour": [
           {
            "colorbar": {
             "outlinewidth": 0,
             "ticks": ""
            },
            "colorscale": [
             [
              0,
              "#0d0887"
             ],
             [
              0.1111111111111111,
              "#46039f"
             ],
             [
              0.2222222222222222,
              "#7201a8"
             ],
             [
              0.3333333333333333,
              "#9c179e"
             ],
             [
              0.4444444444444444,
              "#bd3786"
             ],
             [
              0.5555555555555556,
              "#d8576b"
             ],
             [
              0.6666666666666666,
              "#ed7953"
             ],
             [
              0.7777777777777778,
              "#fb9f3a"
             ],
             [
              0.8888888888888888,
              "#fdca26"
             ],
             [
              1,
              "#f0f921"
             ]
            ],
            "type": "histogram2dcontour"
           }
          ],
          "mesh3d": [
           {
            "colorbar": {
             "outlinewidth": 0,
             "ticks": ""
            },
            "type": "mesh3d"
           }
          ],
          "parcoords": [
           {
            "line": {
             "colorbar": {
              "outlinewidth": 0,
              "ticks": ""
             }
            },
            "type": "parcoords"
           }
          ],
          "pie": [
           {
            "automargin": true,
            "type": "pie"
           }
          ],
          "scatter": [
           {
            "fillpattern": {
             "fillmode": "overlay",
             "size": 10,
             "solidity": 0.2
            },
            "type": "scatter"
           }
          ],
          "scatter3d": [
           {
            "line": {
             "colorbar": {
              "outlinewidth": 0,
              "ticks": ""
             }
            },
            "marker": {
             "colorbar": {
              "outlinewidth": 0,
              "ticks": ""
             }
            },
            "type": "scatter3d"
           }
          ],
          "scattercarpet": [
           {
            "marker": {
             "colorbar": {
              "outlinewidth": 0,
              "ticks": ""
             }
            },
            "type": "scattercarpet"
           }
          ],
          "scattergeo": [
           {
            "marker": {
             "colorbar": {
              "outlinewidth": 0,
              "ticks": ""
             }
            },
            "type": "scattergeo"
           }
          ],
          "scattergl": [
           {
            "marker": {
             "colorbar": {
              "outlinewidth": 0,
              "ticks": ""
             }
            },
            "type": "scattergl"
           }
          ],
          "scattermapbox": [
           {
            "marker": {
             "colorbar": {
              "outlinewidth": 0,
              "ticks": ""
             }
            },
            "type": "scattermapbox"
           }
          ],
          "scatterpolar": [
           {
            "marker": {
             "colorbar": {
              "outlinewidth": 0,
              "ticks": ""
             }
            },
            "type": "scatterpolar"
           }
          ],
          "scatterpolargl": [
           {
            "marker": {
             "colorbar": {
              "outlinewidth": 0,
              "ticks": ""
             }
            },
            "type": "scatterpolargl"
           }
          ],
          "scatterternary": [
           {
            "marker": {
             "colorbar": {
              "outlinewidth": 0,
              "ticks": ""
             }
            },
            "type": "scatterternary"
           }
          ],
          "surface": [
           {
            "colorbar": {
             "outlinewidth": 0,
             "ticks": ""
            },
            "colorscale": [
             [
              0,
              "#0d0887"
             ],
             [
              0.1111111111111111,
              "#46039f"
             ],
             [
              0.2222222222222222,
              "#7201a8"
             ],
             [
              0.3333333333333333,
              "#9c179e"
             ],
             [
              0.4444444444444444,
              "#bd3786"
             ],
             [
              0.5555555555555556,
              "#d8576b"
             ],
             [
              0.6666666666666666,
              "#ed7953"
             ],
             [
              0.7777777777777778,
              "#fb9f3a"
             ],
             [
              0.8888888888888888,
              "#fdca26"
             ],
             [
              1,
              "#f0f921"
             ]
            ],
            "type": "surface"
           }
          ],
          "table": [
           {
            "cells": {
             "fill": {
              "color": "#EBF0F8"
             },
             "line": {
              "color": "white"
             }
            },
            "header": {
             "fill": {
              "color": "#C8D4E3"
             },
             "line": {
              "color": "white"
             }
            },
            "type": "table"
           }
          ]
         },
         "layout": {
          "annotationdefaults": {
           "arrowcolor": "#2a3f5f",
           "arrowhead": 0,
           "arrowwidth": 1
          },
          "autotypenumbers": "strict",
          "coloraxis": {
           "colorbar": {
            "outlinewidth": 0,
            "ticks": ""
           }
          },
          "colorscale": {
           "diverging": [
            [
             0,
             "#8e0152"
            ],
            [
             0.1,
             "#c51b7d"
            ],
            [
             0.2,
             "#de77ae"
            ],
            [
             0.3,
             "#f1b6da"
            ],
            [
             0.4,
             "#fde0ef"
            ],
            [
             0.5,
             "#f7f7f7"
            ],
            [
             0.6,
             "#e6f5d0"
            ],
            [
             0.7,
             "#b8e186"
            ],
            [
             0.8,
             "#7fbc41"
            ],
            [
             0.9,
             "#4d9221"
            ],
            [
             1,
             "#276419"
            ]
           ],
           "sequential": [
            [
             0,
             "#0d0887"
            ],
            [
             0.1111111111111111,
             "#46039f"
            ],
            [
             0.2222222222222222,
             "#7201a8"
            ],
            [
             0.3333333333333333,
             "#9c179e"
            ],
            [
             0.4444444444444444,
             "#bd3786"
            ],
            [
             0.5555555555555556,
             "#d8576b"
            ],
            [
             0.6666666666666666,
             "#ed7953"
            ],
            [
             0.7777777777777778,
             "#fb9f3a"
            ],
            [
             0.8888888888888888,
             "#fdca26"
            ],
            [
             1,
             "#f0f921"
            ]
           ],
           "sequentialminus": [
            [
             0,
             "#0d0887"
            ],
            [
             0.1111111111111111,
             "#46039f"
            ],
            [
             0.2222222222222222,
             "#7201a8"
            ],
            [
             0.3333333333333333,
             "#9c179e"
            ],
            [
             0.4444444444444444,
             "#bd3786"
            ],
            [
             0.5555555555555556,
             "#d8576b"
            ],
            [
             0.6666666666666666,
             "#ed7953"
            ],
            [
             0.7777777777777778,
             "#fb9f3a"
            ],
            [
             0.8888888888888888,
             "#fdca26"
            ],
            [
             1,
             "#f0f921"
            ]
           ]
          },
          "colorway": [
           "#636efa",
           "#EF553B",
           "#00cc96",
           "#ab63fa",
           "#FFA15A",
           "#19d3f3",
           "#FF6692",
           "#B6E880",
           "#FF97FF",
           "#FECB52"
          ],
          "font": {
           "color": "#2a3f5f"
          },
          "geo": {
           "bgcolor": "white",
           "lakecolor": "white",
           "landcolor": "#E5ECF6",
           "showlakes": true,
           "showland": true,
           "subunitcolor": "white"
          },
          "hoverlabel": {
           "align": "left"
          },
          "hovermode": "closest",
          "mapbox": {
           "style": "light"
          },
          "paper_bgcolor": "white",
          "plot_bgcolor": "#E5ECF6",
          "polar": {
           "angularaxis": {
            "gridcolor": "white",
            "linecolor": "white",
            "ticks": ""
           },
           "bgcolor": "#E5ECF6",
           "radialaxis": {
            "gridcolor": "white",
            "linecolor": "white",
            "ticks": ""
           }
          },
          "scene": {
           "xaxis": {
            "backgroundcolor": "#E5ECF6",
            "gridcolor": "white",
            "gridwidth": 2,
            "linecolor": "white",
            "showbackground": true,
            "ticks": "",
            "zerolinecolor": "white"
           },
           "yaxis": {
            "backgroundcolor": "#E5ECF6",
            "gridcolor": "white",
            "gridwidth": 2,
            "linecolor": "white",
            "showbackground": true,
            "ticks": "",
            "zerolinecolor": "white"
           },
           "zaxis": {
            "backgroundcolor": "#E5ECF6",
            "gridcolor": "white",
            "gridwidth": 2,
            "linecolor": "white",
            "showbackground": true,
            "ticks": "",
            "zerolinecolor": "white"
           }
          },
          "shapedefaults": {
           "line": {
            "color": "#2a3f5f"
           }
          },
          "ternary": {
           "aaxis": {
            "gridcolor": "white",
            "linecolor": "white",
            "ticks": ""
           },
           "baxis": {
            "gridcolor": "white",
            "linecolor": "white",
            "ticks": ""
           },
           "bgcolor": "#E5ECF6",
           "caxis": {
            "gridcolor": "white",
            "linecolor": "white",
            "ticks": ""
           }
          },
          "title": {
           "x": 0.05
          },
          "xaxis": {
           "automargin": true,
           "gridcolor": "white",
           "linecolor": "white",
           "ticks": "",
           "title": {
            "standoff": 15
           },
           "zerolinecolor": "white",
           "zerolinewidth": 2
          },
          "yaxis": {
           "automargin": true,
           "gridcolor": "white",
           "linecolor": "white",
           "ticks": "",
           "title": {
            "standoff": 15
           },
           "zerolinecolor": "white",
           "zerolinewidth": 2
          }
         }
        },
        "title": {
         "text": "Trajectory Network Plot"
        },
        "xaxis": {
         "title": {
          "text": "X axis"
         }
        },
        "yaxis": {
         "title": {
          "text": "Y axis"
         }
        }
       }
      }
     },
     "metadata": {},
     "output_type": "display_data"
    },
    {
     "data": {
      "application/vnd.plotly.v1+json": {
       "config": {
        "plotlyServerURL": "https://plot.ly"
       },
       "data": [
        {
         "marker": {
          "color": [
           "yellow",
           "skyblue",
           "skyblue",
           "skyblue",
           "skyblue",
           "skyblue",
           "skyblue",
           "skyblue",
           "skyblue",
           "skyblue",
           "skyblue",
           "skyblue",
           "red",
           "skyblue",
           "skyblue",
           "skyblue",
           "skyblue",
           "skyblue",
           "skyblue",
           "skyblue",
           "green",
           "skyblue",
           "skyblue",
           "skyblue",
           "skyblue",
           "skyblue",
           "skyblue",
           "skyblue",
           "skyblue",
           "skyblue",
           "skyblue",
           "skyblue",
           "skyblue",
           "skyblue",
           "skyblue",
           "green",
           "green",
           "skyblue",
           "skyblue",
           "skyblue",
           "skyblue",
           "skyblue",
           "skyblue",
           "skyblue",
           "skyblue",
           "green",
           "skyblue",
           "skyblue",
           "skyblue",
           "skyblue",
           "skyblue",
           "skyblue",
           "skyblue",
           "skyblue",
           "skyblue",
           "yellow",
           "skyblue",
           "skyblue",
           "skyblue",
           "skyblue",
           "yellow",
           "skyblue",
           "skyblue",
           "skyblue",
           "skyblue",
           "skyblue",
           "yellow",
           "skyblue",
           "skyblue",
           "skyblue",
           "skyblue",
           "green",
           "yellow",
           "skyblue",
           "skyblue",
           "skyblue",
           "skyblue",
           "yellow",
           "skyblue",
           "skyblue",
           "skyblue",
           "skyblue"
          ],
          "opacity": 0.8,
          "size": [
           50,
           100,
           100,
           100,
           100,
           100,
           100,
           100,
           100,
           100,
           100,
           100,
           450,
           100,
           100,
           100,
           100,
           100,
           100,
           100,
           150,
           100,
           100,
           100,
           100,
           100,
           100,
           100,
           100,
           100,
           100,
           100,
           100,
           100,
           100,
           150,
           150,
           100,
           100,
           100,
           100,
           100,
           100,
           100,
           100,
           150,
           100,
           100,
           100,
           100,
           100,
           100,
           100,
           100,
           100,
           50,
           100,
           100,
           100,
           100,
           50,
           100,
           100,
           100,
           100,
           100,
           50,
           100,
           100,
           100,
           100,
           150,
           50,
           100,
           100,
           100,
           100,
           50,
           100,
           100,
           100,
           100
          ]
         },
         "mode": "markers",
         "text": [
          "",
          "",
          "",
          "",
          "",
          "",
          "",
          "",
          "",
          "",
          "",
          "",
          "",
          "",
          "",
          "",
          "",
          "",
          "",
          "",
          "",
          "",
          "",
          "",
          "",
          "",
          "",
          "",
          "",
          "",
          "",
          "",
          "",
          "",
          "",
          "",
          "",
          "",
          "",
          "",
          "",
          "",
          "",
          "",
          "",
          "",
          "",
          "",
          "",
          "",
          "",
          "",
          "",
          "",
          "",
          "",
          "",
          "",
          "",
          "",
          "",
          "",
          "",
          "",
          "",
          "",
          "",
          "",
          "",
          "",
          "",
          "",
          "",
          "",
          "",
          "",
          "",
          "",
          "",
          "",
          "",
          ""
         ],
         "type": "scatter3d",
         "x": [
          0.530706299003768,
          0.42807387873068836,
          0.31937833886552264,
          0.21625086604706828,
          0.11863302734950067,
          0.02729151833570908,
          -0.05754304878868237,
          -0.13528436019429987,
          -0.20497417446035154,
          -0.2643246804635577,
          -0.31050316449245646,
          -0.3356663279891624,
          -0.3129031378188866,
          0.43626590608436017,
          0.3500094954721006,
          0.2649118391388062,
          0.18086369465129604,
          0.09663817067341589,
          0.01267815041264861,
          -0.07202299928534518,
          -0.16086825054745707,
          -0.22897493598895113,
          0.6206246037922933,
          0.6445465297720061,
          0.6242945085466571,
          0.5770422578550675,
          0.5127437770756109,
          0.4372178739357183,
          0.3543512528277925,
          0.2671196249621063,
          0.17795628115771547,
          0.08856269632174633,
          0.0009687479915183065,
          -0.0819168575995499,
          -0.15408536792402064,
          -0.2013604271925033,
          -0.2920122774435975,
          0.4500016002206064,
          0.3701985946315608,
          0.2898916704710421,
          0.20872712877534946,
          0.1261487619993934,
          0.04348379766593856,
          -0.039130364242618815,
          -0.12173532599134514,
          -0.2381668835330138,
          0.45150896436292826,
          0.34821066007244955,
          0.24877553278296538,
          0.1569599782318031,
          0.07330408474020621,
          -0.0024666903927215724,
          -0.06827937586307756,
          -0.12211052994158185,
          -0.15535316165249663,
          0.09252064270018413,
          0.016952025120086586,
          -0.057985286637657854,
          -0.13635630712525085,
          -0.21967711687716707,
          -0.2218951162994638,
          -0.23570412952566427,
          -0.24837289729035908,
          -0.26447564526551404,
          -0.2793705740390926,
          -0.2948480619418953,
          0.10495005373772494,
          0.02292463567716072,
          -0.05820553722205546,
          -0.13598119312659068,
          -0.2137511580779217,
          -0.40744871897761376,
          0.13893342136583917,
          0.05474340366325121,
          -0.029566816278902744,
          -0.11569967977088623,
          -0.20990299446224547,
          -1,
          -0.8784129238737527,
          -0.7573953880113425,
          -0.6388485590782845,
          -0.5217838495342679
         ],
         "y": [
          0.29852287257500154,
          0.2222191555999539,
          0.16081888506641878,
          0.1108781503581475,
          0.07031533588697811,
          0.03787234038465582,
          0.012953148639133534,
          -0.003929294221046395,
          -0.01315644264534031,
          -0.013147893607732662,
          -0.0012863606741618143,
          0.026631460662949222,
          0.08327191453246449,
          0.26938551829880913,
          0.2429141350580546,
          0.2166443981299862,
          0.19016491255855666,
          0.1639011605996227,
          0.13661724693565627,
          0.10817393967955996,
          0.0738011814832364,
          0.09104139615591188,
          0.2207215853468655,
          0.08301628653560465,
          -0.04892985438324162,
          -0.16029034916603602,
          -0.24847971906022676,
          -0.31422851487445375,
          -0.3584794982253911,
          -0.3818823196683737,
          -0.3854281971180921,
          -0.368918844702216,
          -0.3317681595559872,
          -0.2712904093276712,
          -0.18215709581171813,
          -0.05695836261807707,
          -0.011008044751210925,
          0.23739838962064516,
          0.18039705641039017,
          0.128192378983436,
          0.08095552451136998,
          0.03908189599598635,
          0.0031522593892568504,
          -0.026414998462973256,
          -0.046524487615261276,
          0.04729443211415032,
          0.20503141535918618,
          0.12819116392793536,
          0.07068781031677555,
          0.028232719575111066,
          -0.0006482048804120899,
          -0.017323416745610547,
          -0.021652583158148407,
          -0.011909827551733008,
          0.017908754872308044,
          0.007479423220813625,
          0.013662320473069029,
          0.023969456724694693,
          0.03961338207436497,
          0.060254659815710494,
          0.025296672982040726,
          0.030487340989582227,
          0.038038332496367615,
          0.04012493474626956,
          0.04728192312107951,
          0.06125884237104867,
          -0.37157618966202743,
          -0.3041569799817417,
          -0.23349589875293147,
          -0.15874575374037198,
          -0.08446038246507051,
          0.004038871484273551,
          0.1950105884734864,
          0.1606770109938425,
          0.13577987687384988,
          0.11473303457326857,
          0.09874713878031673,
          -0.20303876902195273,
          -0.16917045886292556,
          -0.1362590162914863,
          -0.09601148934435114,
          -0.0501148188102223
         ],
         "z": [
          0,
          11,
          18,
          22,
          23,
          25,
          26,
          27,
          28,
          28,
          28,
          29,
          30,
          12,
          18,
          23,
          24,
          25,
          26,
          27,
          29,
          29,
          11,
          18,
          23,
          24,
          25,
          25,
          26,
          26,
          27,
          27,
          27,
          28,
          28,
          29,
          29,
          11,
          17,
          20,
          23,
          24,
          26,
          27,
          28,
          29,
          12,
          17,
          21,
          23,
          24,
          25,
          28,
          28,
          28,
          22,
          24,
          25,
          27,
          28,
          23,
          26,
          26,
          26,
          28,
          29,
          21,
          24,
          25,
          27,
          28,
          29,
          23,
          24,
          26,
          28,
          29,
          21,
          22,
          26,
          28,
          28
         ]
        },
        {
         "line": {
          "color": "blue",
          "width": 2
         },
         "mode": "lines",
         "opacity": 0.5,
         "type": "scatter3d",
         "x": [
          0.530706299003768,
          0.42807387873068836,
          null
         ],
         "y": [
          0.29852287257500154,
          0.2222191555999539,
          null
         ],
         "z": [
          0,
          11,
          null
         ]
        },
        {
         "line": {
          "color": "blue",
          "width": 2
         },
         "mode": "lines",
         "opacity": 0.5,
         "type": "scatter3d",
         "x": [
          0.530706299003768,
          0.43626590608436017,
          null
         ],
         "y": [
          0.29852287257500154,
          0.26938551829880913,
          null
         ],
         "z": [
          0,
          12,
          null
         ]
        },
        {
         "line": {
          "color": "blue",
          "width": 2
         },
         "mode": "lines",
         "opacity": 0.5,
         "type": "scatter3d",
         "x": [
          0.530706299003768,
          0.6206246037922933,
          null
         ],
         "y": [
          0.29852287257500154,
          0.2207215853468655,
          null
         ],
         "z": [
          0,
          11,
          null
         ]
        },
        {
         "line": {
          "color": "blue",
          "width": 2
         },
         "mode": "lines",
         "opacity": 0.5,
         "type": "scatter3d",
         "x": [
          0.530706299003768,
          0.4500016002206064,
          null
         ],
         "y": [
          0.29852287257500154,
          0.23739838962064516,
          null
         ],
         "z": [
          0,
          11,
          null
         ]
        },
        {
         "line": {
          "color": "blue",
          "width": 2
         },
         "mode": "lines",
         "opacity": 0.5,
         "type": "scatter3d",
         "x": [
          0.530706299003768,
          0.45150896436292826,
          null
         ],
         "y": [
          0.29852287257500154,
          0.20503141535918618,
          null
         ],
         "z": [
          0,
          12,
          null
         ]
        },
        {
         "line": {
          "color": "blue",
          "width": 2
         },
         "mode": "lines",
         "opacity": 0.5,
         "type": "scatter3d",
         "x": [
          0.42807387873068836,
          0.31937833886552264,
          null
         ],
         "y": [
          0.2222191555999539,
          0.16081888506641878,
          null
         ],
         "z": [
          11,
          18,
          null
         ]
        },
        {
         "line": {
          "color": "blue",
          "width": 2
         },
         "mode": "lines",
         "opacity": 0.5,
         "type": "scatter3d",
         "x": [
          0.31937833886552264,
          0.21625086604706828,
          null
         ],
         "y": [
          0.16081888506641878,
          0.1108781503581475,
          null
         ],
         "z": [
          18,
          22,
          null
         ]
        },
        {
         "line": {
          "color": "blue",
          "width": 2
         },
         "mode": "lines",
         "opacity": 0.5,
         "type": "scatter3d",
         "x": [
          0.21625086604706828,
          0.11863302734950067,
          null
         ],
         "y": [
          0.1108781503581475,
          0.07031533588697811,
          null
         ],
         "z": [
          22,
          23,
          null
         ]
        },
        {
         "line": {
          "color": "blue",
          "width": 2
         },
         "mode": "lines",
         "opacity": 0.5,
         "type": "scatter3d",
         "x": [
          0.11863302734950067,
          0.02729151833570908,
          null
         ],
         "y": [
          0.07031533588697811,
          0.03787234038465582,
          null
         ],
         "z": [
          23,
          25,
          null
         ]
        },
        {
         "line": {
          "color": "blue",
          "width": 2
         },
         "mode": "lines",
         "opacity": 0.5,
         "type": "scatter3d",
         "x": [
          0.02729151833570908,
          -0.05754304878868237,
          null
         ],
         "y": [
          0.03787234038465582,
          0.012953148639133534,
          null
         ],
         "z": [
          25,
          26,
          null
         ]
        },
        {
         "line": {
          "color": "blue",
          "width": 2
         },
         "mode": "lines",
         "opacity": 0.5,
         "type": "scatter3d",
         "x": [
          -0.05754304878868237,
          -0.13528436019429987,
          null
         ],
         "y": [
          0.012953148639133534,
          -0.003929294221046395,
          null
         ],
         "z": [
          26,
          27,
          null
         ]
        },
        {
         "line": {
          "color": "blue",
          "width": 2
         },
         "mode": "lines",
         "opacity": 0.5,
         "type": "scatter3d",
         "x": [
          -0.13528436019429987,
          -0.20497417446035154,
          null
         ],
         "y": [
          -0.003929294221046395,
          -0.01315644264534031,
          null
         ],
         "z": [
          27,
          28,
          null
         ]
        },
        {
         "line": {
          "color": "blue",
          "width": 2
         },
         "mode": "lines",
         "opacity": 0.5,
         "type": "scatter3d",
         "x": [
          -0.20497417446035154,
          -0.2643246804635577,
          null
         ],
         "y": [
          -0.01315644264534031,
          -0.013147893607732662,
          null
         ],
         "z": [
          28,
          28,
          null
         ]
        },
        {
         "line": {
          "color": "blue",
          "width": 2
         },
         "mode": "lines",
         "opacity": 0.5,
         "type": "scatter3d",
         "x": [
          -0.2643246804635577,
          -0.31050316449245646,
          null
         ],
         "y": [
          -0.013147893607732662,
          -0.0012863606741618143,
          null
         ],
         "z": [
          28,
          28,
          null
         ]
        },
        {
         "line": {
          "color": "blue",
          "width": 2
         },
         "mode": "lines",
         "opacity": 0.5,
         "type": "scatter3d",
         "x": [
          -0.31050316449245646,
          -0.3356663279891624,
          null
         ],
         "y": [
          -0.0012863606741618143,
          0.026631460662949222,
          null
         ],
         "z": [
          28,
          29,
          null
         ]
        },
        {
         "line": {
          "color": "blue",
          "width": 2
         },
         "mode": "lines",
         "opacity": 0.5,
         "type": "scatter3d",
         "x": [
          -0.3356663279891624,
          -0.3129031378188866,
          null
         ],
         "y": [
          0.026631460662949222,
          0.08327191453246449,
          null
         ],
         "z": [
          29,
          30,
          null
         ]
        },
        {
         "line": {
          "color": "blue",
          "width": 2
         },
         "mode": "lines",
         "opacity": 0.5,
         "type": "scatter3d",
         "x": [
          0.43626590608436017,
          0.3500094954721006,
          null
         ],
         "y": [
          0.26938551829880913,
          0.2429141350580546,
          null
         ],
         "z": [
          12,
          18,
          null
         ]
        },
        {
         "line": {
          "color": "blue",
          "width": 2
         },
         "mode": "lines",
         "opacity": 0.5,
         "type": "scatter3d",
         "x": [
          0.3500094954721006,
          0.2649118391388062,
          null
         ],
         "y": [
          0.2429141350580546,
          0.2166443981299862,
          null
         ],
         "z": [
          18,
          23,
          null
         ]
        },
        {
         "line": {
          "color": "blue",
          "width": 2
         },
         "mode": "lines",
         "opacity": 0.5,
         "type": "scatter3d",
         "x": [
          0.2649118391388062,
          0.18086369465129604,
          null
         ],
         "y": [
          0.2166443981299862,
          0.19016491255855666,
          null
         ],
         "z": [
          23,
          24,
          null
         ]
        },
        {
         "line": {
          "color": "blue",
          "width": 2
         },
         "mode": "lines",
         "opacity": 0.5,
         "type": "scatter3d",
         "x": [
          0.18086369465129604,
          0.09663817067341589,
          null
         ],
         "y": [
          0.19016491255855666,
          0.1639011605996227,
          null
         ],
         "z": [
          24,
          25,
          null
         ]
        },
        {
         "line": {
          "color": "blue",
          "width": 2
         },
         "mode": "lines",
         "opacity": 0.5,
         "type": "scatter3d",
         "x": [
          0.09663817067341589,
          0.01267815041264861,
          null
         ],
         "y": [
          0.1639011605996227,
          0.13661724693565627,
          null
         ],
         "z": [
          25,
          26,
          null
         ]
        },
        {
         "line": {
          "color": "blue",
          "width": 2
         },
         "mode": "lines",
         "opacity": 0.5,
         "type": "scatter3d",
         "x": [
          0.01267815041264861,
          -0.07202299928534518,
          null
         ],
         "y": [
          0.13661724693565627,
          0.10817393967955996,
          null
         ],
         "z": [
          26,
          27,
          null
         ]
        },
        {
         "line": {
          "color": "blue",
          "width": 2
         },
         "mode": "lines",
         "opacity": 0.5,
         "type": "scatter3d",
         "x": [
          -0.07202299928534518,
          -0.16086825054745707,
          null
         ],
         "y": [
          0.10817393967955996,
          0.0738011814832364,
          null
         ],
         "z": [
          27,
          29,
          null
         ]
        },
        {
         "line": {
          "color": "blue",
          "width": 2
         },
         "mode": "lines",
         "opacity": 0.5,
         "type": "scatter3d",
         "x": [
          -0.16086825054745707,
          -0.22897493598895113,
          null
         ],
         "y": [
          0.0738011814832364,
          0.09104139615591188,
          null
         ],
         "z": [
          29,
          29,
          null
         ]
        },
        {
         "line": {
          "color": "blue",
          "width": 2
         },
         "mode": "lines",
         "opacity": 0.5,
         "type": "scatter3d",
         "x": [
          -0.16086825054745707,
          -0.2381668835330138,
          null
         ],
         "y": [
          0.0738011814832364,
          0.04729443211415032,
          null
         ],
         "z": [
          29,
          29,
          null
         ]
        },
        {
         "line": {
          "color": "blue",
          "width": 2
         },
         "mode": "lines",
         "opacity": 0.5,
         "type": "scatter3d",
         "x": [
          -0.22897493598895113,
          -0.3129031378188866,
          null
         ],
         "y": [
          0.09104139615591188,
          0.08327191453246449,
          null
         ],
         "z": [
          29,
          30,
          null
         ]
        },
        {
         "line": {
          "color": "blue",
          "width": 2
         },
         "mode": "lines",
         "opacity": 0.5,
         "type": "scatter3d",
         "x": [
          0.6206246037922933,
          0.6445465297720061,
          null
         ],
         "y": [
          0.2207215853468655,
          0.08301628653560465,
          null
         ],
         "z": [
          11,
          18,
          null
         ]
        },
        {
         "line": {
          "color": "blue",
          "width": 2
         },
         "mode": "lines",
         "opacity": 0.5,
         "type": "scatter3d",
         "x": [
          0.6445465297720061,
          0.6242945085466571,
          null
         ],
         "y": [
          0.08301628653560465,
          -0.04892985438324162,
          null
         ],
         "z": [
          18,
          23,
          null
         ]
        },
        {
         "line": {
          "color": "blue",
          "width": 2
         },
         "mode": "lines",
         "opacity": 0.5,
         "type": "scatter3d",
         "x": [
          0.6242945085466571,
          0.5770422578550675,
          null
         ],
         "y": [
          -0.04892985438324162,
          -0.16029034916603602,
          null
         ],
         "z": [
          23,
          24,
          null
         ]
        },
        {
         "line": {
          "color": "blue",
          "width": 2
         },
         "mode": "lines",
         "opacity": 0.5,
         "type": "scatter3d",
         "x": [
          0.5770422578550675,
          0.5127437770756109,
          null
         ],
         "y": [
          -0.16029034916603602,
          -0.24847971906022676,
          null
         ],
         "z": [
          24,
          25,
          null
         ]
        },
        {
         "line": {
          "color": "blue",
          "width": 2
         },
         "mode": "lines",
         "opacity": 0.5,
         "type": "scatter3d",
         "x": [
          0.5127437770756109,
          0.4372178739357183,
          null
         ],
         "y": [
          -0.24847971906022676,
          -0.31422851487445375,
          null
         ],
         "z": [
          25,
          25,
          null
         ]
        },
        {
         "line": {
          "color": "blue",
          "width": 2
         },
         "mode": "lines",
         "opacity": 0.5,
         "type": "scatter3d",
         "x": [
          0.4372178739357183,
          0.3543512528277925,
          null
         ],
         "y": [
          -0.31422851487445375,
          -0.3584794982253911,
          null
         ],
         "z": [
          25,
          26,
          null
         ]
        },
        {
         "line": {
          "color": "blue",
          "width": 2
         },
         "mode": "lines",
         "opacity": 0.5,
         "type": "scatter3d",
         "x": [
          0.3543512528277925,
          0.2671196249621063,
          null
         ],
         "y": [
          -0.3584794982253911,
          -0.3818823196683737,
          null
         ],
         "z": [
          26,
          26,
          null
         ]
        },
        {
         "line": {
          "color": "blue",
          "width": 2
         },
         "mode": "lines",
         "opacity": 0.5,
         "type": "scatter3d",
         "x": [
          0.2671196249621063,
          0.17795628115771547,
          null
         ],
         "y": [
          -0.3818823196683737,
          -0.3854281971180921,
          null
         ],
         "z": [
          26,
          27,
          null
         ]
        },
        {
         "line": {
          "color": "blue",
          "width": 2
         },
         "mode": "lines",
         "opacity": 0.5,
         "type": "scatter3d",
         "x": [
          0.17795628115771547,
          0.08856269632174633,
          null
         ],
         "y": [
          -0.3854281971180921,
          -0.368918844702216,
          null
         ],
         "z": [
          27,
          27,
          null
         ]
        },
        {
         "line": {
          "color": "blue",
          "width": 2
         },
         "mode": "lines",
         "opacity": 0.5,
         "type": "scatter3d",
         "x": [
          0.08856269632174633,
          0.0009687479915183065,
          null
         ],
         "y": [
          -0.368918844702216,
          -0.3317681595559872,
          null
         ],
         "z": [
          27,
          27,
          null
         ]
        },
        {
         "line": {
          "color": "blue",
          "width": 2
         },
         "mode": "lines",
         "opacity": 0.5,
         "type": "scatter3d",
         "x": [
          0.0009687479915183065,
          -0.0819168575995499,
          null
         ],
         "y": [
          -0.3317681595559872,
          -0.2712904093276712,
          null
         ],
         "z": [
          27,
          28,
          null
         ]
        },
        {
         "line": {
          "color": "blue",
          "width": 2
         },
         "mode": "lines",
         "opacity": 0.5,
         "type": "scatter3d",
         "x": [
          -0.0819168575995499,
          -0.15408536792402064,
          null
         ],
         "y": [
          -0.2712904093276712,
          -0.18215709581171813,
          null
         ],
         "z": [
          28,
          28,
          null
         ]
        },
        {
         "line": {
          "color": "blue",
          "width": 2
         },
         "mode": "lines",
         "opacity": 0.5,
         "type": "scatter3d",
         "x": [
          -0.15408536792402064,
          -0.2013604271925033,
          null
         ],
         "y": [
          -0.18215709581171813,
          -0.05695836261807707,
          null
         ],
         "z": [
          28,
          29,
          null
         ]
        },
        {
         "line": {
          "color": "blue",
          "width": 2
         },
         "mode": "lines",
         "opacity": 0.5,
         "type": "scatter3d",
         "x": [
          -0.2013604271925033,
          -0.2920122774435975,
          null
         ],
         "y": [
          -0.05695836261807707,
          -0.011008044751210925,
          null
         ],
         "z": [
          29,
          29,
          null
         ]
        },
        {
         "line": {
          "color": "blue",
          "width": 2
         },
         "mode": "lines",
         "opacity": 0.5,
         "type": "scatter3d",
         "x": [
          -0.2013604271925033,
          -0.2381668835330138,
          null
         ],
         "y": [
          -0.05695836261807707,
          0.04729443211415032,
          null
         ],
         "z": [
          29,
          29,
          null
         ]
        },
        {
         "line": {
          "color": "blue",
          "width": 2
         },
         "mode": "lines",
         "opacity": 0.5,
         "type": "scatter3d",
         "x": [
          -0.2920122774435975,
          -0.3129031378188866,
          null
         ],
         "y": [
          -0.011008044751210925,
          0.08327191453246449,
          null
         ],
         "z": [
          29,
          30,
          null
         ]
        },
        {
         "line": {
          "color": "orange",
          "width": 2
         },
         "mode": "lines",
         "opacity": 0.5,
         "type": "scatter3d",
         "x": [
          -0.2920122774435975,
          -0.40744871897761376,
          null
         ],
         "y": [
          -0.011008044751210925,
          0.004038871484273551,
          null
         ],
         "z": [
          29,
          29,
          null
         ]
        },
        {
         "line": {
          "color": "blue",
          "width": 2
         },
         "mode": "lines",
         "opacity": 0.5,
         "type": "scatter3d",
         "x": [
          0.4500016002206064,
          0.3701985946315608,
          null
         ],
         "y": [
          0.23739838962064516,
          0.18039705641039017,
          null
         ],
         "z": [
          11,
          17,
          null
         ]
        },
        {
         "line": {
          "color": "blue",
          "width": 2
         },
         "mode": "lines",
         "opacity": 0.5,
         "type": "scatter3d",
         "x": [
          0.3701985946315608,
          0.2898916704710421,
          null
         ],
         "y": [
          0.18039705641039017,
          0.128192378983436,
          null
         ],
         "z": [
          17,
          20,
          null
         ]
        },
        {
         "line": {
          "color": "blue",
          "width": 2
         },
         "mode": "lines",
         "opacity": 0.5,
         "type": "scatter3d",
         "x": [
          0.2898916704710421,
          0.20872712877534946,
          null
         ],
         "y": [
          0.128192378983436,
          0.08095552451136998,
          null
         ],
         "z": [
          20,
          23,
          null
         ]
        },
        {
         "line": {
          "color": "blue",
          "width": 2
         },
         "mode": "lines",
         "opacity": 0.5,
         "type": "scatter3d",
         "x": [
          0.20872712877534946,
          0.1261487619993934,
          null
         ],
         "y": [
          0.08095552451136998,
          0.03908189599598635,
          null
         ],
         "z": [
          23,
          24,
          null
         ]
        },
        {
         "line": {
          "color": "blue",
          "width": 2
         },
         "mode": "lines",
         "opacity": 0.5,
         "type": "scatter3d",
         "x": [
          0.1261487619993934,
          0.04348379766593856,
          null
         ],
         "y": [
          0.03908189599598635,
          0.0031522593892568504,
          null
         ],
         "z": [
          24,
          26,
          null
         ]
        },
        {
         "line": {
          "color": "blue",
          "width": 2
         },
         "mode": "lines",
         "opacity": 0.5,
         "type": "scatter3d",
         "x": [
          0.04348379766593856,
          -0.039130364242618815,
          null
         ],
         "y": [
          0.0031522593892568504,
          -0.026414998462973256,
          null
         ],
         "z": [
          26,
          27,
          null
         ]
        },
        {
         "line": {
          "color": "blue",
          "width": 2
         },
         "mode": "lines",
         "opacity": 0.5,
         "type": "scatter3d",
         "x": [
          -0.039130364242618815,
          -0.12173532599134514,
          null
         ],
         "y": [
          -0.026414998462973256,
          -0.046524487615261276,
          null
         ],
         "z": [
          27,
          28,
          null
         ]
        },
        {
         "line": {
          "color": "blue",
          "width": 2
         },
         "mode": "lines",
         "opacity": 0.5,
         "type": "scatter3d",
         "x": [
          -0.12173532599134514,
          -0.2013604271925033,
          null
         ],
         "y": [
          -0.046524487615261276,
          -0.05695836261807707,
          null
         ],
         "z": [
          28,
          29,
          null
         ]
        },
        {
         "line": {
          "color": "blue",
          "width": 2
         },
         "mode": "lines",
         "opacity": 0.5,
         "type": "scatter3d",
         "x": [
          -0.2381668835330138,
          -0.3129031378188866,
          null
         ],
         "y": [
          0.04729443211415032,
          0.08327191453246449,
          null
         ],
         "z": [
          29,
          30,
          null
         ]
        },
        {
         "line": {
          "color": "blue",
          "width": 2
         },
         "mode": "lines",
         "opacity": 0.5,
         "type": "scatter3d",
         "x": [
          0.45150896436292826,
          0.34821066007244955,
          null
         ],
         "y": [
          0.20503141535918618,
          0.12819116392793536,
          null
         ],
         "z": [
          12,
          17,
          null
         ]
        },
        {
         "line": {
          "color": "blue",
          "width": 2
         },
         "mode": "lines",
         "opacity": 0.5,
         "type": "scatter3d",
         "x": [
          0.34821066007244955,
          0.24877553278296538,
          null
         ],
         "y": [
          0.12819116392793536,
          0.07068781031677555,
          null
         ],
         "z": [
          17,
          21,
          null
         ]
        },
        {
         "line": {
          "color": "blue",
          "width": 2
         },
         "mode": "lines",
         "opacity": 0.5,
         "type": "scatter3d",
         "x": [
          0.24877553278296538,
          0.1569599782318031,
          null
         ],
         "y": [
          0.07068781031677555,
          0.028232719575111066,
          null
         ],
         "z": [
          21,
          23,
          null
         ]
        },
        {
         "line": {
          "color": "blue",
          "width": 2
         },
         "mode": "lines",
         "opacity": 0.5,
         "type": "scatter3d",
         "x": [
          0.1569599782318031,
          0.07330408474020621,
          null
         ],
         "y": [
          0.028232719575111066,
          -0.0006482048804120899,
          null
         ],
         "z": [
          23,
          24,
          null
         ]
        },
        {
         "line": {
          "color": "blue",
          "width": 2
         },
         "mode": "lines",
         "opacity": 0.5,
         "type": "scatter3d",
         "x": [
          0.07330408474020621,
          -0.0024666903927215724,
          null
         ],
         "y": [
          -0.0006482048804120899,
          -0.017323416745610547,
          null
         ],
         "z": [
          24,
          25,
          null
         ]
        },
        {
         "line": {
          "color": "blue",
          "width": 2
         },
         "mode": "lines",
         "opacity": 0.5,
         "type": "scatter3d",
         "x": [
          -0.0024666903927215724,
          -0.06827937586307756,
          null
         ],
         "y": [
          -0.017323416745610547,
          -0.021652583158148407,
          null
         ],
         "z": [
          25,
          28,
          null
         ]
        },
        {
         "line": {
          "color": "blue",
          "width": 2
         },
         "mode": "lines",
         "opacity": 0.5,
         "type": "scatter3d",
         "x": [
          -0.06827937586307756,
          -0.12211052994158185,
          null
         ],
         "y": [
          -0.021652583158148407,
          -0.011909827551733008,
          null
         ],
         "z": [
          28,
          28,
          null
         ]
        },
        {
         "line": {
          "color": "blue",
          "width": 2
         },
         "mode": "lines",
         "opacity": 0.5,
         "type": "scatter3d",
         "x": [
          -0.12211052994158185,
          -0.15535316165249663,
          null
         ],
         "y": [
          -0.011909827551733008,
          0.017908754872308044,
          null
         ],
         "z": [
          28,
          28,
          null
         ]
        },
        {
         "line": {
          "color": "blue",
          "width": 2
         },
         "mode": "lines",
         "opacity": 0.5,
         "type": "scatter3d",
         "x": [
          -0.15535316165249663,
          -0.16086825054745707,
          null
         ],
         "y": [
          0.017908754872308044,
          0.0738011814832364,
          null
         ],
         "z": [
          28,
          29,
          null
         ]
        },
        {
         "line": {
          "color": "orange",
          "width": 2
         },
         "mode": "lines",
         "opacity": 0.5,
         "type": "scatter3d",
         "x": [
          0.09252064270018413,
          0.016952025120086586,
          null
         ],
         "y": [
          0.007479423220813625,
          0.013662320473069029,
          null
         ],
         "z": [
          22,
          24,
          null
         ]
        },
        {
         "line": {
          "color": "orange",
          "width": 2
         },
         "mode": "lines",
         "opacity": 0.5,
         "type": "scatter3d",
         "x": [
          0.016952025120086586,
          -0.057985286637657854,
          null
         ],
         "y": [
          0.013662320473069029,
          0.023969456724694693,
          null
         ],
         "z": [
          24,
          25,
          null
         ]
        },
        {
         "line": {
          "color": "orange",
          "width": 2
         },
         "mode": "lines",
         "opacity": 0.5,
         "type": "scatter3d",
         "x": [
          -0.057985286637657854,
          -0.13635630712525085,
          null
         ],
         "y": [
          0.023969456724694693,
          0.03961338207436497,
          null
         ],
         "z": [
          25,
          27,
          null
         ]
        },
        {
         "line": {
          "color": "orange",
          "width": 2
         },
         "mode": "lines",
         "opacity": 0.5,
         "type": "scatter3d",
         "x": [
          -0.13635630712525085,
          -0.21967711687716707,
          null
         ],
         "y": [
          0.03961338207436497,
          0.060254659815710494,
          null
         ],
         "z": [
          27,
          28,
          null
         ]
        },
        {
         "line": {
          "color": "orange",
          "width": 2
         },
         "mode": "lines",
         "opacity": 0.5,
         "type": "scatter3d",
         "x": [
          -0.21967711687716707,
          -0.3129031378188866,
          null
         ],
         "y": [
          0.060254659815710494,
          0.08327191453246449,
          null
         ],
         "z": [
          28,
          30,
          null
         ]
        },
        {
         "line": {
          "color": "orange",
          "width": 2
         },
         "mode": "lines",
         "opacity": 0.5,
         "type": "scatter3d",
         "x": [
          -0.2218951162994638,
          -0.23570412952566427,
          null
         ],
         "y": [
          0.025296672982040726,
          0.030487340989582227,
          null
         ],
         "z": [
          23,
          26,
          null
         ]
        },
        {
         "line": {
          "color": "orange",
          "width": 2
         },
         "mode": "lines",
         "opacity": 0.5,
         "type": "scatter3d",
         "x": [
          -0.23570412952566427,
          -0.24837289729035908,
          null
         ],
         "y": [
          0.030487340989582227,
          0.038038332496367615,
          null
         ],
         "z": [
          26,
          26,
          null
         ]
        },
        {
         "line": {
          "color": "orange",
          "width": 2
         },
         "mode": "lines",
         "opacity": 0.5,
         "type": "scatter3d",
         "x": [
          -0.24837289729035908,
          -0.26447564526551404,
          null
         ],
         "y": [
          0.038038332496367615,
          0.04012493474626956,
          null
         ],
         "z": [
          26,
          26,
          null
         ]
        },
        {
         "line": {
          "color": "orange",
          "width": 2
         },
         "mode": "lines",
         "opacity": 0.5,
         "type": "scatter3d",
         "x": [
          -0.26447564526551404,
          -0.2793705740390926,
          null
         ],
         "y": [
          0.04012493474626956,
          0.04728192312107951,
          null
         ],
         "z": [
          26,
          28,
          null
         ]
        },
        {
         "line": {
          "color": "orange",
          "width": 2
         },
         "mode": "lines",
         "opacity": 0.5,
         "type": "scatter3d",
         "x": [
          -0.2793705740390926,
          -0.2948480619418953,
          null
         ],
         "y": [
          0.04728192312107951,
          0.06125884237104867,
          null
         ],
         "z": [
          28,
          29,
          null
         ]
        },
        {
         "line": {
          "color": "orange",
          "width": 2
         },
         "mode": "lines",
         "opacity": 0.5,
         "type": "scatter3d",
         "x": [
          -0.2948480619418953,
          -0.3129031378188866,
          null
         ],
         "y": [
          0.06125884237104867,
          0.08327191453246449,
          null
         ],
         "z": [
          29,
          30,
          null
         ]
        },
        {
         "line": {
          "color": "orange",
          "width": 2
         },
         "mode": "lines",
         "opacity": 0.5,
         "type": "scatter3d",
         "x": [
          0.10495005373772494,
          0.02292463567716072,
          null
         ],
         "y": [
          -0.37157618966202743,
          -0.3041569799817417,
          null
         ],
         "z": [
          21,
          24,
          null
         ]
        },
        {
         "line": {
          "color": "orange",
          "width": 2
         },
         "mode": "lines",
         "opacity": 0.5,
         "type": "scatter3d",
         "x": [
          0.02292463567716072,
          -0.05820553722205546,
          null
         ],
         "y": [
          -0.3041569799817417,
          -0.23349589875293147,
          null
         ],
         "z": [
          24,
          25,
          null
         ]
        },
        {
         "line": {
          "color": "orange",
          "width": 2
         },
         "mode": "lines",
         "opacity": 0.5,
         "type": "scatter3d",
         "x": [
          -0.05820553722205546,
          -0.13598119312659068,
          null
         ],
         "y": [
          -0.23349589875293147,
          -0.15874575374037198,
          null
         ],
         "z": [
          25,
          27,
          null
         ]
        },
        {
         "line": {
          "color": "orange",
          "width": 2
         },
         "mode": "lines",
         "opacity": 0.5,
         "type": "scatter3d",
         "x": [
          -0.13598119312659068,
          -0.2137511580779217,
          null
         ],
         "y": [
          -0.15874575374037198,
          -0.08446038246507051,
          null
         ],
         "z": [
          27,
          28,
          null
         ]
        },
        {
         "line": {
          "color": "orange",
          "width": 2
         },
         "mode": "lines",
         "opacity": 0.5,
         "type": "scatter3d",
         "x": [
          -0.2137511580779217,
          -0.2920122774435975,
          null
         ],
         "y": [
          -0.08446038246507051,
          -0.011008044751210925,
          null
         ],
         "z": [
          28,
          29,
          null
         ]
        },
        {
         "line": {
          "color": "orange",
          "width": 2
         },
         "mode": "lines",
         "opacity": 0.5,
         "type": "scatter3d",
         "x": [
          -0.40744871897761376,
          -0.3129031378188866,
          null
         ],
         "y": [
          0.004038871484273551,
          0.08327191453246449,
          null
         ],
         "z": [
          29,
          30,
          null
         ]
        },
        {
         "line": {
          "color": "orange",
          "width": 2
         },
         "mode": "lines",
         "opacity": 0.5,
         "type": "scatter3d",
         "x": [
          0.13893342136583917,
          0.05474340366325121,
          null
         ],
         "y": [
          0.1950105884734864,
          0.1606770109938425,
          null
         ],
         "z": [
          23,
          24,
          null
         ]
        },
        {
         "line": {
          "color": "orange",
          "width": 2
         },
         "mode": "lines",
         "opacity": 0.5,
         "type": "scatter3d",
         "x": [
          0.05474340366325121,
          -0.029566816278902744,
          null
         ],
         "y": [
          0.1606770109938425,
          0.13577987687384988,
          null
         ],
         "z": [
          24,
          26,
          null
         ]
        },
        {
         "line": {
          "color": "orange",
          "width": 2
         },
         "mode": "lines",
         "opacity": 0.5,
         "type": "scatter3d",
         "x": [
          -0.029566816278902744,
          -0.11569967977088623,
          null
         ],
         "y": [
          0.13577987687384988,
          0.11473303457326857,
          null
         ],
         "z": [
          26,
          28,
          null
         ]
        },
        {
         "line": {
          "color": "orange",
          "width": 2
         },
         "mode": "lines",
         "opacity": 0.5,
         "type": "scatter3d",
         "x": [
          -0.11569967977088623,
          -0.20990299446224547,
          null
         ],
         "y": [
          0.11473303457326857,
          0.09874713878031673,
          null
         ],
         "z": [
          28,
          29,
          null
         ]
        },
        {
         "line": {
          "color": "orange",
          "width": 2
         },
         "mode": "lines",
         "opacity": 0.5,
         "type": "scatter3d",
         "x": [
          -0.20990299446224547,
          -0.3129031378188866,
          null
         ],
         "y": [
          0.09874713878031673,
          0.08327191453246449,
          null
         ],
         "z": [
          29,
          30,
          null
         ]
        },
        {
         "line": {
          "color": "orange",
          "width": 2
         },
         "mode": "lines",
         "opacity": 0.5,
         "type": "scatter3d",
         "x": [
          -1,
          -0.8784129238737527,
          null
         ],
         "y": [
          -0.20303876902195273,
          -0.16917045886292556,
          null
         ],
         "z": [
          21,
          22,
          null
         ]
        },
        {
         "line": {
          "color": "orange",
          "width": 2
         },
         "mode": "lines",
         "opacity": 0.5,
         "type": "scatter3d",
         "x": [
          -0.8784129238737527,
          -0.7573953880113425,
          null
         ],
         "y": [
          -0.16917045886292556,
          -0.1362590162914863,
          null
         ],
         "z": [
          22,
          26,
          null
         ]
        },
        {
         "line": {
          "color": "orange",
          "width": 2
         },
         "mode": "lines",
         "opacity": 0.5,
         "type": "scatter3d",
         "x": [
          -0.7573953880113425,
          -0.6388485590782845,
          null
         ],
         "y": [
          -0.1362590162914863,
          -0.09601148934435114,
          null
         ],
         "z": [
          26,
          28,
          null
         ]
        },
        {
         "line": {
          "color": "orange",
          "width": 2
         },
         "mode": "lines",
         "opacity": 0.5,
         "type": "scatter3d",
         "x": [
          -0.6388485590782845,
          -0.5217838495342679,
          null
         ],
         "y": [
          -0.09601148934435114,
          -0.0501148188102223,
          null
         ],
         "z": [
          28,
          28,
          null
         ]
        },
        {
         "line": {
          "color": "orange",
          "width": 2
         },
         "mode": "lines",
         "opacity": 0.5,
         "type": "scatter3d",
         "x": [
          -0.5217838495342679,
          -0.40744871897761376,
          null
         ],
         "y": [
          -0.0501148188102223,
          0.004038871484273551,
          null
         ],
         "z": [
          28,
          29,
          null
         ]
        }
       ],
       "layout": {
        "scene": {
         "xaxis": {
          "title": {
           "text": "X axis"
          }
         },
         "yaxis": {
          "title": {
           "text": "Y axis"
          }
         },
         "zaxis": {
          "title": {
           "text": "Fitness"
          }
         }
        },
        "template": {
         "data": {
          "bar": [
           {
            "error_x": {
             "color": "#2a3f5f"
            },
            "error_y": {
             "color": "#2a3f5f"
            },
            "marker": {
             "line": {
              "color": "#E5ECF6",
              "width": 0.5
             },
             "pattern": {
              "fillmode": "overlay",
              "size": 10,
              "solidity": 0.2
             }
            },
            "type": "bar"
           }
          ],
          "barpolar": [
           {
            "marker": {
             "line": {
              "color": "#E5ECF6",
              "width": 0.5
             },
             "pattern": {
              "fillmode": "overlay",
              "size": 10,
              "solidity": 0.2
             }
            },
            "type": "barpolar"
           }
          ],
          "carpet": [
           {
            "aaxis": {
             "endlinecolor": "#2a3f5f",
             "gridcolor": "white",
             "linecolor": "white",
             "minorgridcolor": "white",
             "startlinecolor": "#2a3f5f"
            },
            "baxis": {
             "endlinecolor": "#2a3f5f",
             "gridcolor": "white",
             "linecolor": "white",
             "minorgridcolor": "white",
             "startlinecolor": "#2a3f5f"
            },
            "type": "carpet"
           }
          ],
          "choropleth": [
           {
            "colorbar": {
             "outlinewidth": 0,
             "ticks": ""
            },
            "type": "choropleth"
           }
          ],
          "contour": [
           {
            "colorbar": {
             "outlinewidth": 0,
             "ticks": ""
            },
            "colorscale": [
             [
              0,
              "#0d0887"
             ],
             [
              0.1111111111111111,
              "#46039f"
             ],
             [
              0.2222222222222222,
              "#7201a8"
             ],
             [
              0.3333333333333333,
              "#9c179e"
             ],
             [
              0.4444444444444444,
              "#bd3786"
             ],
             [
              0.5555555555555556,
              "#d8576b"
             ],
             [
              0.6666666666666666,
              "#ed7953"
             ],
             [
              0.7777777777777778,
              "#fb9f3a"
             ],
             [
              0.8888888888888888,
              "#fdca26"
             ],
             [
              1,
              "#f0f921"
             ]
            ],
            "type": "contour"
           }
          ],
          "contourcarpet": [
           {
            "colorbar": {
             "outlinewidth": 0,
             "ticks": ""
            },
            "type": "contourcarpet"
           }
          ],
          "heatmap": [
           {
            "colorbar": {
             "outlinewidth": 0,
             "ticks": ""
            },
            "colorscale": [
             [
              0,
              "#0d0887"
             ],
             [
              0.1111111111111111,
              "#46039f"
             ],
             [
              0.2222222222222222,
              "#7201a8"
             ],
             [
              0.3333333333333333,
              "#9c179e"
             ],
             [
              0.4444444444444444,
              "#bd3786"
             ],
             [
              0.5555555555555556,
              "#d8576b"
             ],
             [
              0.6666666666666666,
              "#ed7953"
             ],
             [
              0.7777777777777778,
              "#fb9f3a"
             ],
             [
              0.8888888888888888,
              "#fdca26"
             ],
             [
              1,
              "#f0f921"
             ]
            ],
            "type": "heatmap"
           }
          ],
          "heatmapgl": [
           {
            "colorbar": {
             "outlinewidth": 0,
             "ticks": ""
            },
            "colorscale": [
             [
              0,
              "#0d0887"
             ],
             [
              0.1111111111111111,
              "#46039f"
             ],
             [
              0.2222222222222222,
              "#7201a8"
             ],
             [
              0.3333333333333333,
              "#9c179e"
             ],
             [
              0.4444444444444444,
              "#bd3786"
             ],
             [
              0.5555555555555556,
              "#d8576b"
             ],
             [
              0.6666666666666666,
              "#ed7953"
             ],
             [
              0.7777777777777778,
              "#fb9f3a"
             ],
             [
              0.8888888888888888,
              "#fdca26"
             ],
             [
              1,
              "#f0f921"
             ]
            ],
            "type": "heatmapgl"
           }
          ],
          "histogram": [
           {
            "marker": {
             "pattern": {
              "fillmode": "overlay",
              "size": 10,
              "solidity": 0.2
             }
            },
            "type": "histogram"
           }
          ],
          "histogram2d": [
           {
            "colorbar": {
             "outlinewidth": 0,
             "ticks": ""
            },
            "colorscale": [
             [
              0,
              "#0d0887"
             ],
             [
              0.1111111111111111,
              "#46039f"
             ],
             [
              0.2222222222222222,
              "#7201a8"
             ],
             [
              0.3333333333333333,
              "#9c179e"
             ],
             [
              0.4444444444444444,
              "#bd3786"
             ],
             [
              0.5555555555555556,
              "#d8576b"
             ],
             [
              0.6666666666666666,
              "#ed7953"
             ],
             [
              0.7777777777777778,
              "#fb9f3a"
             ],
             [
              0.8888888888888888,
              "#fdca26"
             ],
             [
              1,
              "#f0f921"
             ]
            ],
            "type": "histogram2d"
           }
          ],
          "histogram2dcontour": [
           {
            "colorbar": {
             "outlinewidth": 0,
             "ticks": ""
            },
            "colorscale": [
             [
              0,
              "#0d0887"
             ],
             [
              0.1111111111111111,
              "#46039f"
             ],
             [
              0.2222222222222222,
              "#7201a8"
             ],
             [
              0.3333333333333333,
              "#9c179e"
             ],
             [
              0.4444444444444444,
              "#bd3786"
             ],
             [
              0.5555555555555556,
              "#d8576b"
             ],
             [
              0.6666666666666666,
              "#ed7953"
             ],
             [
              0.7777777777777778,
              "#fb9f3a"
             ],
             [
              0.8888888888888888,
              "#fdca26"
             ],
             [
              1,
              "#f0f921"
             ]
            ],
            "type": "histogram2dcontour"
           }
          ],
          "mesh3d": [
           {
            "colorbar": {
             "outlinewidth": 0,
             "ticks": ""
            },
            "type": "mesh3d"
           }
          ],
          "parcoords": [
           {
            "line": {
             "colorbar": {
              "outlinewidth": 0,
              "ticks": ""
             }
            },
            "type": "parcoords"
           }
          ],
          "pie": [
           {
            "automargin": true,
            "type": "pie"
           }
          ],
          "scatter": [
           {
            "fillpattern": {
             "fillmode": "overlay",
             "size": 10,
             "solidity": 0.2
            },
            "type": "scatter"
           }
          ],
          "scatter3d": [
           {
            "line": {
             "colorbar": {
              "outlinewidth": 0,
              "ticks": ""
             }
            },
            "marker": {
             "colorbar": {
              "outlinewidth": 0,
              "ticks": ""
             }
            },
            "type": "scatter3d"
           }
          ],
          "scattercarpet": [
           {
            "marker": {
             "colorbar": {
              "outlinewidth": 0,
              "ticks": ""
             }
            },
            "type": "scattercarpet"
           }
          ],
          "scattergeo": [
           {
            "marker": {
             "colorbar": {
              "outlinewidth": 0,
              "ticks": ""
             }
            },
            "type": "scattergeo"
           }
          ],
          "scattergl": [
           {
            "marker": {
             "colorbar": {
              "outlinewidth": 0,
              "ticks": ""
             }
            },
            "type": "scattergl"
           }
          ],
          "scattermapbox": [
           {
            "marker": {
             "colorbar": {
              "outlinewidth": 0,
              "ticks": ""
             }
            },
            "type": "scattermapbox"
           }
          ],
          "scatterpolar": [
           {
            "marker": {
             "colorbar": {
              "outlinewidth": 0,
              "ticks": ""
             }
            },
            "type": "scatterpolar"
           }
          ],
          "scatterpolargl": [
           {
            "marker": {
             "colorbar": {
              "outlinewidth": 0,
              "ticks": ""
             }
            },
            "type": "scatterpolargl"
           }
          ],
          "scatterternary": [
           {
            "marker": {
             "colorbar": {
              "outlinewidth": 0,
              "ticks": ""
             }
            },
            "type": "scatterternary"
           }
          ],
          "surface": [
           {
            "colorbar": {
             "outlinewidth": 0,
             "ticks": ""
            },
            "colorscale": [
             [
              0,
              "#0d0887"
             ],
             [
              0.1111111111111111,
              "#46039f"
             ],
             [
              0.2222222222222222,
              "#7201a8"
             ],
             [
              0.3333333333333333,
              "#9c179e"
             ],
             [
              0.4444444444444444,
              "#bd3786"
             ],
             [
              0.5555555555555556,
              "#d8576b"
             ],
             [
              0.6666666666666666,
              "#ed7953"
             ],
             [
              0.7777777777777778,
              "#fb9f3a"
             ],
             [
              0.8888888888888888,
              "#fdca26"
             ],
             [
              1,
              "#f0f921"
             ]
            ],
            "type": "surface"
           }
          ],
          "table": [
           {
            "cells": {
             "fill": {
              "color": "#EBF0F8"
             },
             "line": {
              "color": "white"
             }
            },
            "header": {
             "fill": {
              "color": "#C8D4E3"
             },
             "line": {
              "color": "white"
             }
            },
            "type": "table"
           }
          ]
         },
         "layout": {
          "annotationdefaults": {
           "arrowcolor": "#2a3f5f",
           "arrowhead": 0,
           "arrowwidth": 1
          },
          "autotypenumbers": "strict",
          "coloraxis": {
           "colorbar": {
            "outlinewidth": 0,
            "ticks": ""
           }
          },
          "colorscale": {
           "diverging": [
            [
             0,
             "#8e0152"
            ],
            [
             0.1,
             "#c51b7d"
            ],
            [
             0.2,
             "#de77ae"
            ],
            [
             0.3,
             "#f1b6da"
            ],
            [
             0.4,
             "#fde0ef"
            ],
            [
             0.5,
             "#f7f7f7"
            ],
            [
             0.6,
             "#e6f5d0"
            ],
            [
             0.7,
             "#b8e186"
            ],
            [
             0.8,
             "#7fbc41"
            ],
            [
             0.9,
             "#4d9221"
            ],
            [
             1,
             "#276419"
            ]
           ],
           "sequential": [
            [
             0,
             "#0d0887"
            ],
            [
             0.1111111111111111,
             "#46039f"
            ],
            [
             0.2222222222222222,
             "#7201a8"
            ],
            [
             0.3333333333333333,
             "#9c179e"
            ],
            [
             0.4444444444444444,
             "#bd3786"
            ],
            [
             0.5555555555555556,
             "#d8576b"
            ],
            [
             0.6666666666666666,
             "#ed7953"
            ],
            [
             0.7777777777777778,
             "#fb9f3a"
            ],
            [
             0.8888888888888888,
             "#fdca26"
            ],
            [
             1,
             "#f0f921"
            ]
           ],
           "sequentialminus": [
            [
             0,
             "#0d0887"
            ],
            [
             0.1111111111111111,
             "#46039f"
            ],
            [
             0.2222222222222222,
             "#7201a8"
            ],
            [
             0.3333333333333333,
             "#9c179e"
            ],
            [
             0.4444444444444444,
             "#bd3786"
            ],
            [
             0.5555555555555556,
             "#d8576b"
            ],
            [
             0.6666666666666666,
             "#ed7953"
            ],
            [
             0.7777777777777778,
             "#fb9f3a"
            ],
            [
             0.8888888888888888,
             "#fdca26"
            ],
            [
             1,
             "#f0f921"
            ]
           ]
          },
          "colorway": [
           "#636efa",
           "#EF553B",
           "#00cc96",
           "#ab63fa",
           "#FFA15A",
           "#19d3f3",
           "#FF6692",
           "#B6E880",
           "#FF97FF",
           "#FECB52"
          ],
          "font": {
           "color": "#2a3f5f"
          },
          "geo": {
           "bgcolor": "white",
           "lakecolor": "white",
           "landcolor": "#E5ECF6",
           "showlakes": true,
           "showland": true,
           "subunitcolor": "white"
          },
          "hoverlabel": {
           "align": "left"
          },
          "hovermode": "closest",
          "mapbox": {
           "style": "light"
          },
          "paper_bgcolor": "white",
          "plot_bgcolor": "#E5ECF6",
          "polar": {
           "angularaxis": {
            "gridcolor": "white",
            "linecolor": "white",
            "ticks": ""
           },
           "bgcolor": "#E5ECF6",
           "radialaxis": {
            "gridcolor": "white",
            "linecolor": "white",
            "ticks": ""
           }
          },
          "scene": {
           "xaxis": {
            "backgroundcolor": "#E5ECF6",
            "gridcolor": "white",
            "gridwidth": 2,
            "linecolor": "white",
            "showbackground": true,
            "ticks": "",
            "zerolinecolor": "white"
           },
           "yaxis": {
            "backgroundcolor": "#E5ECF6",
            "gridcolor": "white",
            "gridwidth": 2,
            "linecolor": "white",
            "showbackground": true,
            "ticks": "",
            "zerolinecolor": "white"
           },
           "zaxis": {
            "backgroundcolor": "#E5ECF6",
            "gridcolor": "white",
            "gridwidth": 2,
            "linecolor": "white",
            "showbackground": true,
            "ticks": "",
            "zerolinecolor": "white"
           }
          },
          "shapedefaults": {
           "line": {
            "color": "#2a3f5f"
           }
          },
          "ternary": {
           "aaxis": {
            "gridcolor": "white",
            "linecolor": "white",
            "ticks": ""
           },
           "baxis": {
            "gridcolor": "white",
            "linecolor": "white",
            "ticks": ""
           },
           "bgcolor": "#E5ECF6",
           "caxis": {
            "gridcolor": "white",
            "linecolor": "white",
            "ticks": ""
           }
          },
          "title": {
           "x": 0.05
          },
          "xaxis": {
           "automargin": true,
           "gridcolor": "white",
           "linecolor": "white",
           "ticks": "",
           "title": {
            "standoff": 15
           },
           "zerolinecolor": "white",
           "zerolinewidth": 2
          },
          "yaxis": {
           "automargin": true,
           "gridcolor": "white",
           "linecolor": "white",
           "ticks": "",
           "title": {
            "standoff": 15
           },
           "zerolinecolor": "white",
           "zerolinewidth": 2
          }
         }
        },
        "title": {
         "text": "3D Trajectory Network Plot"
        }
       }
      }
     },
     "metadata": {},
     "output_type": "display_data"
    },
    {
     "data": {
      "application/vnd.plotly.v1+json": {
       "config": {
        "plotlyServerURL": "https://plot.ly"
       },
       "data": [
        {
         "marker": {
          "color": [
           "yellow",
           "skyblue",
           "skyblue",
           "skyblue",
           "skyblue",
           "skyblue",
           "skyblue",
           "skyblue",
           "skyblue",
           "skyblue",
           "skyblue",
           "skyblue",
           "red",
           "skyblue",
           "skyblue",
           "skyblue",
           "skyblue",
           "skyblue",
           "skyblue",
           "skyblue",
           "green",
           "skyblue",
           "skyblue",
           "skyblue",
           "skyblue",
           "skyblue",
           "skyblue",
           "skyblue",
           "skyblue",
           "skyblue",
           "skyblue",
           "skyblue",
           "skyblue",
           "skyblue",
           "skyblue",
           "green",
           "green",
           "skyblue",
           "skyblue",
           "skyblue",
           "skyblue",
           "skyblue",
           "skyblue",
           "skyblue",
           "skyblue",
           "green",
           "skyblue",
           "skyblue",
           "skyblue",
           "skyblue",
           "skyblue",
           "skyblue",
           "skyblue",
           "skyblue",
           "skyblue",
           "yellow",
           "skyblue",
           "skyblue",
           "skyblue",
           "skyblue",
           "yellow",
           "skyblue",
           "skyblue",
           "skyblue",
           "skyblue",
           "skyblue",
           "yellow",
           "skyblue",
           "skyblue",
           "skyblue",
           "skyblue",
           "green",
           "yellow",
           "skyblue",
           "skyblue",
           "skyblue",
           "skyblue",
           "yellow",
           "skyblue",
           "skyblue",
           "skyblue",
           "skyblue"
          ],
          "opacity": 0.8,
          "size": [
           50,
           100,
           100,
           100,
           100,
           100,
           100,
           100,
           100,
           100,
           100,
           100,
           450,
           100,
           100,
           100,
           100,
           100,
           100,
           100,
           150,
           100,
           100,
           100,
           100,
           100,
           100,
           100,
           100,
           100,
           100,
           100,
           100,
           100,
           100,
           150,
           150,
           100,
           100,
           100,
           100,
           100,
           100,
           100,
           100,
           150,
           100,
           100,
           100,
           100,
           100,
           100,
           100,
           100,
           100,
           50,
           100,
           100,
           100,
           100,
           50,
           100,
           100,
           100,
           100,
           100,
           50,
           100,
           100,
           100,
           100,
           150,
           50,
           100,
           100,
           100,
           100,
           50,
           100,
           100,
           100,
           100
          ]
         },
         "mode": "markers",
         "text": [
          "",
          "",
          "",
          "",
          "",
          "",
          "",
          "",
          "",
          "",
          "",
          "",
          "",
          "",
          "",
          "",
          "",
          "",
          "",
          "",
          "",
          "",
          "",
          "",
          "",
          "",
          "",
          "",
          "",
          "",
          "",
          "",
          "",
          "",
          "",
          "",
          "",
          "",
          "",
          "",
          "",
          "",
          "",
          "",
          "",
          "",
          "",
          "",
          "",
          "",
          "",
          "",
          "",
          "",
          "",
          "",
          "",
          "",
          "",
          "",
          "",
          "",
          "",
          "",
          "",
          "",
          "",
          "",
          "",
          "",
          "",
          "",
          "",
          "",
          "",
          "",
          "",
          "",
          "",
          "",
          "",
          ""
         ],
         "type": "scatter",
         "x": [
          0.3201232353978535,
          0.2026329199649303,
          0.11560675697654285,
          0.04946664449050683,
          -0.00009491638054343071,
          -0.03694021334734324,
          -0.060135225272779584,
          -0.0719255547695596,
          -0.07093811543305796,
          -0.05535699249469435,
          -0.022335018767874776,
          0.03507452589989192,
          0.13466849269617573,
          0.2934905251680759,
          0.26896484893853945,
          0.2445119079233476,
          0.22020436484813796,
          0.19532161491227024,
          0.1702968884819858,
          0.14373397908079646,
          0.11063656992385791,
          0.13557275305401295,
          0.24418924686870136,
          0.11142450748357044,
          -0.015181066931557153,
          -0.12153836500344883,
          -0.20529867158688206,
          -0.2675892653553959,
          -0.3085499764977679,
          -0.32993460949088815,
          -0.3322310375906456,
          -0.3148121256013641,
          -0.2772871025012563,
          -0.2179324819990885,
          -0.13116404193043227,
          -0.011069207851985457,
          0.032309998488272526,
          0.2640276145908662,
          0.2125849561741043,
          0.16395322817480013,
          0.11834282666159371,
          0.07788615715672455,
          0.04283710757570138,
          0.01446138652808126,
          -0.0042020082248838105,
          0.09184360406877826,
          0.19392607625117056,
          0.09749267181743448,
          0.029572313793422265,
          -0.016265134610518855,
          -0.04345688132197489,
          -0.05394699014289733,
          -0.04798629628619448,
          -0.02348510785738488,
          0.02749777582165338,
          -0.4515491731438558,
          -0.33187761216530176,
          -0.21297205098947936,
          -0.09491052417990316,
          0.021960371691930953,
          -0.34577307697268855,
          -0.2603940590890894,
          -0.17776086785285072,
          -0.10055092004397803,
          -0.01847902452938919,
          0.06037265651754625,
          -0.2369363224014579,
          -0.18304935649464113,
          -0.1326404013448174,
          -0.07697474700439244,
          -0.024975548367760416,
          0.027920123971238314,
          0.71133689145538,
          0.592362148347557,
          0.4758909527117129,
          0.36135243189791644,
          0.24674740934948589,
          -0.3966040825560876,
          -0.31740890393751425,
          -0.2380671193090312,
          -0.15396339507100296,
          -0.06605489245090751
         ],
         "y": [
          0.810754071508508,
          0.7694118644833826,
          0.6800669236498412,
          0.5750458474119062,
          0.46163491540526114,
          0.34367551859583706,
          0.22236139539942543,
          0.09944356401816395,
          -0.024137812945694188,
          -0.14690167749473793,
          -0.26650054779539456,
          -0.3771338659371828,
          -0.45162015941697053,
          0.6713308154987475,
          0.543758968857056,
          0.4186004621765987,
          0.29439534606723,
          0.17068255900029297,
          0.04700306770543761,
          -0.07684339414470485,
          -0.20096953977068943,
          -0.3235132634354975,
          0.9335171647321518,
          0.9568993999326655,
          0.9175190138609725,
          0.8407865532061991,
          0.7412223116601273,
          0.62784232222236,
          0.5057082785622573,
          0.37910081128634265,
          0.2509778149954264,
          0.12421205527947539,
          0.001992634287020363,
          -0.1112112745531912,
          -0.20518397591672272,
          -0.25639114551178865,
          -0.3784432761214815,
          0.6973107777639899,
          0.5846303785931661,
          0.4711272816094237,
          0.356387055764101,
          0.23954106643341114,
          0.12056006569323198,
          -0.0009344738219391758,
          -0.1257453729912364,
          -0.332550594725525,
          0.8029442453573913,
          0.7204717512352813,
          0.6146261001215384,
          0.4982371137288633,
          0.37656855442777587,
          0.2526072081189029,
          0.12849457198171046,
          0.006751760470583555,
          -0.10648482284733705,
          -0.6071655164821529,
          -0.5858463363069617,
          -0.5605411012745458,
          -0.531421328277681,
          -0.49762884232034416,
          -1,
          -0.9134013163526568,
          -0.8241564788705207,
          -0.7301714900977381,
          -0.6404308903657304,
          -0.5478786302223739,
          0.16899958511270713,
          0.059948223649178255,
          -0.05081955939652747,
          -0.15916089350713716,
          -0.26964602426634143,
          -0.5058946801726342,
          -0.6409428011152944,
          -0.6155823751210245,
          -0.5805192207603276,
          -0.5396459491868674,
          -0.4989504388203618,
          -0.9418360101198231,
          -0.8495554740394269,
          -0.7573065105072473,
          -0.6692664449115666,
          -0.5848159099385597
         ]
        },
        {
         "line": {
          "color": "blue",
          "width": 2
         },
         "mode": "lines",
         "opacity": 0.5,
         "type": "scatter",
         "x": [
          0.3201232353978535,
          0.2026329199649303,
          null
         ],
         "y": [
          0.810754071508508,
          0.7694118644833826,
          null
         ]
        },
        {
         "line": {
          "color": "blue",
          "width": 2
         },
         "mode": "lines",
         "opacity": 0.5,
         "type": "scatter",
         "x": [
          0.3201232353978535,
          0.2934905251680759,
          null
         ],
         "y": [
          0.810754071508508,
          0.6713308154987475,
          null
         ]
        },
        {
         "line": {
          "color": "blue",
          "width": 2
         },
         "mode": "lines",
         "opacity": 0.5,
         "type": "scatter",
         "x": [
          0.3201232353978535,
          0.24418924686870136,
          null
         ],
         "y": [
          0.810754071508508,
          0.9335171647321518,
          null
         ]
        },
        {
         "line": {
          "color": "blue",
          "width": 2
         },
         "mode": "lines",
         "opacity": 0.5,
         "type": "scatter",
         "x": [
          0.3201232353978535,
          0.2640276145908662,
          null
         ],
         "y": [
          0.810754071508508,
          0.6973107777639899,
          null
         ]
        },
        {
         "line": {
          "color": "blue",
          "width": 2
         },
         "mode": "lines",
         "opacity": 0.5,
         "type": "scatter",
         "x": [
          0.3201232353978535,
          0.19392607625117056,
          null
         ],
         "y": [
          0.810754071508508,
          0.8029442453573913,
          null
         ]
        },
        {
         "line": {
          "color": "blue",
          "width": 2
         },
         "mode": "lines",
         "opacity": 0.5,
         "type": "scatter",
         "x": [
          0.2026329199649303,
          0.11560675697654285,
          null
         ],
         "y": [
          0.7694118644833826,
          0.6800669236498412,
          null
         ]
        },
        {
         "line": {
          "color": "blue",
          "width": 2
         },
         "mode": "lines",
         "opacity": 0.5,
         "type": "scatter",
         "x": [
          0.11560675697654285,
          0.04946664449050683,
          null
         ],
         "y": [
          0.6800669236498412,
          0.5750458474119062,
          null
         ]
        },
        {
         "line": {
          "color": "blue",
          "width": 2
         },
         "mode": "lines",
         "opacity": 0.5,
         "type": "scatter",
         "x": [
          0.04946664449050683,
          -0.00009491638054343071,
          null
         ],
         "y": [
          0.5750458474119062,
          0.46163491540526114,
          null
         ]
        },
        {
         "line": {
          "color": "blue",
          "width": 2
         },
         "mode": "lines",
         "opacity": 0.5,
         "type": "scatter",
         "x": [
          -0.00009491638054343071,
          -0.03694021334734324,
          null
         ],
         "y": [
          0.46163491540526114,
          0.34367551859583706,
          null
         ]
        },
        {
         "line": {
          "color": "blue",
          "width": 2
         },
         "mode": "lines",
         "opacity": 0.5,
         "type": "scatter",
         "x": [
          -0.03694021334734324,
          -0.060135225272779584,
          null
         ],
         "y": [
          0.34367551859583706,
          0.22236139539942543,
          null
         ]
        },
        {
         "line": {
          "color": "blue",
          "width": 2
         },
         "mode": "lines",
         "opacity": 0.5,
         "type": "scatter",
         "x": [
          -0.060135225272779584,
          -0.0719255547695596,
          null
         ],
         "y": [
          0.22236139539942543,
          0.09944356401816395,
          null
         ]
        },
        {
         "line": {
          "color": "blue",
          "width": 2
         },
         "mode": "lines",
         "opacity": 0.5,
         "type": "scatter",
         "x": [
          -0.0719255547695596,
          -0.07093811543305796,
          null
         ],
         "y": [
          0.09944356401816395,
          -0.024137812945694188,
          null
         ]
        },
        {
         "line": {
          "color": "blue",
          "width": 2
         },
         "mode": "lines",
         "opacity": 0.5,
         "type": "scatter",
         "x": [
          -0.07093811543305796,
          -0.05535699249469435,
          null
         ],
         "y": [
          -0.024137812945694188,
          -0.14690167749473793,
          null
         ]
        },
        {
         "line": {
          "color": "blue",
          "width": 2
         },
         "mode": "lines",
         "opacity": 0.5,
         "type": "scatter",
         "x": [
          -0.05535699249469435,
          -0.022335018767874776,
          null
         ],
         "y": [
          -0.14690167749473793,
          -0.26650054779539456,
          null
         ]
        },
        {
         "line": {
          "color": "blue",
          "width": 2
         },
         "mode": "lines",
         "opacity": 0.5,
         "type": "scatter",
         "x": [
          -0.022335018767874776,
          0.03507452589989192,
          null
         ],
         "y": [
          -0.26650054779539456,
          -0.3771338659371828,
          null
         ]
        },
        {
         "line": {
          "color": "blue",
          "width": 2
         },
         "mode": "lines",
         "opacity": 0.5,
         "type": "scatter",
         "x": [
          0.03507452589989192,
          0.13466849269617573,
          null
         ],
         "y": [
          -0.3771338659371828,
          -0.45162015941697053,
          null
         ]
        },
        {
         "line": {
          "color": "blue",
          "width": 2
         },
         "mode": "lines",
         "opacity": 0.5,
         "type": "scatter",
         "x": [
          0.2934905251680759,
          0.26896484893853945,
          null
         ],
         "y": [
          0.6713308154987475,
          0.543758968857056,
          null
         ]
        },
        {
         "line": {
          "color": "blue",
          "width": 2
         },
         "mode": "lines",
         "opacity": 0.5,
         "type": "scatter",
         "x": [
          0.26896484893853945,
          0.2445119079233476,
          null
         ],
         "y": [
          0.543758968857056,
          0.4186004621765987,
          null
         ]
        },
        {
         "line": {
          "color": "blue",
          "width": 2
         },
         "mode": "lines",
         "opacity": 0.5,
         "type": "scatter",
         "x": [
          0.2445119079233476,
          0.22020436484813796,
          null
         ],
         "y": [
          0.4186004621765987,
          0.29439534606723,
          null
         ]
        },
        {
         "line": {
          "color": "blue",
          "width": 2
         },
         "mode": "lines",
         "opacity": 0.5,
         "type": "scatter",
         "x": [
          0.22020436484813796,
          0.19532161491227024,
          null
         ],
         "y": [
          0.29439534606723,
          0.17068255900029297,
          null
         ]
        },
        {
         "line": {
          "color": "blue",
          "width": 2
         },
         "mode": "lines",
         "opacity": 0.5,
         "type": "scatter",
         "x": [
          0.19532161491227024,
          0.1702968884819858,
          null
         ],
         "y": [
          0.17068255900029297,
          0.04700306770543761,
          null
         ]
        },
        {
         "line": {
          "color": "blue",
          "width": 2
         },
         "mode": "lines",
         "opacity": 0.5,
         "type": "scatter",
         "x": [
          0.1702968884819858,
          0.14373397908079646,
          null
         ],
         "y": [
          0.04700306770543761,
          -0.07684339414470485,
          null
         ]
        },
        {
         "line": {
          "color": "blue",
          "width": 2
         },
         "mode": "lines",
         "opacity": 0.5,
         "type": "scatter",
         "x": [
          0.14373397908079646,
          0.11063656992385791,
          null
         ],
         "y": [
          -0.07684339414470485,
          -0.20096953977068943,
          null
         ]
        },
        {
         "line": {
          "color": "blue",
          "width": 2
         },
         "mode": "lines",
         "opacity": 0.5,
         "type": "scatter",
         "x": [
          0.11063656992385791,
          0.13557275305401295,
          null
         ],
         "y": [
          -0.20096953977068943,
          -0.3235132634354975,
          null
         ]
        },
        {
         "line": {
          "color": "blue",
          "width": 2
         },
         "mode": "lines",
         "opacity": 0.5,
         "type": "scatter",
         "x": [
          0.11063656992385791,
          0.09184360406877826,
          null
         ],
         "y": [
          -0.20096953977068943,
          -0.332550594725525,
          null
         ]
        },
        {
         "line": {
          "color": "blue",
          "width": 2
         },
         "mode": "lines",
         "opacity": 0.5,
         "type": "scatter",
         "x": [
          0.13557275305401295,
          0.13466849269617573,
          null
         ],
         "y": [
          -0.3235132634354975,
          -0.45162015941697053,
          null
         ]
        },
        {
         "line": {
          "color": "blue",
          "width": 2
         },
         "mode": "lines",
         "opacity": 0.5,
         "type": "scatter",
         "x": [
          0.24418924686870136,
          0.11142450748357044,
          null
         ],
         "y": [
          0.9335171647321518,
          0.9568993999326655,
          null
         ]
        },
        {
         "line": {
          "color": "blue",
          "width": 2
         },
         "mode": "lines",
         "opacity": 0.5,
         "type": "scatter",
         "x": [
          0.11142450748357044,
          -0.015181066931557153,
          null
         ],
         "y": [
          0.9568993999326655,
          0.9175190138609725,
          null
         ]
        },
        {
         "line": {
          "color": "blue",
          "width": 2
         },
         "mode": "lines",
         "opacity": 0.5,
         "type": "scatter",
         "x": [
          -0.015181066931557153,
          -0.12153836500344883,
          null
         ],
         "y": [
          0.9175190138609725,
          0.8407865532061991,
          null
         ]
        },
        {
         "line": {
          "color": "blue",
          "width": 2
         },
         "mode": "lines",
         "opacity": 0.5,
         "type": "scatter",
         "x": [
          -0.12153836500344883,
          -0.20529867158688206,
          null
         ],
         "y": [
          0.8407865532061991,
          0.7412223116601273,
          null
         ]
        },
        {
         "line": {
          "color": "blue",
          "width": 2
         },
         "mode": "lines",
         "opacity": 0.5,
         "type": "scatter",
         "x": [
          -0.20529867158688206,
          -0.2675892653553959,
          null
         ],
         "y": [
          0.7412223116601273,
          0.62784232222236,
          null
         ]
        },
        {
         "line": {
          "color": "blue",
          "width": 2
         },
         "mode": "lines",
         "opacity": 0.5,
         "type": "scatter",
         "x": [
          -0.2675892653553959,
          -0.3085499764977679,
          null
         ],
         "y": [
          0.62784232222236,
          0.5057082785622573,
          null
         ]
        },
        {
         "line": {
          "color": "blue",
          "width": 2
         },
         "mode": "lines",
         "opacity": 0.5,
         "type": "scatter",
         "x": [
          -0.3085499764977679,
          -0.32993460949088815,
          null
         ],
         "y": [
          0.5057082785622573,
          0.37910081128634265,
          null
         ]
        },
        {
         "line": {
          "color": "blue",
          "width": 2
         },
         "mode": "lines",
         "opacity": 0.5,
         "type": "scatter",
         "x": [
          -0.32993460949088815,
          -0.3322310375906456,
          null
         ],
         "y": [
          0.37910081128634265,
          0.2509778149954264,
          null
         ]
        },
        {
         "line": {
          "color": "blue",
          "width": 2
         },
         "mode": "lines",
         "opacity": 0.5,
         "type": "scatter",
         "x": [
          -0.3322310375906456,
          -0.3148121256013641,
          null
         ],
         "y": [
          0.2509778149954264,
          0.12421205527947539,
          null
         ]
        },
        {
         "line": {
          "color": "blue",
          "width": 2
         },
         "mode": "lines",
         "opacity": 0.5,
         "type": "scatter",
         "x": [
          -0.3148121256013641,
          -0.2772871025012563,
          null
         ],
         "y": [
          0.12421205527947539,
          0.001992634287020363,
          null
         ]
        },
        {
         "line": {
          "color": "blue",
          "width": 2
         },
         "mode": "lines",
         "opacity": 0.5,
         "type": "scatter",
         "x": [
          -0.2772871025012563,
          -0.2179324819990885,
          null
         ],
         "y": [
          0.001992634287020363,
          -0.1112112745531912,
          null
         ]
        },
        {
         "line": {
          "color": "blue",
          "width": 2
         },
         "mode": "lines",
         "opacity": 0.5,
         "type": "scatter",
         "x": [
          -0.2179324819990885,
          -0.13116404193043227,
          null
         ],
         "y": [
          -0.1112112745531912,
          -0.20518397591672272,
          null
         ]
        },
        {
         "line": {
          "color": "blue",
          "width": 2
         },
         "mode": "lines",
         "opacity": 0.5,
         "type": "scatter",
         "x": [
          -0.13116404193043227,
          -0.011069207851985457,
          null
         ],
         "y": [
          -0.20518397591672272,
          -0.25639114551178865,
          null
         ]
        },
        {
         "line": {
          "color": "blue",
          "width": 2
         },
         "mode": "lines",
         "opacity": 0.5,
         "type": "scatter",
         "x": [
          -0.011069207851985457,
          0.032309998488272526,
          null
         ],
         "y": [
          -0.25639114551178865,
          -0.3784432761214815,
          null
         ]
        },
        {
         "line": {
          "color": "blue",
          "width": 2
         },
         "mode": "lines",
         "opacity": 0.5,
         "type": "scatter",
         "x": [
          -0.011069207851985457,
          0.09184360406877826,
          null
         ],
         "y": [
          -0.25639114551178865,
          -0.332550594725525,
          null
         ]
        },
        {
         "line": {
          "color": "blue",
          "width": 2
         },
         "mode": "lines",
         "opacity": 0.5,
         "type": "scatter",
         "x": [
          0.032309998488272526,
          0.13466849269617573,
          null
         ],
         "y": [
          -0.3784432761214815,
          -0.45162015941697053,
          null
         ]
        },
        {
         "line": {
          "color": "orange",
          "width": 2
         },
         "mode": "lines",
         "opacity": 0.5,
         "type": "scatter",
         "x": [
          0.032309998488272526,
          0.027920123971238314,
          null
         ],
         "y": [
          -0.3784432761214815,
          -0.5058946801726342,
          null
         ]
        },
        {
         "line": {
          "color": "blue",
          "width": 2
         },
         "mode": "lines",
         "opacity": 0.5,
         "type": "scatter",
         "x": [
          0.2640276145908662,
          0.2125849561741043,
          null
         ],
         "y": [
          0.6973107777639899,
          0.5846303785931661,
          null
         ]
        },
        {
         "line": {
          "color": "blue",
          "width": 2
         },
         "mode": "lines",
         "opacity": 0.5,
         "type": "scatter",
         "x": [
          0.2125849561741043,
          0.16395322817480013,
          null
         ],
         "y": [
          0.5846303785931661,
          0.4711272816094237,
          null
         ]
        },
        {
         "line": {
          "color": "blue",
          "width": 2
         },
         "mode": "lines",
         "opacity": 0.5,
         "type": "scatter",
         "x": [
          0.16395322817480013,
          0.11834282666159371,
          null
         ],
         "y": [
          0.4711272816094237,
          0.356387055764101,
          null
         ]
        },
        {
         "line": {
          "color": "blue",
          "width": 2
         },
         "mode": "lines",
         "opacity": 0.5,
         "type": "scatter",
         "x": [
          0.11834282666159371,
          0.07788615715672455,
          null
         ],
         "y": [
          0.356387055764101,
          0.23954106643341114,
          null
         ]
        },
        {
         "line": {
          "color": "blue",
          "width": 2
         },
         "mode": "lines",
         "opacity": 0.5,
         "type": "scatter",
         "x": [
          0.07788615715672455,
          0.04283710757570138,
          null
         ],
         "y": [
          0.23954106643341114,
          0.12056006569323198,
          null
         ]
        },
        {
         "line": {
          "color": "blue",
          "width": 2
         },
         "mode": "lines",
         "opacity": 0.5,
         "type": "scatter",
         "x": [
          0.04283710757570138,
          0.01446138652808126,
          null
         ],
         "y": [
          0.12056006569323198,
          -0.0009344738219391758,
          null
         ]
        },
        {
         "line": {
          "color": "blue",
          "width": 2
         },
         "mode": "lines",
         "opacity": 0.5,
         "type": "scatter",
         "x": [
          0.01446138652808126,
          -0.0042020082248838105,
          null
         ],
         "y": [
          -0.0009344738219391758,
          -0.1257453729912364,
          null
         ]
        },
        {
         "line": {
          "color": "blue",
          "width": 2
         },
         "mode": "lines",
         "opacity": 0.5,
         "type": "scatter",
         "x": [
          -0.0042020082248838105,
          -0.011069207851985457,
          null
         ],
         "y": [
          -0.1257453729912364,
          -0.25639114551178865,
          null
         ]
        },
        {
         "line": {
          "color": "blue",
          "width": 2
         },
         "mode": "lines",
         "opacity": 0.5,
         "type": "scatter",
         "x": [
          0.09184360406877826,
          0.13466849269617573,
          null
         ],
         "y": [
          -0.332550594725525,
          -0.45162015941697053,
          null
         ]
        },
        {
         "line": {
          "color": "blue",
          "width": 2
         },
         "mode": "lines",
         "opacity": 0.5,
         "type": "scatter",
         "x": [
          0.19392607625117056,
          0.09749267181743448,
          null
         ],
         "y": [
          0.8029442453573913,
          0.7204717512352813,
          null
         ]
        },
        {
         "line": {
          "color": "blue",
          "width": 2
         },
         "mode": "lines",
         "opacity": 0.5,
         "type": "scatter",
         "x": [
          0.09749267181743448,
          0.029572313793422265,
          null
         ],
         "y": [
          0.7204717512352813,
          0.6146261001215384,
          null
         ]
        },
        {
         "line": {
          "color": "blue",
          "width": 2
         },
         "mode": "lines",
         "opacity": 0.5,
         "type": "scatter",
         "x": [
          0.029572313793422265,
          -0.016265134610518855,
          null
         ],
         "y": [
          0.6146261001215384,
          0.4982371137288633,
          null
         ]
        },
        {
         "line": {
          "color": "blue",
          "width": 2
         },
         "mode": "lines",
         "opacity": 0.5,
         "type": "scatter",
         "x": [
          -0.016265134610518855,
          -0.04345688132197489,
          null
         ],
         "y": [
          0.4982371137288633,
          0.37656855442777587,
          null
         ]
        },
        {
         "line": {
          "color": "blue",
          "width": 2
         },
         "mode": "lines",
         "opacity": 0.5,
         "type": "scatter",
         "x": [
          -0.04345688132197489,
          -0.05394699014289733,
          null
         ],
         "y": [
          0.37656855442777587,
          0.2526072081189029,
          null
         ]
        },
        {
         "line": {
          "color": "blue",
          "width": 2
         },
         "mode": "lines",
         "opacity": 0.5,
         "type": "scatter",
         "x": [
          -0.05394699014289733,
          -0.04798629628619448,
          null
         ],
         "y": [
          0.2526072081189029,
          0.12849457198171046,
          null
         ]
        },
        {
         "line": {
          "color": "blue",
          "width": 2
         },
         "mode": "lines",
         "opacity": 0.5,
         "type": "scatter",
         "x": [
          -0.04798629628619448,
          -0.02348510785738488,
          null
         ],
         "y": [
          0.12849457198171046,
          0.006751760470583555,
          null
         ]
        },
        {
         "line": {
          "color": "blue",
          "width": 2
         },
         "mode": "lines",
         "opacity": 0.5,
         "type": "scatter",
         "x": [
          -0.02348510785738488,
          0.02749777582165338,
          null
         ],
         "y": [
          0.006751760470583555,
          -0.10648482284733705,
          null
         ]
        },
        {
         "line": {
          "color": "blue",
          "width": 2
         },
         "mode": "lines",
         "opacity": 0.5,
         "type": "scatter",
         "x": [
          0.02749777582165338,
          0.11063656992385791,
          null
         ],
         "y": [
          -0.10648482284733705,
          -0.20096953977068943,
          null
         ]
        },
        {
         "line": {
          "color": "orange",
          "width": 2
         },
         "mode": "lines",
         "opacity": 0.5,
         "type": "scatter",
         "x": [
          -0.4515491731438558,
          -0.33187761216530176,
          null
         ],
         "y": [
          -0.6071655164821529,
          -0.5858463363069617,
          null
         ]
        },
        {
         "line": {
          "color": "orange",
          "width": 2
         },
         "mode": "lines",
         "opacity": 0.5,
         "type": "scatter",
         "x": [
          -0.33187761216530176,
          -0.21297205098947936,
          null
         ],
         "y": [
          -0.5858463363069617,
          -0.5605411012745458,
          null
         ]
        },
        {
         "line": {
          "color": "orange",
          "width": 2
         },
         "mode": "lines",
         "opacity": 0.5,
         "type": "scatter",
         "x": [
          -0.21297205098947936,
          -0.09491052417990316,
          null
         ],
         "y": [
          -0.5605411012745458,
          -0.531421328277681,
          null
         ]
        },
        {
         "line": {
          "color": "orange",
          "width": 2
         },
         "mode": "lines",
         "opacity": 0.5,
         "type": "scatter",
         "x": [
          -0.09491052417990316,
          0.021960371691930953,
          null
         ],
         "y": [
          -0.531421328277681,
          -0.49762884232034416,
          null
         ]
        },
        {
         "line": {
          "color": "orange",
          "width": 2
         },
         "mode": "lines",
         "opacity": 0.5,
         "type": "scatter",
         "x": [
          0.021960371691930953,
          0.13466849269617573,
          null
         ],
         "y": [
          -0.49762884232034416,
          -0.45162015941697053,
          null
         ]
        },
        {
         "line": {
          "color": "orange",
          "width": 2
         },
         "mode": "lines",
         "opacity": 0.5,
         "type": "scatter",
         "x": [
          -0.34577307697268855,
          -0.2603940590890894,
          null
         ],
         "y": [
          -1,
          -0.9134013163526568,
          null
         ]
        },
        {
         "line": {
          "color": "orange",
          "width": 2
         },
         "mode": "lines",
         "opacity": 0.5,
         "type": "scatter",
         "x": [
          -0.2603940590890894,
          -0.17776086785285072,
          null
         ],
         "y": [
          -0.9134013163526568,
          -0.8241564788705207,
          null
         ]
        },
        {
         "line": {
          "color": "orange",
          "width": 2
         },
         "mode": "lines",
         "opacity": 0.5,
         "type": "scatter",
         "x": [
          -0.17776086785285072,
          -0.10055092004397803,
          null
         ],
         "y": [
          -0.8241564788705207,
          -0.7301714900977381,
          null
         ]
        },
        {
         "line": {
          "color": "orange",
          "width": 2
         },
         "mode": "lines",
         "opacity": 0.5,
         "type": "scatter",
         "x": [
          -0.10055092004397803,
          -0.01847902452938919,
          null
         ],
         "y": [
          -0.7301714900977381,
          -0.6404308903657304,
          null
         ]
        },
        {
         "line": {
          "color": "orange",
          "width": 2
         },
         "mode": "lines",
         "opacity": 0.5,
         "type": "scatter",
         "x": [
          -0.01847902452938919,
          0.06037265651754625,
          null
         ],
         "y": [
          -0.6404308903657304,
          -0.5478786302223739,
          null
         ]
        },
        {
         "line": {
          "color": "orange",
          "width": 2
         },
         "mode": "lines",
         "opacity": 0.5,
         "type": "scatter",
         "x": [
          0.06037265651754625,
          0.13466849269617573,
          null
         ],
         "y": [
          -0.5478786302223739,
          -0.45162015941697053,
          null
         ]
        },
        {
         "line": {
          "color": "orange",
          "width": 2
         },
         "mode": "lines",
         "opacity": 0.5,
         "type": "scatter",
         "x": [
          -0.2369363224014579,
          -0.18304935649464113,
          null
         ],
         "y": [
          0.16899958511270713,
          0.059948223649178255,
          null
         ]
        },
        {
         "line": {
          "color": "orange",
          "width": 2
         },
         "mode": "lines",
         "opacity": 0.5,
         "type": "scatter",
         "x": [
          -0.18304935649464113,
          -0.1326404013448174,
          null
         ],
         "y": [
          0.059948223649178255,
          -0.05081955939652747,
          null
         ]
        },
        {
         "line": {
          "color": "orange",
          "width": 2
         },
         "mode": "lines",
         "opacity": 0.5,
         "type": "scatter",
         "x": [
          -0.1326404013448174,
          -0.07697474700439244,
          null
         ],
         "y": [
          -0.05081955939652747,
          -0.15916089350713716,
          null
         ]
        },
        {
         "line": {
          "color": "orange",
          "width": 2
         },
         "mode": "lines",
         "opacity": 0.5,
         "type": "scatter",
         "x": [
          -0.07697474700439244,
          -0.024975548367760416,
          null
         ],
         "y": [
          -0.15916089350713716,
          -0.26964602426634143,
          null
         ]
        },
        {
         "line": {
          "color": "orange",
          "width": 2
         },
         "mode": "lines",
         "opacity": 0.5,
         "type": "scatter",
         "x": [
          -0.024975548367760416,
          0.032309998488272526,
          null
         ],
         "y": [
          -0.26964602426634143,
          -0.3784432761214815,
          null
         ]
        },
        {
         "line": {
          "color": "orange",
          "width": 2
         },
         "mode": "lines",
         "opacity": 0.5,
         "type": "scatter",
         "x": [
          0.027920123971238314,
          0.13466849269617573,
          null
         ],
         "y": [
          -0.5058946801726342,
          -0.45162015941697053,
          null
         ]
        },
        {
         "line": {
          "color": "orange",
          "width": 2
         },
         "mode": "lines",
         "opacity": 0.5,
         "type": "scatter",
         "x": [
          0.71133689145538,
          0.592362148347557,
          null
         ],
         "y": [
          -0.6409428011152944,
          -0.6155823751210245,
          null
         ]
        },
        {
         "line": {
          "color": "orange",
          "width": 2
         },
         "mode": "lines",
         "opacity": 0.5,
         "type": "scatter",
         "x": [
          0.592362148347557,
          0.4758909527117129,
          null
         ],
         "y": [
          -0.6155823751210245,
          -0.5805192207603276,
          null
         ]
        },
        {
         "line": {
          "color": "orange",
          "width": 2
         },
         "mode": "lines",
         "opacity": 0.5,
         "type": "scatter",
         "x": [
          0.4758909527117129,
          0.36135243189791644,
          null
         ],
         "y": [
          -0.5805192207603276,
          -0.5396459491868674,
          null
         ]
        },
        {
         "line": {
          "color": "orange",
          "width": 2
         },
         "mode": "lines",
         "opacity": 0.5,
         "type": "scatter",
         "x": [
          0.36135243189791644,
          0.24674740934948589,
          null
         ],
         "y": [
          -0.5396459491868674,
          -0.4989504388203618,
          null
         ]
        },
        {
         "line": {
          "color": "orange",
          "width": 2
         },
         "mode": "lines",
         "opacity": 0.5,
         "type": "scatter",
         "x": [
          0.24674740934948589,
          0.13466849269617573,
          null
         ],
         "y": [
          -0.4989504388203618,
          -0.45162015941697053,
          null
         ]
        },
        {
         "line": {
          "color": "orange",
          "width": 2
         },
         "mode": "lines",
         "opacity": 0.5,
         "type": "scatter",
         "x": [
          -0.3966040825560876,
          -0.31740890393751425,
          null
         ],
         "y": [
          -0.9418360101198231,
          -0.8495554740394269,
          null
         ]
        },
        {
         "line": {
          "color": "orange",
          "width": 2
         },
         "mode": "lines",
         "opacity": 0.5,
         "type": "scatter",
         "x": [
          -0.31740890393751425,
          -0.2380671193090312,
          null
         ],
         "y": [
          -0.8495554740394269,
          -0.7573065105072473,
          null
         ]
        },
        {
         "line": {
          "color": "orange",
          "width": 2
         },
         "mode": "lines",
         "opacity": 0.5,
         "type": "scatter",
         "x": [
          -0.2380671193090312,
          -0.15396339507100296,
          null
         ],
         "y": [
          -0.7573065105072473,
          -0.6692664449115666,
          null
         ]
        },
        {
         "line": {
          "color": "orange",
          "width": 2
         },
         "mode": "lines",
         "opacity": 0.5,
         "type": "scatter",
         "x": [
          -0.15396339507100296,
          -0.06605489245090751,
          null
         ],
         "y": [
          -0.6692664449115666,
          -0.5848159099385597,
          null
         ]
        },
        {
         "line": {
          "color": "orange",
          "width": 2
         },
         "mode": "lines",
         "opacity": 0.5,
         "type": "scatter",
         "x": [
          -0.06605489245090751,
          0.027920123971238314,
          null
         ],
         "y": [
          -0.5848159099385597,
          -0.5058946801726342,
          null
         ]
        }
       ],
       "layout": {
        "template": {
         "data": {
          "bar": [
           {
            "error_x": {
             "color": "#2a3f5f"
            },
            "error_y": {
             "color": "#2a3f5f"
            },
            "marker": {
             "line": {
              "color": "#E5ECF6",
              "width": 0.5
             },
             "pattern": {
              "fillmode": "overlay",
              "size": 10,
              "solidity": 0.2
             }
            },
            "type": "bar"
           }
          ],
          "barpolar": [
           {
            "marker": {
             "line": {
              "color": "#E5ECF6",
              "width": 0.5
             },
             "pattern": {
              "fillmode": "overlay",
              "size": 10,
              "solidity": 0.2
             }
            },
            "type": "barpolar"
           }
          ],
          "carpet": [
           {
            "aaxis": {
             "endlinecolor": "#2a3f5f",
             "gridcolor": "white",
             "linecolor": "white",
             "minorgridcolor": "white",
             "startlinecolor": "#2a3f5f"
            },
            "baxis": {
             "endlinecolor": "#2a3f5f",
             "gridcolor": "white",
             "linecolor": "white",
             "minorgridcolor": "white",
             "startlinecolor": "#2a3f5f"
            },
            "type": "carpet"
           }
          ],
          "choropleth": [
           {
            "colorbar": {
             "outlinewidth": 0,
             "ticks": ""
            },
            "type": "choropleth"
           }
          ],
          "contour": [
           {
            "colorbar": {
             "outlinewidth": 0,
             "ticks": ""
            },
            "colorscale": [
             [
              0,
              "#0d0887"
             ],
             [
              0.1111111111111111,
              "#46039f"
             ],
             [
              0.2222222222222222,
              "#7201a8"
             ],
             [
              0.3333333333333333,
              "#9c179e"
             ],
             [
              0.4444444444444444,
              "#bd3786"
             ],
             [
              0.5555555555555556,
              "#d8576b"
             ],
             [
              0.6666666666666666,
              "#ed7953"
             ],
             [
              0.7777777777777778,
              "#fb9f3a"
             ],
             [
              0.8888888888888888,
              "#fdca26"
             ],
             [
              1,
              "#f0f921"
             ]
            ],
            "type": "contour"
           }
          ],
          "contourcarpet": [
           {
            "colorbar": {
             "outlinewidth": 0,
             "ticks": ""
            },
            "type": "contourcarpet"
           }
          ],
          "heatmap": [
           {
            "colorbar": {
             "outlinewidth": 0,
             "ticks": ""
            },
            "colorscale": [
             [
              0,
              "#0d0887"
             ],
             [
              0.1111111111111111,
              "#46039f"
             ],
             [
              0.2222222222222222,
              "#7201a8"
             ],
             [
              0.3333333333333333,
              "#9c179e"
             ],
             [
              0.4444444444444444,
              "#bd3786"
             ],
             [
              0.5555555555555556,
              "#d8576b"
             ],
             [
              0.6666666666666666,
              "#ed7953"
             ],
             [
              0.7777777777777778,
              "#fb9f3a"
             ],
             [
              0.8888888888888888,
              "#fdca26"
             ],
             [
              1,
              "#f0f921"
             ]
            ],
            "type": "heatmap"
           }
          ],
          "heatmapgl": [
           {
            "colorbar": {
             "outlinewidth": 0,
             "ticks": ""
            },
            "colorscale": [
             [
              0,
              "#0d0887"
             ],
             [
              0.1111111111111111,
              "#46039f"
             ],
             [
              0.2222222222222222,
              "#7201a8"
             ],
             [
              0.3333333333333333,
              "#9c179e"
             ],
             [
              0.4444444444444444,
              "#bd3786"
             ],
             [
              0.5555555555555556,
              "#d8576b"
             ],
             [
              0.6666666666666666,
              "#ed7953"
             ],
             [
              0.7777777777777778,
              "#fb9f3a"
             ],
             [
              0.8888888888888888,
              "#fdca26"
             ],
             [
              1,
              "#f0f921"
             ]
            ],
            "type": "heatmapgl"
           }
          ],
          "histogram": [
           {
            "marker": {
             "pattern": {
              "fillmode": "overlay",
              "size": 10,
              "solidity": 0.2
             }
            },
            "type": "histogram"
           }
          ],
          "histogram2d": [
           {
            "colorbar": {
             "outlinewidth": 0,
             "ticks": ""
            },
            "colorscale": [
             [
              0,
              "#0d0887"
             ],
             [
              0.1111111111111111,
              "#46039f"
             ],
             [
              0.2222222222222222,
              "#7201a8"
             ],
             [
              0.3333333333333333,
              "#9c179e"
             ],
             [
              0.4444444444444444,
              "#bd3786"
             ],
             [
              0.5555555555555556,
              "#d8576b"
             ],
             [
              0.6666666666666666,
              "#ed7953"
             ],
             [
              0.7777777777777778,
              "#fb9f3a"
             ],
             [
              0.8888888888888888,
              "#fdca26"
             ],
             [
              1,
              "#f0f921"
             ]
            ],
            "type": "histogram2d"
           }
          ],
          "histogram2dcontour": [
           {
            "colorbar": {
             "outlinewidth": 0,
             "ticks": ""
            },
            "colorscale": [
             [
              0,
              "#0d0887"
             ],
             [
              0.1111111111111111,
              "#46039f"
             ],
             [
              0.2222222222222222,
              "#7201a8"
             ],
             [
              0.3333333333333333,
              "#9c179e"
             ],
             [
              0.4444444444444444,
              "#bd3786"
             ],
             [
              0.5555555555555556,
              "#d8576b"
             ],
             [
              0.6666666666666666,
              "#ed7953"
             ],
             [
              0.7777777777777778,
              "#fb9f3a"
             ],
             [
              0.8888888888888888,
              "#fdca26"
             ],
             [
              1,
              "#f0f921"
             ]
            ],
            "type": "histogram2dcontour"
           }
          ],
          "mesh3d": [
           {
            "colorbar": {
             "outlinewidth": 0,
             "ticks": ""
            },
            "type": "mesh3d"
           }
          ],
          "parcoords": [
           {
            "line": {
             "colorbar": {
              "outlinewidth": 0,
              "ticks": ""
             }
            },
            "type": "parcoords"
           }
          ],
          "pie": [
           {
            "automargin": true,
            "type": "pie"
           }
          ],
          "scatter": [
           {
            "fillpattern": {
             "fillmode": "overlay",
             "size": 10,
             "solidity": 0.2
            },
            "type": "scatter"
           }
          ],
          "scatter3d": [
           {
            "line": {
             "colorbar": {
              "outlinewidth": 0,
              "ticks": ""
             }
            },
            "marker": {
             "colorbar": {
              "outlinewidth": 0,
              "ticks": ""
             }
            },
            "type": "scatter3d"
           }
          ],
          "scattercarpet": [
           {
            "marker": {
             "colorbar": {
              "outlinewidth": 0,
              "ticks": ""
             }
            },
            "type": "scattercarpet"
           }
          ],
          "scattergeo": [
           {
            "marker": {
             "colorbar": {
              "outlinewidth": 0,
              "ticks": ""
             }
            },
            "type": "scattergeo"
           }
          ],
          "scattergl": [
           {
            "marker": {
             "colorbar": {
              "outlinewidth": 0,
              "ticks": ""
             }
            },
            "type": "scattergl"
           }
          ],
          "scattermapbox": [
           {
            "marker": {
             "colorbar": {
              "outlinewidth": 0,
              "ticks": ""
             }
            },
            "type": "scattermapbox"
           }
          ],
          "scatterpolar": [
           {
            "marker": {
             "colorbar": {
              "outlinewidth": 0,
              "ticks": ""
             }
            },
            "type": "scatterpolar"
           }
          ],
          "scatterpolargl": [
           {
            "marker": {
             "colorbar": {
              "outlinewidth": 0,
              "ticks": ""
             }
            },
            "type": "scatterpolargl"
           }
          ],
          "scatterternary": [
           {
            "marker": {
             "colorbar": {
              "outlinewidth": 0,
              "ticks": ""
             }
            },
            "type": "scatterternary"
           }
          ],
          "surface": [
           {
            "colorbar": {
             "outlinewidth": 0,
             "ticks": ""
            },
            "colorscale": [
             [
              0,
              "#0d0887"
             ],
             [
              0.1111111111111111,
              "#46039f"
             ],
             [
              0.2222222222222222,
              "#7201a8"
             ],
             [
              0.3333333333333333,
              "#9c179e"
             ],
             [
              0.4444444444444444,
              "#bd3786"
             ],
             [
              0.5555555555555556,
              "#d8576b"
             ],
             [
              0.6666666666666666,
              "#ed7953"
             ],
             [
              0.7777777777777778,
              "#fb9f3a"
             ],
             [
              0.8888888888888888,
              "#fdca26"
             ],
             [
              1,
              "#f0f921"
             ]
            ],
            "type": "surface"
           }
          ],
          "table": [
           {
            "cells": {
             "fill": {
              "color": "#EBF0F8"
             },
             "line": {
              "color": "white"
             }
            },
            "header": {
             "fill": {
              "color": "#C8D4E3"
             },
             "line": {
              "color": "white"
             }
            },
            "type": "table"
           }
          ]
         },
         "layout": {
          "annotationdefaults": {
           "arrowcolor": "#2a3f5f",
           "arrowhead": 0,
           "arrowwidth": 1
          },
          "autotypenumbers": "strict",
          "coloraxis": {
           "colorbar": {
            "outlinewidth": 0,
            "ticks": ""
           }
          },
          "colorscale": {
           "diverging": [
            [
             0,
             "#8e0152"
            ],
            [
             0.1,
             "#c51b7d"
            ],
            [
             0.2,
             "#de77ae"
            ],
            [
             0.3,
             "#f1b6da"
            ],
            [
             0.4,
             "#fde0ef"
            ],
            [
             0.5,
             "#f7f7f7"
            ],
            [
             0.6,
             "#e6f5d0"
            ],
            [
             0.7,
             "#b8e186"
            ],
            [
             0.8,
             "#7fbc41"
            ],
            [
             0.9,
             "#4d9221"
            ],
            [
             1,
             "#276419"
            ]
           ],
           "sequential": [
            [
             0,
             "#0d0887"
            ],
            [
             0.1111111111111111,
             "#46039f"
            ],
            [
             0.2222222222222222,
             "#7201a8"
            ],
            [
             0.3333333333333333,
             "#9c179e"
            ],
            [
             0.4444444444444444,
             "#bd3786"
            ],
            [
             0.5555555555555556,
             "#d8576b"
            ],
            [
             0.6666666666666666,
             "#ed7953"
            ],
            [
             0.7777777777777778,
             "#fb9f3a"
            ],
            [
             0.8888888888888888,
             "#fdca26"
            ],
            [
             1,
             "#f0f921"
            ]
           ],
           "sequentialminus": [
            [
             0,
             "#0d0887"
            ],
            [
             0.1111111111111111,
             "#46039f"
            ],
            [
             0.2222222222222222,
             "#7201a8"
            ],
            [
             0.3333333333333333,
             "#9c179e"
            ],
            [
             0.4444444444444444,
             "#bd3786"
            ],
            [
             0.5555555555555556,
             "#d8576b"
            ],
            [
             0.6666666666666666,
             "#ed7953"
            ],
            [
             0.7777777777777778,
             "#fb9f3a"
            ],
            [
             0.8888888888888888,
             "#fdca26"
            ],
            [
             1,
             "#f0f921"
            ]
           ]
          },
          "colorway": [
           "#636efa",
           "#EF553B",
           "#00cc96",
           "#ab63fa",
           "#FFA15A",
           "#19d3f3",
           "#FF6692",
           "#B6E880",
           "#FF97FF",
           "#FECB52"
          ],
          "font": {
           "color": "#2a3f5f"
          },
          "geo": {
           "bgcolor": "white",
           "lakecolor": "white",
           "landcolor": "#E5ECF6",
           "showlakes": true,
           "showland": true,
           "subunitcolor": "white"
          },
          "hoverlabel": {
           "align": "left"
          },
          "hovermode": "closest",
          "mapbox": {
           "style": "light"
          },
          "paper_bgcolor": "white",
          "plot_bgcolor": "#E5ECF6",
          "polar": {
           "angularaxis": {
            "gridcolor": "white",
            "linecolor": "white",
            "ticks": ""
           },
           "bgcolor": "#E5ECF6",
           "radialaxis": {
            "gridcolor": "white",
            "linecolor": "white",
            "ticks": ""
           }
          },
          "scene": {
           "xaxis": {
            "backgroundcolor": "#E5ECF6",
            "gridcolor": "white",
            "gridwidth": 2,
            "linecolor": "white",
            "showbackground": true,
            "ticks": "",
            "zerolinecolor": "white"
           },
           "yaxis": {
            "backgroundcolor": "#E5ECF6",
            "gridcolor": "white",
            "gridwidth": 2,
            "linecolor": "white",
            "showbackground": true,
            "ticks": "",
            "zerolinecolor": "white"
           },
           "zaxis": {
            "backgroundcolor": "#E5ECF6",
            "gridcolor": "white",
            "gridwidth": 2,
            "linecolor": "white",
            "showbackground": true,
            "ticks": "",
            "zerolinecolor": "white"
           }
          },
          "shapedefaults": {
           "line": {
            "color": "#2a3f5f"
           }
          },
          "ternary": {
           "aaxis": {
            "gridcolor": "white",
            "linecolor": "white",
            "ticks": ""
           },
           "baxis": {
            "gridcolor": "white",
            "linecolor": "white",
            "ticks": ""
           },
           "bgcolor": "#E5ECF6",
           "caxis": {
            "gridcolor": "white",
            "linecolor": "white",
            "ticks": ""
           }
          },
          "title": {
           "x": 0.05
          },
          "xaxis": {
           "automargin": true,
           "gridcolor": "white",
           "linecolor": "white",
           "ticks": "",
           "title": {
            "standoff": 15
           },
           "zerolinecolor": "white",
           "zerolinewidth": 2
          },
          "yaxis": {
           "automargin": true,
           "gridcolor": "white",
           "linecolor": "white",
           "ticks": "",
           "title": {
            "standoff": 15
           },
           "zerolinecolor": "white",
           "zerolinewidth": 2
          }
         }
        },
        "title": {
         "text": "Trajectory Network Plot"
        },
        "xaxis": {
         "title": {
          "text": "X axis"
         }
        },
        "yaxis": {
         "title": {
          "text": "Y axis"
         }
        }
       }
      }
     },
     "metadata": {},
     "output_type": "display_data"
    }
   ],
   "source": [
    "import plotly.graph_objs as go\n",
    "import networkx as nx\n",
    "import numpy as np\n",
    "import ipywidgets as widgets\n",
    "from IPython.display import display, clear_output\n",
    "from sklearn.manifold import MDS as MDS_sklearn\n",
    "\n",
    "plot_output = widgets.Output()\n",
    "\n",
    "def plot_TN(all_trajectories_list, show_labels=False, hide_nodes=False, plot_3D=False, use_solution_iterations=False, MDS=False):\n",
    "    G = nx.DiGraph()\n",
    "\n",
    "    # Colors for different sets of trajectories\n",
    "    edge_colors = ['blue', 'orange', 'purple', 'green', 'brown', 'cyan', 'magenta']\n",
    "    node_color_shared = 'green'\n",
    "\n",
    "    # Add nodes and edges for each set of trajectories\n",
    "    node_mapping = {}  # To ensure unique solutions map to the same node\n",
    "    start_nodes = set()\n",
    "    end_nodes = set()\n",
    "    overall_best_node = None\n",
    "\n",
    "    def hamming_distance(sol1, sol2):\n",
    "        return sum(el1 != el2 for el1, el2 in zip(sol1, sol2))\n",
    "\n",
    "    def add_trajectories_to_graph(all_run_trajectories, edge_color):\n",
    "        for run_idx, (unique_solutions, unique_fitnesses, solution_iterations, transitions) in enumerate(all_run_trajectories):\n",
    "            for i, solution in enumerate(unique_solutions):\n",
    "                solution_tuple = tuple(solution)\n",
    "                if solution_tuple not in node_mapping:\n",
    "                    node_label = f\"Solution {len(node_mapping) + 1}\"\n",
    "                    node_mapping[solution_tuple] = node_label\n",
    "                    G.add_node(node_label, solution=solution, fitness=unique_fitnesses[i], iterations=solution_iterations[i], run_idx=run_idx, step=i)\n",
    "                else:\n",
    "                    node_label = node_mapping[solution_tuple]\n",
    "\n",
    "                if i == 0:\n",
    "                    start_nodes.add(node_label)\n",
    "                if i == len(unique_solutions) - 1:\n",
    "                    end_nodes.add(node_label)\n",
    "\n",
    "            for prev_solution, current_solution in transitions:\n",
    "                if prev_solution in node_mapping and current_solution in node_mapping:\n",
    "                    G.add_edge(node_mapping[prev_solution], node_mapping[current_solution], color=edge_color)\n",
    "\n",
    "    for idx, all_run_trajectories in enumerate(all_trajectories_list):\n",
    "        edge_color = edge_colors[idx % len(edge_colors)]\n",
    "        add_trajectories_to_graph(all_run_trajectories, edge_color)\n",
    "\n",
    "    overall_best_fitness = max(\n",
    "        max(best_fitnesses) for all_run_trajectories in all_trajectories_list for _, best_fitnesses, _, _ in all_run_trajectories\n",
    "    )\n",
    "    for node, data in G.nodes(data=True):\n",
    "        if data['fitness'] == overall_best_fitness:\n",
    "            overall_best_node = node\n",
    "            break\n",
    "\n",
    "    node_colors = []\n",
    "    for node in G.nodes():\n",
    "        if node == overall_best_node:\n",
    "            node_colors.append('red')\n",
    "        elif node in start_nodes:\n",
    "            node_colors.append('yellow')\n",
    "        elif node in end_nodes:\n",
    "            node_colors.append('grey')\n",
    "        else:\n",
    "            solution_tuple = next(key for key, value in node_mapping.items() if value == node)\n",
    "            count_in_sets = 0\n",
    "            for all_run_trajectories in all_trajectories_list:\n",
    "                for unique_solutions, _, _, _ in all_run_trajectories:\n",
    "                    if solution_tuple in set(tuple(sol) for sol in unique_solutions):\n",
    "                        count_in_sets += 1\n",
    "            node_colors.append(node_color_shared if count_in_sets > 1 else 'skyblue')\n",
    "\n",
    "    node_sizes = (\n",
    "        [0 for node in G.nodes()] if hide_nodes\n",
    "        else [50 + G.nodes[node]['iterations'] * 20 for node in G.nodes()] if use_solution_iterations\n",
    "        else [50 + G.in_degree(node) * 50 for node in G.nodes()]\n",
    "    )\n",
    "\n",
    "    if MDS:\n",
    "        solutions = [data['solution'] for _, data in G.nodes(data=True)]\n",
    "        n = len(solutions)\n",
    "        dissimilarity_matrix = np.zeros((n, n))\n",
    "        for i in range(n):\n",
    "            for j in range(n):\n",
    "                dissimilarity_matrix[i][j] = hamming_distance(solutions[i], solutions[j])\n",
    "\n",
    "        mds = MDS_sklearn(n_components=2, dissimilarity='precomputed', random_state=42)\n",
    "        positions_2d = mds.fit_transform(dissimilarity_matrix)\n",
    "        pos = {node: positions_2d[i] for i, node in enumerate(G.nodes())}\n",
    "    else:\n",
    "        pos = nx.kamada_kawai_layout(G, dim=2 if not plot_3D else 3)\n",
    "\n",
    "    if plot_3D:\n",
    "        x_coords = [pos[node][0] for node in G.nodes()]\n",
    "        y_coords = [pos[node][1] for node in G.nodes()]\n",
    "        z_coords = [data['fitness'] for node, data in G.nodes(data=True)]\n",
    "\n",
    "        node_trace = go.Scatter3d(\n",
    "            x=x_coords,\n",
    "            y=y_coords,\n",
    "            z=z_coords,\n",
    "            mode='markers+text' if show_labels else 'markers',\n",
    "            marker=dict(size=node_sizes, color=node_colors, opacity=0.8),\n",
    "            text=[node if show_labels else '' for node in G.nodes()],\n",
    "        )\n",
    "\n",
    "        edge_traces = []\n",
    "        for edge in G.edges():\n",
    "            x = [pos[edge[0]][0], pos[edge[1]][0], None]\n",
    "            y = [pos[edge[0]][1], pos[edge[1]][1], None]\n",
    "            z = [G.nodes[edge[0]]['fitness'], G.nodes[edge[1]]['fitness'], None]\n",
    "            edge_color = G.edges[edge]['color']\n",
    "            edge_trace = go.Scatter3d(\n",
    "                x=x, y=y, z=z,\n",
    "                mode='lines',\n",
    "                line=dict(color=edge_color, width=2),\n",
    "                opacity=0.5\n",
    "            )\n",
    "            edge_traces.append(edge_trace)\n",
    "\n",
    "        fig = go.Figure(data=[node_trace] + edge_traces)\n",
    "        fig.update_layout(\n",
    "            title=\"3D Trajectory Network Plot\",\n",
    "            scene=dict(\n",
    "                xaxis_title='X axis',\n",
    "                yaxis_title='Y axis',\n",
    "                zaxis_title='Fitness'\n",
    "            )\n",
    "        )\n",
    "    else:\n",
    "        x_coords = [pos[node][0] for node in G.nodes()]\n",
    "        y_coords = [pos[node][1] for node in G.nodes()]\n",
    "\n",
    "        node_trace = go.Scatter(\n",
    "            x=x_coords,\n",
    "            y=y_coords,\n",
    "            mode='markers+text' if show_labels else 'markers',\n",
    "            marker=dict(size=node_sizes, color=node_colors, opacity=0.8),\n",
    "            text=[node if show_labels else '' for node in G.nodes()],\n",
    "        )\n",
    "\n",
    "        edge_traces = []\n",
    "        for edge in G.edges():\n",
    "            x = [pos[edge[0]][0], pos[edge[1]][0], None]\n",
    "            y = [pos[edge[0]][1], pos[edge[1]][1], None]\n",
    "            edge_color = G.edges[edge]['color']\n",
    "            edge_trace = go.Scatter(\n",
    "                x=x, y=y,\n",
    "                mode='lines',\n",
    "                line=dict(color=edge_color, width=2),\n",
    "                opacity=0.5\n",
    "            )\n",
    "            edge_traces.append(edge_trace)\n",
    "\n",
    "        fig = go.Figure(data=[node_trace] + edge_traces)\n",
    "        fig.update_layout(\n",
    "            title=\"Trajectory Network Plot\",\n",
    "            xaxis_title=\"X axis\",\n",
    "            yaxis_title=\"Y axis\"\n",
    "        )\n",
    "    \n",
    "    # Display the figure within the output widget\n",
    "    plot_output.clear_output(wait=True)\n",
    "    with plot_output:\n",
    "        fig.show()\n",
    "\n",
    "# Widgets for the dashboard\n",
    "show_labels_toggle = widgets.Checkbox(value=False, description='Show Labels')\n",
    "hide_nodes_toggle = widgets.Checkbox(value=False, description='Hide Nodes')\n",
    "plot_3D_toggle = widgets.Checkbox(value=False, description='3D Plot')\n",
    "use_solution_iterations_toggle = widgets.Checkbox(value=False, description='Node Size by Iterations')\n",
    "MDS_toggle = widgets.Checkbox(value=False, description='Use MDS Layout')\n",
    "\n",
    "def update_dashboard(change=None):\n",
    "    plot_TN(\n",
    "        all_trajectories_list,\n",
    "        show_labels=show_labels_toggle.value,\n",
    "        hide_nodes=hide_nodes_toggle.value,\n",
    "        plot_3D=plot_3D_toggle.value,\n",
    "        use_solution_iterations=use_solution_iterations_toggle.value,\n",
    "        MDS=MDS_toggle.value\n",
    "    )\n",
    "\n",
    "# Attach listeners\n",
    "for toggle in [show_labels_toggle, hide_nodes_toggle, plot_3D_toggle, use_solution_iterations_toggle, MDS_toggle]:\n",
    "    toggle.observe(update_dashboard, names='value')\n",
    "\n",
    "# Display the widgets and output container\n",
    "display(show_labels_toggle, hide_nodes_toggle, plot_3D_toggle, use_solution_iterations_toggle, MDS_toggle)\n",
    "display(plot_output)\n",
    "\n",
    "# Initial plot\n",
    "update_dashboard()\n"
   ]
  },
  {
   "cell_type": "code",
   "execution_count": 12,
   "metadata": {},
   "outputs": [],
   "source": [
    "# n_items = 30\n",
    "# ss = generate_zero_solution(n_items)\n",
    "\n",
    "# all_run_trajectories1 = run_multiple_ea_runs(num_runs=3, NGEN=1000, popsize=10, tournsize=3, MUTPB=1, indpb=0.2, starting_solution=ss)\n",
    "# all_run_trajectories2 = run_multiple_ea_runs(num_runs=3, NGEN=1000, popsize=10, tournsize=3, MUTPB=1, indpb=0.4, starting_solution=ss)\n",
    "# all_run_trajectories3 = run_multiple_ea_runs(num_runs=3, NGEN=1000, popsize=10, tournsize=3, MUTPB=1, indpb=0.8, starting_solution=ss)\n",
    "# all_trajectories_list = [all_run_trajectories1, all_run_trajectories2, all_run_trajectories3]"
   ]
  },
  {
   "cell_type": "code",
   "execution_count": 23,
   "metadata": {},
   "outputs": [
    {
     "ename": "ModuleNotFoundError",
     "evalue": "No module named 'jupyter_dash'",
     "output_type": "error",
     "traceback": [
      "\u001b[1;31m---------------------------------------------------------------------------\u001b[0m",
      "\u001b[1;31mModuleNotFoundError\u001b[0m                       Traceback (most recent call last)",
      "Cell \u001b[1;32mIn[23], line 7\u001b[0m\n\u001b[0;32m      5\u001b[0m \u001b[38;5;28;01mimport\u001b[39;00m \u001b[38;5;21;01mnumpy\u001b[39;00m \u001b[38;5;28;01mas\u001b[39;00m \u001b[38;5;21;01mnp\u001b[39;00m\n\u001b[0;32m      6\u001b[0m \u001b[38;5;28;01mfrom\u001b[39;00m \u001b[38;5;21;01msklearn\u001b[39;00m\u001b[38;5;21;01m.\u001b[39;00m\u001b[38;5;21;01mmanifold\u001b[39;00m \u001b[38;5;28;01mimport\u001b[39;00m MDS \u001b[38;5;28;01mas\u001b[39;00m MDS_sklearn\n\u001b[1;32m----> 7\u001b[0m \u001b[38;5;28;01mfrom\u001b[39;00m \u001b[38;5;21;01mjupyter_dash\u001b[39;00m \u001b[38;5;28;01mimport\u001b[39;00m JupyterDash\n\u001b[0;32m      9\u001b[0m \u001b[38;5;66;03m# Sample data\u001b[39;00m\n\u001b[0;32m     10\u001b[0m all_trajectories_list \u001b[38;5;241m=\u001b[39m []  \u001b[38;5;66;03m# Placeholder for your data\u001b[39;00m\n",
      "\u001b[1;31mModuleNotFoundError\u001b[0m: No module named 'jupyter_dash'"
     ]
    }
   ],
   "source": [
    "import dash\n",
    "from dash import dcc, html, Input, Output\n",
    "import plotly.graph_objs as go\n",
    "import networkx as nx\n",
    "import numpy as np\n",
    "from sklearn.manifold import MDS as MDS_sklearn\n",
    "from jupyter_dash import JupyterDash\n",
    "\n",
    "# Sample data\n",
    "all_trajectories_list = []  # Placeholder for your data\n",
    "\n",
    "# Dash app setup\n",
    "app = JupyterDash(__name__)\n",
    "app.layout = html.Div([\n",
    "    html.H1(\"Trajectory Network Dashboard\"),\n",
    "    dcc.Checklist(\n",
    "        id='options',\n",
    "        options=[\n",
    "            {'label': 'Show Labels', 'value': 'show_labels'},\n",
    "            {'label': 'Hide Nodes', 'value': 'hide_nodes'},\n",
    "            {'label': '3D Plot', 'value': 'plot_3D'},\n",
    "            {'label': 'Use Solution Iterations', 'value': 'use_solution_iterations'},\n",
    "            {'label': 'MDS Layout', 'value': 'MDS'}\n",
    "        ],\n",
    "        value=[]\n",
    "    ),\n",
    "    dcc.Graph(id='trajectory-plot')\n",
    "])\n",
    "\n",
    "\n",
    "@app.callback(\n",
    "    Output('trajectory-plot', 'figure'),\n",
    "    Input('options', 'value')\n",
    ")\n",
    "def update_plot(options):\n",
    "    show_labels = 'show_labels' in options\n",
    "    hide_nodes = 'hide_nodes' in options\n",
    "    plot_3D = 'plot_3D' in options\n",
    "    use_solution_iterations = 'use_solution_iterations' in options\n",
    "    MDS = 'MDS' in options\n",
    "\n",
    "    G = nx.DiGraph()\n",
    "\n",
    "    # Colors for different sets of trajectories\n",
    "    edge_colors = ['blue', 'orange', 'purple', 'green', 'brown', 'cyan', 'magenta']\n",
    "    node_color_shared = 'green'\n",
    "\n",
    "    # Add nodes and edges for each set of trajectories (placeholder logic)\n",
    "    node_mapping = {}  # To ensure unique solutions map to the same node\n",
    "    start_nodes = set()\n",
    "    end_nodes = set()\n",
    "    overall_best_node = None\n",
    "\n",
    "    # Function to calculate Hamming distance\n",
    "    def hamming_distance(sol1, sol2):\n",
    "        return sum(el1 != el2 for el1, el2 in zip(sol1, sol2))\n",
    "\n",
    "    # Placeholder: Add nodes and edges to the graph\n",
    "    # You would replace this with your actual logic to add trajectories\n",
    "\n",
    "    # Prepare node positions\n",
    "    if MDS:\n",
    "        # Use MDS to position nodes based on dissimilarity (Hamming distance)\n",
    "        solutions = [data['solution'] for _, data in G.nodes(data=True)]\n",
    "        n = len(solutions)\n",
    "        dissimilarity_matrix = np.zeros((n, n))\n",
    "        for i in range(n):\n",
    "            for j in range(n):\n",
    "                dissimilarity_matrix[i][j] = hamming_distance(solutions[i], solutions[j])\n",
    "\n",
    "        mds = MDS_sklearn(n_components=2, dissimilarity='precomputed', random_state=42)\n",
    "        positions_2d = mds.fit_transform(dissimilarity_matrix)\n",
    "        pos = {node: positions_2d[i] for i, node in enumerate(G.nodes())}\n",
    "    else:\n",
    "        # Use default spring layout\n",
    "        pos = nx.spring_layout(G, dim=2 if not plot_3D else 3)\n",
    "\n",
    "    # Prepare Plotly traces\n",
    "    edge_trace = []\n",
    "    for edge in G.edges(data=True):\n",
    "        x0, y0 = pos[edge[0]]\n",
    "        x1, y1 = pos[edge[1]]\n",
    "        trace = go.Scatter(\n",
    "            x=[x0, x1, None],\n",
    "            y=[y0, y1, None],\n",
    "            mode='lines',\n",
    "            line=dict(width=2, color=edge[2].get('color', 'black')),\n",
    "            hoverinfo='none'\n",
    "        )\n",
    "        edge_trace.append(trace)\n",
    "\n",
    "    node_trace = go.Scatter(\n",
    "        x=[],\n",
    "        y=[],\n",
    "        text=[],\n",
    "        mode='markers+text' if show_labels else 'markers',\n",
    "        hoverinfo='text',\n",
    "        marker=dict(\n",
    "            showscale=True,\n",
    "            colorscale='YlGnBu',\n",
    "            size=[],\n",
    "            color=[],\n",
    "            line_width=2\n",
    "        )\n",
    "    )\n",
    "\n",
    "    for node in G.nodes(data=True):\n",
    "        x, y = pos[node[0]]\n",
    "        node_trace['x'] += tuple([x])\n",
    "        node_trace['y'] += tuple([y])\n",
    "        node_trace['text'] += tuple([str(node[1].get('fitness', ''))])\n",
    "        node_trace['marker']['color'] += tuple(['skyblue'])  # Placeholder for color logic\n",
    "        node_trace['marker']['size'] += tuple([10])  # Placeholder for size logic\n",
    "\n",
    "    if plot_3D:\n",
    "        # Placeholder for 3D plot logic\n",
    "        fig = go.Figure()\n",
    "        fig.update_layout(title=\"3D Trajectory Network Plot\")\n",
    "    else:\n",
    "        fig = go.Figure(data=edge_trace + [node_trace],\n",
    "                        layout=go.Layout(\n",
    "                            title='Trajectory Network Plot',\n",
    "                            showlegend=False,\n",
    "                            hovermode='closest',\n",
    "                            margin=dict(b=20, l=5, r=5, t=40),\n",
    "                            xaxis=dict(showgrid=False, zeroline=False, showticklabels=False),\n",
    "                            yaxis=dict(showgrid=False, zeroline=False, showticklabels=False)))\n",
    "    return fig\n",
    "\n",
    "\n",
    "if __name__ == '__main__':\n",
    "    app.run_server(mode='inline', debug=True)\n"
   ]
  }
 ],
 "metadata": {
  "kernelspec": {
   "display_name": "EA",
   "language": "python",
   "name": "python3"
  },
  "language_info": {
   "codemirror_mode": {
    "name": "ipython",
    "version": 3
   },
   "file_extension": ".py",
   "mimetype": "text/x-python",
   "name": "python",
   "nbconvert_exporter": "python",
   "pygments_lexer": "ipython3",
   "version": "3.11.10"
  }
 },
 "nbformat": 4,
 "nbformat_minor": 2
}
