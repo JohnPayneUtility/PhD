{
 "cells": [
  {
   "cell_type": "markdown",
   "metadata": {},
   "source": [
    "TEXT"
   ]
  },
  {
   "cell_type": "code",
   "execution_count": 34,
   "metadata": {},
   "outputs": [],
   "source": [
    "# IMPORTS\n",
    "import random\n",
    "import numpy as np\n",
    "import pandas as pd\n",
    "\n",
    "from deap import algorithms\n",
    "from deap import base\n",
    "from deap import creator\n",
    "from deap import tools\n",
    "\n",
    "from pgmpy.models import BayesianNetwork\n",
    "from pgmpy.estimators import MaximumLikelihoodEstimator, HillClimbSearch, BicScore, K2Score\n",
    "from pgmpy.sampling import BayesianModelSampling"
   ]
  },
  {
   "cell_type": "code",
   "execution_count": 7,
   "metadata": {},
   "outputs": [],
   "source": [
    "# Set random seed to ensure reproducibility\n",
    "random.seed(37)"
   ]
  },
  {
   "cell_type": "code",
   "execution_count": 138,
   "metadata": {},
   "outputs": [
    {
     "name": "stdout",
     "output_type": "stream",
     "text": [
      "number of items: 10\n",
      "max weight: 269\n",
      "values: [55 10 47  5  4 50  8 61 85 87]\n",
      "weights: [95  4 60 32 23 72 80 62 65 46]\n"
     ]
    }
   ],
   "source": [
    "file_path = 'instances_01_KP/low-dimensional/f1_l-d_kp_10_269'\n",
    "# file_path = 'instances_01_KP/low-dimensional/f2_l-d_kp_20_878'\n",
    "# file_path = 'instances_01_KP/large_scale/knapPI_1_100_1000_1'\n",
    "\n",
    "data = np.loadtxt(file_path, dtype=int, usecols=(0, 1))\n",
    "col_1 = data[:, 0]\n",
    "col_2 = data[:, 1]\n",
    "\n",
    "n_items = col_1[0]\n",
    "capacity = col_2[0]\n",
    "\n",
    "values = data[1:, 0]\n",
    "weights = data[1:, 1]\n",
    "\n",
    "# print(\"First Column:\", col_1)\n",
    "# print(\"Second Column:\", col_2)\n",
    "print(\"number of items:\", n_items)\n",
    "print(\"max weight:\", capacity)\n",
    "print(\"values:\", values)\n",
    "print(\"weights:\", weights)"
   ]
  },
  {
   "cell_type": "code",
   "execution_count": 9,
   "metadata": {},
   "outputs": [],
   "source": [
    "def knapsack_fitness(solution, values, weights, capacity):\n",
    "    total_weight = np.dot(solution, weights)\n",
    "    total_value = np.dot(solution, values)\n",
    "    if total_weight > capacity:\n",
    "        return 0  # Invalid solution\n",
    "    return total_value"
   ]
  },
  {
   "cell_type": "code",
   "execution_count": 10,
   "metadata": {},
   "outputs": [],
   "source": [
    "def generate_random_solution(length):\n",
    "    return np.random.randint(2, size=length)"
   ]
  },
  {
   "cell_type": "code",
   "execution_count": 11,
   "metadata": {},
   "outputs": [
    {
     "name": "stdout",
     "output_type": "stream",
     "text": [
      "[1 1 0 1 1 1 1 1 1 1]\n",
      "0\n"
     ]
    }
   ],
   "source": [
    "test_sol = generate_random_solution(n_items)\n",
    "test_sol_fitness = knapsack_fitness(test_sol, values, weights, capacity)\n",
    "print(test_sol)\n",
    "print(test_sol_fitness)"
   ]
  },
  {
   "cell_type": "code",
   "execution_count": 143,
   "metadata": {},
   "outputs": [
    {
     "name": "stdout",
     "output_type": "stream",
     "text": [
      "{0: (55, 95), 1: (10, 4), 2: (47, 60), 3: (5, 32), 4: (4, 23), 5: (50, 72), 6: (8, 80), 7: (61, 62), 8: (85, 65), 9: (87, 46)}\n",
      "10\n",
      "32\n"
     ]
    }
   ],
   "source": [
    "# Store problem items in dictionary\n",
    "\n",
    "items = {}\n",
    "for i in range(n_items):\n",
    "    items[i] = (values[i], weights[i])\n",
    "\n",
    "print(items)\n",
    "print(len(items))\n",
    "print(items[3][1])"
   ]
  },
  {
   "cell_type": "code",
   "execution_count": 145,
   "metadata": {},
   "outputs": [],
   "source": [
    "# Initialise fitness\n",
    "creator.create(\"FitnessMax\", base.Fitness, weights=(1.0,))\n",
    "# weights is positive to signify maximisation of fitness, use negative to minimise\n",
    "# weights must be a tuple to allow to single and multi objective problems\n",
    "# to be treated in the same way\n",
    "\n",
    "# Initialise individual\n",
    "creator.create(\"Individual\", list, fitness=creator.FitnessMax)\n",
    "\n",
    "IND_SIZE = len(items) # number of genes in individual\n",
    "\n",
    "def evalIndividual(individual):\n",
    "    weight = 0\n",
    "    value = 0\n",
    "    # print(individual)\n",
    "    for i in range(IND_SIZE):\n",
    "        value += items[i][0] * individual[i]\n",
    "        weight += items[i][1] * individual[i]\n",
    "    if weight > capacity:\n",
    "        return (0,)\n",
    "    # print(value)\n",
    "    return (value,)\n",
    "\n",
    "toolbox = base.Toolbox()\n",
    "toolbox.register(\"attr_int\", random.randint, 0, 1)\n",
    "toolbox.register(\"individual\", tools.initRepeat, creator.Individual, toolbox.attr_int, n=IND_SIZE)\n",
    "toolbox.register(\"population\", tools.initRepeat, list, toolbox.individual)\n",
    "\n",
    "toolbox.register(\"evaluate\", evalIndividual)\n",
    "toolbox.register(\"select\", tools.selBest)\n",
    "\n",
    "def fit_bayesian_network(population):\n",
    "    # convert population to data for model\n",
    "    data = np.array(population)\n",
    "    df = pd.DataFrame(data)\n",
    "\n",
    "    # dummy_edges = [(0, node) for node in range(IND_SIZE) if node != 0]\n",
    "\n",
    "    # learn structure of bayesian network\n",
    "    hc = HillClimbSearch(df)\n",
    "\n",
    "    # determine structure of model\n",
    "    # model_structure = hc.estimate(scoring_method=BicScore(df), fixed_edges=dummy_edges)\n",
    "    model_structure = hc.estimate(scoring_method=K2Score(df))\n",
    "\n",
    "    # missing_nodes = set(range(IND_SIZE)) - set(model_structure.nodes())\n",
    "    # print(set(range(IND_SIZE)))\n",
    "    # print(set(model_structure.nodes()))\n",
    "    # print(f'missing nodes {missing_nodes}')\n",
    "    # print(f'nodes {model_structure.nodes()}')\n",
    "\n",
    "    # print(f\"Data shape: {df.shape}\")\n",
    "    # print(f\"Data columns: {df.columns}\")\n",
    "\n",
    "    # for node in range(IND_SIZE):\n",
    "    #     if node != 0 and node not in model_structure.nodes():  # Prevent self-loops and add only if missing\n",
    "    #         model_structure.add_edge(0, node)\n",
    "\n",
    "    # create model using best structure\n",
    "    model = BayesianNetwork(model_structure.edges())\n",
    "\n",
    "    for node in range(IND_SIZE):\n",
    "        if node != 0 and node not in model.nodes():\n",
    "            model.add_edge(0, node)\n",
    "\n",
    "    # learn parameters and return model\n",
    "    model.fit(df, estimator=MaximumLikelihoodEstimator)\n",
    "\n",
    "    # print(f'nodes {model.nodes()}')\n",
    "    print(f'edges {model.edges()}')\n",
    "    # for cpd in model.get_cpds():\n",
    "        # print(cpd)\n",
    "    return model\n",
    "\n",
    "def sample_population_from_bayesian(bayesian_network, pop_size):\n",
    "    # generate individuals by sampling bayesian netwrok\n",
    "    inference = BayesianModelSampling(bayesian_network)\n",
    "    new_population = inference.forward_sample(size=pop_size)\n",
    "    # print(f'new pop shape {new_population.shape}')\n",
    "    new_population = new_population.values.tolist()\n",
    "    return new_population\n",
    "\n",
    "def BOA(pop_size, n_generations, n_selected):\n",
    "    gen = 0\n",
    "    # initialise population\n",
    "    population = toolbox.population(pop_size)\n",
    "    # print(population)\n",
    "\n",
    "    # loop through each generation\n",
    "    for generation in range(n_generations):\n",
    "        fitnesses = list(map(toolbox.evaluate, population)) # eval pop\n",
    "\n",
    "        for ind, fit in zip(population, fitnesses):\n",
    "            # print(fit)\n",
    "            ind.fitness.values = fit\n",
    "        \n",
    "        # print best in population\n",
    "        top_individual = tools.selBest(population, 1)[0]\n",
    "        print(f\"Generation {gen}: Best Individual = {top_individual}, Fitness = {top_individual.fitness.values}\")\n",
    "        gen += 1\n",
    "\n",
    "        # select best individuals from population\n",
    "        selected_population = toolbox.select(population, n_selected)\n",
    "\n",
    "        # learn bayesian network from selected individuals\n",
    "        network = fit_bayesian_network(selected_population)\n",
    "\n",
    "        # generate new population by sampling bayesian network\n",
    "        new_population = sample_population_from_bayesian(network, len(population))\n",
    "\n",
    "        # replace population\n",
    "        population[:] = [creator.Individual(ind) for ind in new_population]\n"
   ]
  },
  {
   "cell_type": "code",
   "execution_count": 146,
   "metadata": {},
   "outputs": [
    {
     "name": "stdout",
     "output_type": "stream",
     "text": [
      "Generation 0: Best Individual = [0, 0, 1, 0, 1, 0, 0, 1, 1, 1], Fitness = (284.0,)\n"
     ]
    },
    {
     "name": "stderr",
     "output_type": "stream",
     "text": [
      "  0%|          | 14/1000000 [00:00<10:51:10, 25.59it/s]\n"
     ]
    },
    {
     "name": "stdout",
     "output_type": "stream",
     "text": [
      "edges [(0, 5), (0, 2), (3, 2), (3, 4), (3, 5), (4, 0), (6, 1), (6, 7), (7, 0), (7, 5), (8, 3), (8, 1), (8, 2), (9, 8)]\n"
     ]
    },
    {
     "name": "stderr",
     "output_type": "stream",
     "text": [
      "Generating for node: 2: 100%|██████████| 10/10 [00:00<00:00, 434.79it/s]\n"
     ]
    },
    {
     "name": "stdout",
     "output_type": "stream",
     "text": [
      "Generation 1: Best Individual = [0, 0, 1, 1, 0, 0, 0, 1, 1, 1], Fitness = (285.0,)\n"
     ]
    },
    {
     "name": "stderr",
     "output_type": "stream",
     "text": [
      "  0%|          | 13/1000000 [00:00<10:35:53, 26.21it/s]\n"
     ]
    },
    {
     "name": "stdout",
     "output_type": "stream",
     "text": [
      "edges [(0, 2), (0, 1), (2, 7), (7, 8), (7, 1), (3, 1), (4, 7), (5, 6), (5, 7), (6, 2), (6, 8), (8, 3), (9, 8)]\n"
     ]
    },
    {
     "name": "stderr",
     "output_type": "stream",
     "text": [
      "Generating for node: 1: 100%|██████████| 10/10 [00:00<00:00, 454.53it/s]\n"
     ]
    },
    {
     "name": "stdout",
     "output_type": "stream",
     "text": [
      "Generation 2: Best Individual = [0, 0, 1, 0, 0, 1, 0, 0, 1, 1], Fitness = (269.0,)\n"
     ]
    },
    {
     "name": "stderr",
     "output_type": "stream",
     "text": [
      "  0%|          | 9/1000000 [00:00<12:15:10, 22.67it/s]\n"
     ]
    },
    {
     "name": "stdout",
     "output_type": "stream",
     "text": [
      "edges [(0, 1), (0, 5), (0, 2), (0, 6), (0, 7), (0, 9), (1, 5), (2, 4), (2, 5), (4, 8), (3, 1), (8, 3)]\n"
     ]
    },
    {
     "name": "stderr",
     "output_type": "stream",
     "text": [
      "Generating for node: 5: 100%|██████████| 10/10 [00:00<00:00, 416.70it/s]\n"
     ]
    },
    {
     "name": "stdout",
     "output_type": "stream",
     "text": [
      "Generation 3: Best Individual = [0, 1, 1, 0, 1, 1, 0, 0, 0, 1], Fitness = (198.0,)\n"
     ]
    },
    {
     "name": "stderr",
     "output_type": "stream",
     "text": [
      "  0%|          | 0/1000000 [00:00<?, ?it/s]\n"
     ]
    },
    {
     "name": "stdout",
     "output_type": "stream",
     "text": [
      "edges [(0, 1), (0, 2), (0, 3), (0, 4), (0, 5), (0, 6), (0, 7), (0, 8), (0, 9)]\n"
     ]
    },
    {
     "name": "stderr",
     "output_type": "stream",
     "text": [
      "Generating for node: 9: 100%|██████████| 10/10 [00:00<00:00, 454.53it/s]\n"
     ]
    },
    {
     "name": "stdout",
     "output_type": "stream",
     "text": [
      "Generation 4: Best Individual = [0, 1, 1, 0, 1, 1, 0, 0, 0, 1], Fitness = (198.0,)\n"
     ]
    },
    {
     "name": "stderr",
     "output_type": "stream",
     "text": [
      "  0%|          | 0/1000000 [00:00<?, ?it/s]\n"
     ]
    },
    {
     "name": "stdout",
     "output_type": "stream",
     "text": [
      "edges [(0, 1), (0, 2), (0, 3), (0, 4), (0, 5), (0, 6), (0, 7), (0, 8), (0, 9)]\n"
     ]
    },
    {
     "name": "stderr",
     "output_type": "stream",
     "text": [
      "Generating for node: 9: 100%|██████████| 10/10 [00:00<00:00, 454.67it/s]\n"
     ]
    },
    {
     "name": "stdout",
     "output_type": "stream",
     "text": [
      "Generation 5: Best Individual = [0, 1, 1, 0, 1, 1, 0, 0, 0, 1], Fitness = (198.0,)\n"
     ]
    },
    {
     "name": "stderr",
     "output_type": "stream",
     "text": [
      "  0%|          | 0/1000000 [00:00<?, ?it/s]\n"
     ]
    },
    {
     "name": "stdout",
     "output_type": "stream",
     "text": [
      "edges [(0, 1), (0, 2), (0, 3), (0, 4), (0, 5), (0, 6), (0, 7), (0, 8), (0, 9)]\n"
     ]
    },
    {
     "name": "stderr",
     "output_type": "stream",
     "text": [
      "Generating for node: 9: 100%|██████████| 10/10 [00:00<00:00, 499.99it/s]\n"
     ]
    },
    {
     "name": "stdout",
     "output_type": "stream",
     "text": [
      "Generation 6: Best Individual = [0, 1, 1, 0, 1, 1, 0, 0, 0, 1], Fitness = (198.0,)\n"
     ]
    },
    {
     "name": "stderr",
     "output_type": "stream",
     "text": [
      "  0%|          | 0/1000000 [00:00<?, ?it/s]\n"
     ]
    },
    {
     "name": "stdout",
     "output_type": "stream",
     "text": [
      "edges [(0, 1), (0, 2), (0, 3), (0, 4), (0, 5), (0, 6), (0, 7), (0, 8), (0, 9)]\n"
     ]
    },
    {
     "name": "stderr",
     "output_type": "stream",
     "text": [
      "Generating for node: 9: 100%|██████████| 10/10 [00:00<00:00, 526.20it/s]\n"
     ]
    },
    {
     "name": "stdout",
     "output_type": "stream",
     "text": [
      "Generation 7: Best Individual = [0, 1, 1, 0, 1, 1, 0, 0, 0, 1], Fitness = (198.0,)\n"
     ]
    },
    {
     "name": "stderr",
     "output_type": "stream",
     "text": [
      "  0%|          | 0/1000000 [00:00<?, ?it/s]\n"
     ]
    },
    {
     "name": "stdout",
     "output_type": "stream",
     "text": [
      "edges [(0, 1), (0, 2), (0, 3), (0, 4), (0, 5), (0, 6), (0, 7), (0, 8), (0, 9)]\n"
     ]
    },
    {
     "name": "stderr",
     "output_type": "stream",
     "text": [
      "Generating for node: 9: 100%|██████████| 10/10 [00:00<00:00, 333.32it/s]\n"
     ]
    },
    {
     "name": "stdout",
     "output_type": "stream",
     "text": [
      "Generation 8: Best Individual = [0, 1, 1, 0, 1, 1, 0, 0, 0, 1], Fitness = (198.0,)\n"
     ]
    },
    {
     "name": "stderr",
     "output_type": "stream",
     "text": [
      "  0%|          | 0/1000000 [00:00<?, ?it/s]\n"
     ]
    },
    {
     "name": "stdout",
     "output_type": "stream",
     "text": [
      "edges [(0, 1), (0, 2), (0, 3), (0, 4), (0, 5), (0, 6), (0, 7), (0, 8), (0, 9)]\n"
     ]
    },
    {
     "name": "stderr",
     "output_type": "stream",
     "text": [
      "Generating for node: 9: 100%|██████████| 10/10 [00:00<00:00, 500.08it/s]\n"
     ]
    },
    {
     "name": "stdout",
     "output_type": "stream",
     "text": [
      "Generation 9: Best Individual = [0, 1, 1, 0, 1, 1, 0, 0, 0, 1], Fitness = (198.0,)\n"
     ]
    },
    {
     "name": "stderr",
     "output_type": "stream",
     "text": [
      "  0%|          | 0/1000000 [00:00<?, ?it/s]\n"
     ]
    },
    {
     "name": "stdout",
     "output_type": "stream",
     "text": [
      "edges [(0, 1), (0, 2), (0, 3), (0, 4), (0, 5), (0, 6), (0, 7), (0, 8), (0, 9)]\n"
     ]
    },
    {
     "name": "stderr",
     "output_type": "stream",
     "text": [
      "Generating for node: 9: 100%|██████████| 10/10 [00:00<00:00, 434.76it/s]\n"
     ]
    },
    {
     "name": "stdout",
     "output_type": "stream",
     "text": [
      "Generation 10: Best Individual = [0, 1, 1, 0, 1, 1, 0, 0, 0, 1], Fitness = (198.0,)\n"
     ]
    },
    {
     "name": "stderr",
     "output_type": "stream",
     "text": [
      "  0%|          | 0/1000000 [00:00<?, ?it/s]\n"
     ]
    },
    {
     "name": "stdout",
     "output_type": "stream",
     "text": [
      "edges [(0, 1), (0, 2), (0, 3), (0, 4), (0, 5), (0, 6), (0, 7), (0, 8), (0, 9)]\n"
     ]
    },
    {
     "name": "stderr",
     "output_type": "stream",
     "text": [
      "Generating for node: 9: 100%|██████████| 10/10 [00:00<00:00, 434.84it/s]\n"
     ]
    },
    {
     "name": "stdout",
     "output_type": "stream",
     "text": [
      "Generation 11: Best Individual = [0, 1, 1, 0, 1, 1, 0, 0, 0, 1], Fitness = (198.0,)\n"
     ]
    },
    {
     "name": "stderr",
     "output_type": "stream",
     "text": [
      "  0%|          | 0/1000000 [00:00<?, ?it/s]\n"
     ]
    },
    {
     "name": "stdout",
     "output_type": "stream",
     "text": [
      "edges [(0, 1), (0, 2), (0, 3), (0, 4), (0, 5), (0, 6), (0, 7), (0, 8), (0, 9)]\n"
     ]
    },
    {
     "name": "stderr",
     "output_type": "stream",
     "text": [
      "Generating for node: 9: 100%|██████████| 10/10 [00:00<00:00, 399.99it/s]\n"
     ]
    },
    {
     "name": "stdout",
     "output_type": "stream",
     "text": [
      "Generation 12: Best Individual = [0, 1, 1, 0, 1, 1, 0, 0, 0, 1], Fitness = (198.0,)\n"
     ]
    },
    {
     "name": "stderr",
     "output_type": "stream",
     "text": [
      "  0%|          | 0/1000000 [00:00<?, ?it/s]\n"
     ]
    },
    {
     "name": "stdout",
     "output_type": "stream",
     "text": [
      "edges [(0, 1), (0, 2), (0, 3), (0, 4), (0, 5), (0, 6), (0, 7), (0, 8), (0, 9)]\n"
     ]
    },
    {
     "name": "stderr",
     "output_type": "stream",
     "text": [
      "Generating for node: 9: 100%|██████████| 10/10 [00:00<00:00, 476.18it/s]\n"
     ]
    },
    {
     "name": "stdout",
     "output_type": "stream",
     "text": [
      "Generation 13: Best Individual = [0, 1, 1, 0, 1, 1, 0, 0, 0, 1], Fitness = (198.0,)\n"
     ]
    },
    {
     "name": "stderr",
     "output_type": "stream",
     "text": [
      "  0%|          | 0/1000000 [00:00<?, ?it/s]\n"
     ]
    },
    {
     "name": "stdout",
     "output_type": "stream",
     "text": [
      "edges [(0, 1), (0, 2), (0, 3), (0, 4), (0, 5), (0, 6), (0, 7), (0, 8), (0, 9)]\n"
     ]
    },
    {
     "name": "stderr",
     "output_type": "stream",
     "text": [
      "Generating for node: 9: 100%|██████████| 10/10 [00:00<00:00, 526.34it/s]\n"
     ]
    },
    {
     "name": "stdout",
     "output_type": "stream",
     "text": [
      "Generation 14: Best Individual = [0, 1, 1, 0, 1, 1, 0, 0, 0, 1], Fitness = (198.0,)\n"
     ]
    },
    {
     "name": "stderr",
     "output_type": "stream",
     "text": [
      "  0%|          | 0/1000000 [00:00<?, ?it/s]\n"
     ]
    },
    {
     "name": "stdout",
     "output_type": "stream",
     "text": [
      "edges [(0, 1), (0, 2), (0, 3), (0, 4), (0, 5), (0, 6), (0, 7), (0, 8), (0, 9)]\n"
     ]
    },
    {
     "name": "stderr",
     "output_type": "stream",
     "text": [
      "Generating for node: 9: 100%|██████████| 10/10 [00:00<00:00, 500.05it/s]\n"
     ]
    },
    {
     "name": "stdout",
     "output_type": "stream",
     "text": [
      "Generation 15: Best Individual = [0, 1, 1, 0, 1, 1, 0, 0, 0, 1], Fitness = (198.0,)\n"
     ]
    },
    {
     "name": "stderr",
     "output_type": "stream",
     "text": [
      "  0%|          | 0/1000000 [00:00<?, ?it/s]\n"
     ]
    },
    {
     "name": "stdout",
     "output_type": "stream",
     "text": [
      "edges [(0, 1), (0, 2), (0, 3), (0, 4), (0, 5), (0, 6), (0, 7), (0, 8), (0, 9)]\n"
     ]
    },
    {
     "name": "stderr",
     "output_type": "stream",
     "text": [
      "Generating for node: 9: 100%|██████████| 10/10 [00:00<00:00, 476.13it/s]\n"
     ]
    },
    {
     "name": "stdout",
     "output_type": "stream",
     "text": [
      "Generation 16: Best Individual = [0, 1, 1, 0, 1, 1, 0, 0, 0, 1], Fitness = (198.0,)\n"
     ]
    },
    {
     "name": "stderr",
     "output_type": "stream",
     "text": [
      "  0%|          | 0/1000000 [00:00<?, ?it/s]\n"
     ]
    },
    {
     "name": "stdout",
     "output_type": "stream",
     "text": [
      "edges [(0, 1), (0, 2), (0, 3), (0, 4), (0, 5), (0, 6), (0, 7), (0, 8), (0, 9)]\n"
     ]
    },
    {
     "name": "stderr",
     "output_type": "stream",
     "text": [
      "Generating for node: 9: 100%|██████████| 10/10 [00:00<00:00, 303.03it/s]\n"
     ]
    },
    {
     "name": "stdout",
     "output_type": "stream",
     "text": [
      "Generation 17: Best Individual = [0, 1, 1, 0, 1, 1, 0, 0, 0, 1], Fitness = (198.0,)\n"
     ]
    },
    {
     "name": "stderr",
     "output_type": "stream",
     "text": [
      "  0%|          | 0/1000000 [00:00<?, ?it/s]\n"
     ]
    },
    {
     "name": "stdout",
     "output_type": "stream",
     "text": [
      "edges [(0, 1), (0, 2), (0, 3), (0, 4), (0, 5), (0, 6), (0, 7), (0, 8), (0, 9)]\n"
     ]
    },
    {
     "name": "stderr",
     "output_type": "stream",
     "text": [
      "Generating for node: 9: 100%|██████████| 10/10 [00:00<00:00, 454.51it/s]\n"
     ]
    },
    {
     "name": "stdout",
     "output_type": "stream",
     "text": [
      "Generation 18: Best Individual = [0, 1, 1, 0, 1, 1, 0, 0, 0, 1], Fitness = (198.0,)\n"
     ]
    },
    {
     "name": "stderr",
     "output_type": "stream",
     "text": [
      "  0%|          | 0/1000000 [00:00<?, ?it/s]\n"
     ]
    },
    {
     "name": "stdout",
     "output_type": "stream",
     "text": [
      "edges [(0, 1), (0, 2), (0, 3), (0, 4), (0, 5), (0, 6), (0, 7), (0, 8), (0, 9)]\n"
     ]
    },
    {
     "name": "stderr",
     "output_type": "stream",
     "text": [
      "Generating for node: 9: 100%|██████████| 10/10 [00:00<00:00, 476.24it/s]\n"
     ]
    },
    {
     "name": "stdout",
     "output_type": "stream",
     "text": [
      "Generation 19: Best Individual = [0, 1, 1, 0, 1, 1, 0, 0, 0, 1], Fitness = (198.0,)\n"
     ]
    },
    {
     "name": "stderr",
     "output_type": "stream",
     "text": [
      "  0%|          | 0/1000000 [00:00<?, ?it/s]\n"
     ]
    },
    {
     "name": "stdout",
     "output_type": "stream",
     "text": [
      "edges [(0, 1), (0, 2), (0, 3), (0, 4), (0, 5), (0, 6), (0, 7), (0, 8), (0, 9)]\n"
     ]
    },
    {
     "name": "stderr",
     "output_type": "stream",
     "text": [
      "Generating for node: 9: 100%|██████████| 10/10 [00:00<00:00, 526.41it/s]\n"
     ]
    }
   ],
   "source": [
    "BOA(100, 20, 30)"
   ]
  }
 ],
 "metadata": {
  "kernelspec": {
   "display_name": "EA",
   "language": "python",
   "name": "python3"
  },
  "language_info": {
   "codemirror_mode": {
    "name": "ipython",
    "version": 3
   },
   "file_extension": ".py",
   "mimetype": "text/x-python",
   "name": "python",
   "nbconvert_exporter": "python",
   "pygments_lexer": "ipython3",
   "version": "3.11.10"
  }
 },
 "nbformat": 4,
 "nbformat_minor": 2
}
