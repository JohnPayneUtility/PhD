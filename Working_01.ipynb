{
 "cells": [
  {
   "cell_type": "markdown",
   "metadata": {},
   "source": [
    "TEXT"
   ]
  },
  {
   "cell_type": "code",
   "execution_count": 3,
   "metadata": {},
   "outputs": [],
   "source": [
    "# IMPORTS\n",
    "import numpy as np"
   ]
  },
  {
   "cell_type": "code",
   "execution_count": 8,
   "metadata": {},
   "outputs": [
    {
     "name": "stdout",
     "output_type": "stream",
     "text": [
      "number of items: 10\n",
      "max weight: 269\n",
      "values: [55 10 47  5  4 50  8 61 85 87]\n",
      "weights: [95  4 60 32 23 72 80 62 65 46]\n"
     ]
    }
   ],
   "source": [
    "file_path = 'instances_01_KP/low-dimensional/f1_l-d_kp_10_269'\n",
    "data = np.loadtxt(file_path, dtype=int)\n",
    "col_1 = data[:, 0]\n",
    "col_2 = data[:, 1]\n",
    "\n",
    "n_items = col_1[0]\n",
    "capacity = col_2[0]\n",
    "\n",
    "values = data[1:, 0]\n",
    "weights = data[1:, 1]\n",
    "\n",
    "# print(\"First Column:\", col_1)\n",
    "# print(\"Second Column:\", col_2)\n",
    "print(\"number of items:\", n_items)\n",
    "print(\"max weight:\", capacity)\n",
    "print(\"values:\", values)\n",
    "print(\"weights:\", weights)"
   ]
  },
  {
   "cell_type": "code",
   "execution_count": 9,
   "metadata": {},
   "outputs": [],
   "source": [
    "def knapsack_fitness(solution, values, weights, capacity):\n",
    "    total_weight = np.dot(solution, weights)\n",
    "    total_value = np.dot(solution, values)\n",
    "    if total_weight > capacity:\n",
    "        return 0  # Invalid solution\n",
    "    return total_value"
   ]
  },
  {
   "cell_type": "code",
   "execution_count": 10,
   "metadata": {},
   "outputs": [],
   "source": [
    "def generate_random_solution(length):\n",
    "    return np.random.randint(2, size=length)"
   ]
  },
  {
   "cell_type": "code",
   "execution_count": 30,
   "metadata": {},
   "outputs": [
    {
     "name": "stdout",
     "output_type": "stream",
     "text": [
      "[0 0 0 1 1 1 1 0 0 1]\n",
      "154\n"
     ]
    }
   ],
   "source": [
    "test_sol = generate_random_solution(n_items)\n",
    "test_sol_fitness = knapsack_fitness(test_sol, values, weights, capacity)\n",
    "print(test_sol)\n",
    "print(test_sol_fitness)"
   ]
  },
  {
   "cell_type": "code",
   "execution_count": null,
   "metadata": {},
   "outputs": [],
   "source": []
  }
 ],
 "metadata": {
  "kernelspec": {
   "display_name": "base",
   "language": "python",
   "name": "python3"
  },
  "language_info": {
   "codemirror_mode": {
    "name": "ipython",
    "version": 3
   },
   "file_extension": ".py",
   "mimetype": "text/x-python",
   "name": "python",
   "nbconvert_exporter": "python",
   "pygments_lexer": "ipython3",
   "version": "3.11.5"
  }
 },
 "nbformat": 4,
 "nbformat_minor": 2
}
