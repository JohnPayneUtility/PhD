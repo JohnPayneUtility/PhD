{
 "cells": [
  {
   "cell_type": "markdown",
   "metadata": {},
   "source": [
    "TEXT"
   ]
  },
  {
   "cell_type": "code",
   "execution_count": 91,
   "metadata": {},
   "outputs": [],
   "source": [
    "# IMPORTS\n",
    "import random\n",
    "import numpy as np\n",
    "import pandas as pd\n",
    "\n",
    "from deap import algorithms\n",
    "from deap import base\n",
    "from deap import creator\n",
    "from deap import tools\n",
    "\n",
    "from pgmpy.models import BayesianNetwork\n",
    "from pgmpy.estimators import MaximumLikelihoodEstimator, HillClimbSearch, BicScore\n",
    "from pgmpy.sampling import BayesianModelSampling"
   ]
  },
  {
   "cell_type": "code",
   "execution_count": 8,
   "metadata": {},
   "outputs": [],
   "source": [
    "# Set random seed to ensure reproducibility\n",
    "random.seed(37)"
   ]
  },
  {
   "cell_type": "code",
   "execution_count": 3,
   "metadata": {},
   "outputs": [
    {
     "name": "stdout",
     "output_type": "stream",
     "text": [
      "number of items: 10\n",
      "max weight: 269\n",
      "values: [55 10 47  5  4 50  8 61 85 87]\n",
      "weights: [95  4 60 32 23 72 80 62 65 46]\n"
     ]
    }
   ],
   "source": [
    "file_path = 'instances_01_KP/low-dimensional/f1_l-d_kp_10_269'\n",
    "data = np.loadtxt(file_path, dtype=int)\n",
    "col_1 = data[:, 0]\n",
    "col_2 = data[:, 1]\n",
    "\n",
    "n_items = col_1[0]\n",
    "capacity = col_2[0]\n",
    "\n",
    "values = data[1:, 0]\n",
    "weights = data[1:, 1]\n",
    "\n",
    "# print(\"First Column:\", col_1)\n",
    "# print(\"Second Column:\", col_2)\n",
    "print(\"number of items:\", n_items)\n",
    "print(\"max weight:\", capacity)\n",
    "print(\"values:\", values)\n",
    "print(\"weights:\", weights)"
   ]
  },
  {
   "cell_type": "code",
   "execution_count": 4,
   "metadata": {},
   "outputs": [],
   "source": [
    "def knapsack_fitness(solution, values, weights, capacity):\n",
    "    total_weight = np.dot(solution, weights)\n",
    "    total_value = np.dot(solution, values)\n",
    "    if total_weight > capacity:\n",
    "        return 0  # Invalid solution\n",
    "    return total_value"
   ]
  },
  {
   "cell_type": "code",
   "execution_count": 5,
   "metadata": {},
   "outputs": [],
   "source": [
    "def generate_random_solution(length):\n",
    "    return np.random.randint(2, size=length)"
   ]
  },
  {
   "cell_type": "code",
   "execution_count": 6,
   "metadata": {},
   "outputs": [
    {
     "name": "stdout",
     "output_type": "stream",
     "text": [
      "[0 1 0 0 1 1 0 0 1 0]\n",
      "149\n"
     ]
    }
   ],
   "source": [
    "test_sol = generate_random_solution(n_items)\n",
    "test_sol_fitness = knapsack_fitness(test_sol, values, weights, capacity)\n",
    "print(test_sol)\n",
    "print(test_sol_fitness)"
   ]
  },
  {
   "cell_type": "code",
   "execution_count": 66,
   "metadata": {},
   "outputs": [
    {
     "name": "stdout",
     "output_type": "stream",
     "text": [
      "{0: (55, 95), 1: (10, 4), 2: (47, 60), 3: (5, 32), 4: (4, 23), 5: (50, 72), 6: (8, 80), 7: (61, 62), 8: (85, 65), 9: (87, 46)}\n",
      "10\n",
      "32\n"
     ]
    }
   ],
   "source": [
    "# Store problem items in dictionary\n",
    "\n",
    "items = {}\n",
    "for i in range(n_items):\n",
    "    items[i] = (values[i], weights[i])\n",
    "\n",
    "print(items)\n",
    "print(len(items))\n",
    "print(items[3][1])"
   ]
  },
  {
   "cell_type": "code",
   "execution_count": 98,
   "metadata": {},
   "outputs": [],
   "source": [
    "# Initialise fitness\n",
    "creator.create(\"FitnessMax\", base.Fitness, weights=(1.0,))\n",
    "# weights is positive to signify maximisation of fitness, use negative to minimise\n",
    "# weights must be a tuple to allow to single and multi objective problems\n",
    "# to be treated in the same way\n",
    "\n",
    "# Initialise individual\n",
    "creator.create(\"Individual\", list, fitness=creator.FitnessMax)\n",
    "\n",
    "IND_SIZE = len(items) # number of genes in individual\n",
    "\n",
    "def evalIndividual(individual):\n",
    "    weight = 0\n",
    "    value = 0\n",
    "    # print(individual)\n",
    "    for i in range(IND_SIZE):\n",
    "        value += items[i][0] * individual[i]\n",
    "        weight += items[i][1] * individual[i]\n",
    "    if weight > capacity:\n",
    "        return (0,)\n",
    "    print(value)\n",
    "    return (value,)\n",
    "\n",
    "toolbox = base.Toolbox()\n",
    "toolbox.register(\"attr_int\", random.randint, 0, 1)\n",
    "toolbox.register(\"individual\", tools.initRepeat, creator.Individual, toolbox.attr_int, n=IND_SIZE)\n",
    "toolbox.register(\"population\", tools.initRepeat, list, toolbox.individual)\n",
    "\n",
    "toolbox.register(\"evaluate\", evalIndividual)\n",
    "toolbox.register(\"select\", tools.selBest)\n",
    "\n",
    "def fit_bayesian_network(population):\n",
    "    # convert population to data for model\n",
    "    data = np.array(population)\n",
    "\n",
    "    # learn structure of bayesian network\n",
    "    hc = HillClimbSearch(pd.DataFrame(data))\n",
    "\n",
    "    # determine structure of model\n",
    "    model_structure = hc.estimate(scoring_method=BicScore(pd.DataFrame(data)))\n",
    "\n",
    "    print(f\"Data shape: {pd.DataFrame(data).shape}\")\n",
    "    print(f\"Data columns: {pd.DataFrame(data).columns}\")\n",
    "\n",
    "    missing_nodes = set(range(10)) - set(model_structure.nodes())\n",
    "    for node in missing_nodes:\n",
    "        model_structure.add_node(node)\n",
    "\n",
    "    # determine structure of model\n",
    "    # model_structure = hc.estimate(scoring_method=BicScore(pd.DataFrame(data)))\n",
    "\n",
    "    # create model using best structure\n",
    "    model = BayesianNetwork(model_structure.edges())\n",
    "\n",
    "    # learn parameters and return model\n",
    "    model.fit(pd.DataFrame(data), estimator=MaximumLikelihoodEstimator)\n",
    "    print(model.nodes())  # Should list all 10 variables (nodes)\n",
    "    print(model.edges())  # Should show the relationships between the variables\n",
    "    return model\n",
    "\n",
    "def sample_population_from_bayesian(bayesian_network, pop_size):\n",
    "    # generate individuals by sampling bayesian netwrok\n",
    "    inference = BayesianModelSampling(bayesian_network)\n",
    "    new_population = inference.forward_sample(size=pop_size).values.tolist()\n",
    "    return new_population\n",
    "\n",
    "def BOA(pop_size, n_generations, n_selected):\n",
    "    gen = 0\n",
    "    # initialise population\n",
    "    population = toolbox.population(pop_size)\n",
    "    print(population)\n",
    "\n",
    "    # loop through each generation\n",
    "    for generation in range(n_generations):\n",
    "        fitnesses = list(map(toolbox.evaluate, population)) # eval pop\n",
    "\n",
    "        for ind, fit in zip(population, fitnesses):\n",
    "            print(fit)\n",
    "            ind.fitness.values = fit\n",
    "        \n",
    "        # print best in population\n",
    "        top_individual = tools.selBest(population, 1)[0]\n",
    "        print(f\"Generation {gen}: Best Individual = {top_individual}, Fitness = {top_individual.fitness.values}\")\n",
    "        gen += 1\n",
    "\n",
    "        # select best individuals from population\n",
    "        selected_population = toolbox.select(population, n_selected)\n",
    "\n",
    "        # learn bayesian network from selected individuals\n",
    "        network = fit_bayesian_network(selected_population)\n",
    "\n",
    "        # generate new population by sampling bayesian network\n",
    "        new_population = sample_population_from_bayesian(network, len(population))\n",
    "\n",
    "        # replace population\n",
    "        population[:] = [creator.Individual(ind) for ind in new_population]\n"
   ]
  },
  {
   "cell_type": "code",
   "execution_count": 100,
   "metadata": {},
   "outputs": [
    {
     "name": "stdout",
     "output_type": "stream",
     "text": [
      "[[0, 1, 1, 1, 1, 1, 0, 1, 1, 1], [1, 0, 1, 1, 0, 0, 1, 1, 0, 0], [0, 0, 1, 0, 0, 0, 1, 0, 1, 0], [0, 0, 1, 0, 0, 0, 0, 1, 1, 0], [0, 1, 1, 1, 0, 0, 0, 0, 1, 0], [0, 0, 0, 1, 1, 0, 0, 1, 0, 1], [1, 0, 0, 0, 1, 1, 1, 0, 1, 0], [0, 1, 0, 1, 0, 0, 1, 1, 1, 0], [0, 0, 0, 0, 1, 0, 0, 0, 0, 0], [1, 0, 0, 1, 1, 0, 1, 1, 1, 1]]\n",
      "140\n",
      "193\n",
      "147\n",
      "157\n",
      "169\n",
      "4\n",
      "(0,)\n",
      "(0,)\n",
      "(140,)\n",
      "(193,)\n",
      "(147,)\n",
      "(157,)\n",
      "(0,)\n",
      "(169,)\n",
      "(4,)\n",
      "(0,)\n",
      "Generation 0: Best Individual = [0, 0, 1, 0, 0, 0, 0, 1, 1, 0], Fitness = (193.0,)\n"
     ]
    },
    {
     "name": "stderr",
     "output_type": "stream",
     "text": [
      "  0%|          | 0/1000000 [00:00<?, ?it/s]"
     ]
    },
    {
     "name": "stderr",
     "output_type": "stream",
     "text": [
      "  0%|          | 9/1000000 [00:00<26:26:06, 10.51it/s] \n"
     ]
    },
    {
     "name": "stdout",
     "output_type": "stream",
     "text": [
      "Data shape: (7, 10)\n",
      "Data columns: RangeIndex(start=0, stop=10, step=1)\n",
      "[2, 8, 3, 1, 4, 9, 6, 5, 7]\n",
      "[(2, 8), (8, 4), (8, 1), (3, 1), (4, 9), (4, 6), (9, 3), (9, 7), (5, 4)]\n"
     ]
    },
    {
     "name": "stderr",
     "output_type": "stream",
     "text": [
      "Generating for node: 1: 100%|██████████| 9/9 [00:00<00:00, 230.91it/s]\n"
     ]
    },
    {
     "ename": "IndexError",
     "evalue": "list index out of range",
     "output_type": "error",
     "traceback": [
      "\u001b[1;31m---------------------------------------------------------------------------\u001b[0m",
      "\u001b[1;31mIndexError\u001b[0m                                Traceback (most recent call last)",
      "\u001b[1;32mc:\\Users\\crazy\\Documents\\GitHub\\PhD\\Working_01.ipynb Cell 10\u001b[0m line \u001b[0;36m1\n\u001b[1;32m----> <a href='vscode-notebook-cell:/c%3A/Users/crazy/Documents/GitHub/PhD/Working_01.ipynb#X12sZmlsZQ%3D%3D?line=0'>1</a>\u001b[0m BOA(\u001b[39m10\u001b[39;49m, \u001b[39m10\u001b[39;49m, \u001b[39m7\u001b[39;49m)\n",
      "\u001b[1;32mc:\\Users\\crazy\\Documents\\GitHub\\PhD\\Working_01.ipynb Cell 10\u001b[0m line \u001b[0;36m7\n\u001b[0;32m     <a href='vscode-notebook-cell:/c%3A/Users/crazy/Documents/GitHub/PhD/Working_01.ipynb#X12sZmlsZQ%3D%3D?line=72'>73</a>\u001b[0m \u001b[39m# loop through each generation\u001b[39;00m\n\u001b[0;32m     <a href='vscode-notebook-cell:/c%3A/Users/crazy/Documents/GitHub/PhD/Working_01.ipynb#X12sZmlsZQ%3D%3D?line=73'>74</a>\u001b[0m \u001b[39mfor\u001b[39;00m generation \u001b[39min\u001b[39;00m \u001b[39mrange\u001b[39m(n_generations):\n\u001b[1;32m---> <a href='vscode-notebook-cell:/c%3A/Users/crazy/Documents/GitHub/PhD/Working_01.ipynb#X12sZmlsZQ%3D%3D?line=74'>75</a>\u001b[0m     fitnesses \u001b[39m=\u001b[39m \u001b[39mlist\u001b[39;49m(\u001b[39mmap\u001b[39;49m(toolbox\u001b[39m.\u001b[39;49mevaluate, population)) \u001b[39m# eval pop\u001b[39;00m\n\u001b[0;32m     <a href='vscode-notebook-cell:/c%3A/Users/crazy/Documents/GitHub/PhD/Working_01.ipynb#X12sZmlsZQ%3D%3D?line=76'>77</a>\u001b[0m     \u001b[39mfor\u001b[39;00m ind, fit \u001b[39min\u001b[39;00m \u001b[39mzip\u001b[39m(population, fitnesses):\n\u001b[0;32m     <a href='vscode-notebook-cell:/c%3A/Users/crazy/Documents/GitHub/PhD/Working_01.ipynb#X12sZmlsZQ%3D%3D?line=77'>78</a>\u001b[0m         \u001b[39mprint\u001b[39m(fit)\n",
      "\u001b[1;32mc:\\Users\\crazy\\Documents\\GitHub\\PhD\\Working_01.ipynb Cell 10\u001b[0m line \u001b[0;36m1\n\u001b[0;32m     <a href='vscode-notebook-cell:/c%3A/Users/crazy/Documents/GitHub/PhD/Working_01.ipynb#X12sZmlsZQ%3D%3D?line=14'>15</a>\u001b[0m \u001b[39m# print(individual)\u001b[39;00m\n\u001b[0;32m     <a href='vscode-notebook-cell:/c%3A/Users/crazy/Documents/GitHub/PhD/Working_01.ipynb#X12sZmlsZQ%3D%3D?line=15'>16</a>\u001b[0m \u001b[39mfor\u001b[39;00m i \u001b[39min\u001b[39;00m \u001b[39mrange\u001b[39m(IND_SIZE):\n\u001b[1;32m---> <a href='vscode-notebook-cell:/c%3A/Users/crazy/Documents/GitHub/PhD/Working_01.ipynb#X12sZmlsZQ%3D%3D?line=16'>17</a>\u001b[0m     value \u001b[39m+\u001b[39m\u001b[39m=\u001b[39m items[i][\u001b[39m0\u001b[39m] \u001b[39m*\u001b[39m individual[i]\n\u001b[0;32m     <a href='vscode-notebook-cell:/c%3A/Users/crazy/Documents/GitHub/PhD/Working_01.ipynb#X12sZmlsZQ%3D%3D?line=17'>18</a>\u001b[0m     weight \u001b[39m+\u001b[39m\u001b[39m=\u001b[39m items[i][\u001b[39m1\u001b[39m] \u001b[39m*\u001b[39m individual[i]\n\u001b[0;32m     <a href='vscode-notebook-cell:/c%3A/Users/crazy/Documents/GitHub/PhD/Working_01.ipynb#X12sZmlsZQ%3D%3D?line=18'>19</a>\u001b[0m \u001b[39mif\u001b[39;00m weight \u001b[39m>\u001b[39m capacity:\n",
      "\u001b[1;31mIndexError\u001b[0m: list index out of range"
     ]
    }
   ],
   "source": [
    "BOA(10, 10, 7)"
   ]
  }
 ],
 "metadata": {
  "kernelspec": {
   "display_name": "base",
   "language": "python",
   "name": "python3"
  },
  "language_info": {
   "codemirror_mode": {
    "name": "ipython",
    "version": 3
   },
   "file_extension": ".py",
   "mimetype": "text/x-python",
   "name": "python",
   "nbconvert_exporter": "python",
   "pygments_lexer": "ipython3",
   "version": "3.9.20"
  }
 },
 "nbformat": 4,
 "nbformat_minor": 2
}
